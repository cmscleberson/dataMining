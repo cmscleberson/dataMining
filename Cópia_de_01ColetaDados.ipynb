{
  "nbformat": 4,
  "nbformat_minor": 0,
  "metadata": {
    "colab": {
      "name": "Cópia de 01ColetaDados.ipynb",
      "provenance": [],
      "collapsed_sections": [],
      "mount_file_id": "1I2aJBZhlQxzwt0JC4kRL1DcmyzyzsVGZ",
      "authorship_tag": "ABX9TyNp3vPE1i80i4euWe0j8EpD",
      "include_colab_link": true
    },
    "kernelspec": {
      "name": "python3",
      "display_name": "Python 3"
    }
  },
  "cells": [
    {
      "cell_type": "markdown",
      "metadata": {
        "id": "view-in-github",
        "colab_type": "text"
      },
      "source": [
        "<a href=\"https://colab.research.google.com/github/cmscleberson/dataMining/blob/main/C%C3%B3pia_de_01ColetaDados.ipynb\" target=\"_parent\"><img src=\"https://colab.research.google.com/assets/colab-badge.svg\" alt=\"Open In Colab\"/></a>"
      ]
    },
    {
      "cell_type": "code",
      "metadata": {
        "id": "pLuzLMMYjrRI"
      },
      "source": [
        "from unicodedata import normalize"
      ],
      "execution_count": 295,
      "outputs": []
    },
    {
      "cell_type": "code",
      "metadata": {
        "id": "wE83tq_0kdus"
      },
      "source": [
        "import pandas as pd"
      ],
      "execution_count": 296,
      "outputs": []
    },
    {
      "cell_type": "code",
      "metadata": {
        "id": "lokgVVCDpji7"
      },
      "source": [
        "pd.options.mode.chained_assignment = None"
      ],
      "execution_count": 297,
      "outputs": []
    },
    {
      "cell_type": "markdown",
      "metadata": {
        "id": "xBwG4jI_pmqJ"
      },
      "source": [
        "#### Leitura dos Datasets"
      ]
    },
    {
      "cell_type": "code",
      "metadata": {
        "id": "SQZ1kX5SpyAJ"
      },
      "source": [
        "df_munic = pd.read_csv(\"/content/drive/MyDrive/Colab Notebooks/datasets_v1/municipios.csv\", encoding='utf-8', sep=',', index_col=[0])"
      ],
      "execution_count": 324,
      "outputs": []
    },
    {
      "cell_type": "code",
      "metadata": {
        "id": "06ChZhxtrH0P"
      },
      "source": [
        "df_covid = pd.read_csv(\"/content/drive/MyDrive/Colab Notebooks/datasets_v1/covid.csv\", encoding='utf-8', sep=';', index_col=False)"
      ],
      "execution_count": 325,
      "outputs": []
    },
    {
      "cell_type": "code",
      "metadata": {
        "id": "5SWxy_5drJbj"
      },
      "source": [
        "df_medicos = pd.read_csv(\"/content/drive/MyDrive/Colab Notebooks/datasets_v1/medicos.csv\", encoding='utf-8', index_col=False)"
      ],
      "execution_count": 326,
      "outputs": []
    },
    {
      "cell_type": "code",
      "metadata": {
        "id": "SJGOxcN0rLap"
      },
      "source": [
        "df_pibsemesorreg = pd.read_csv(\"/content/drive/MyDrive/Colab Notebooks/datasets_v1/pibemesor.csv\", encoding='latin1', sep=';',  index_col=False)"
      ],
      "execution_count": 327,
      "outputs": []
    },
    {
      "cell_type": "code",
      "metadata": {
        "id": "MhLSnUOTrOI3"
      },
      "source": [
        "df_respirad = pd.read_csv(\"/content/drive/MyDrive/Colab Notebooks/datasets_v1/respiradores.csv\", encoding='utf-8', sep=',', index_col=False)"
      ],
      "execution_count": 328,
      "outputs": []
    },
    {
      "cell_type": "code",
      "metadata": {
        "id": "EGst6-bdrbIj"
      },
      "source": [
        ""
      ],
      "execution_count": null,
      "outputs": []
    },
    {
      "cell_type": "code",
      "metadata": {
        "colab": {
          "base_uri": "https://localhost:8080/",
          "height": 402
        },
        "id": "Y5tngvFordDE",
        "outputId": "45c19b8a-fc15-4331-965c-f297be6153e0"
      },
      "source": [
        "df_munic"
      ],
      "execution_count": 329,
      "outputs": [
        {
          "output_type": "execute_result",
          "data": {
            "text/html": [
              "<div>\n",
              "<style scoped>\n",
              "    .dataframe tbody tr th:only-of-type {\n",
              "        vertical-align: middle;\n",
              "    }\n",
              "\n",
              "    .dataframe tbody tr th {\n",
              "        vertical-align: top;\n",
              "    }\n",
              "\n",
              "    .dataframe thead th {\n",
              "        text-align: right;\n",
              "    }\n",
              "</style>\n",
              "<table border=\"1\" class=\"dataframe\">\n",
              "  <thead>\n",
              "    <tr style=\"text-align: right;\">\n",
              "      <th></th>\n",
              "      <th>estado</th>\n",
              "      <th>municipio</th>\n",
              "      <th>lat</th>\n",
              "      <th>long</th>\n",
              "    </tr>\n",
              "  </thead>\n",
              "  <tbody>\n",
              "    <tr>\n",
              "      <th>0</th>\n",
              "      <td>RO</td>\n",
              "      <td>Alta Floresta D'Oeste</td>\n",
              "      <td>-11.92830</td>\n",
              "      <td>-61.9953</td>\n",
              "    </tr>\n",
              "    <tr>\n",
              "      <th>1</th>\n",
              "      <td>RO</td>\n",
              "      <td>Alto Alegre dos Parecis</td>\n",
              "      <td>-12.13200</td>\n",
              "      <td>-61.8350</td>\n",
              "    </tr>\n",
              "    <tr>\n",
              "      <th>2</th>\n",
              "      <td>RO</td>\n",
              "      <td>Alto Paraíso</td>\n",
              "      <td>-9.71429</td>\n",
              "      <td>-63.3188</td>\n",
              "    </tr>\n",
              "    <tr>\n",
              "      <th>3</th>\n",
              "      <td>RO</td>\n",
              "      <td>Alvorada D'Oeste</td>\n",
              "      <td>-11.34630</td>\n",
              "      <td>-62.2847</td>\n",
              "    </tr>\n",
              "    <tr>\n",
              "      <th>4</th>\n",
              "      <td>RO</td>\n",
              "      <td>Ariquemes</td>\n",
              "      <td>-9.90571</td>\n",
              "      <td>-63.0325</td>\n",
              "    </tr>\n",
              "    <tr>\n",
              "      <th>...</th>\n",
              "      <td>...</td>\n",
              "      <td>...</td>\n",
              "      <td>...</td>\n",
              "      <td>...</td>\n",
              "    </tr>\n",
              "    <tr>\n",
              "      <th>5565</th>\n",
              "      <td>GO</td>\n",
              "      <td>Vianópolis</td>\n",
              "      <td>-16.74050</td>\n",
              "      <td>-48.5159</td>\n",
              "    </tr>\n",
              "    <tr>\n",
              "      <th>5566</th>\n",
              "      <td>GO</td>\n",
              "      <td>Vicentinópolis</td>\n",
              "      <td>-17.73220</td>\n",
              "      <td>-49.8047</td>\n",
              "    </tr>\n",
              "    <tr>\n",
              "      <th>5567</th>\n",
              "      <td>GO</td>\n",
              "      <td>Vila Boa</td>\n",
              "      <td>-15.03870</td>\n",
              "      <td>-47.0520</td>\n",
              "    </tr>\n",
              "    <tr>\n",
              "      <th>5568</th>\n",
              "      <td>GO</td>\n",
              "      <td>Vila Propício</td>\n",
              "      <td>-15.45420</td>\n",
              "      <td>-48.8819</td>\n",
              "    </tr>\n",
              "    <tr>\n",
              "      <th>5569</th>\n",
              "      <td>DF</td>\n",
              "      <td>Brasília</td>\n",
              "      <td>-15.77950</td>\n",
              "      <td>-47.9297</td>\n",
              "    </tr>\n",
              "  </tbody>\n",
              "</table>\n",
              "<p>5570 rows × 4 columns</p>\n",
              "</div>"
            ],
            "text/plain": [
              "     estado                municipio       lat     long\n",
              "0        RO    Alta Floresta D'Oeste -11.92830 -61.9953\n",
              "1        RO  Alto Alegre dos Parecis -12.13200 -61.8350\n",
              "2        RO             Alto Paraíso  -9.71429 -63.3188\n",
              "3        RO         Alvorada D'Oeste -11.34630 -62.2847\n",
              "4        RO                Ariquemes  -9.90571 -63.0325\n",
              "...     ...                      ...       ...      ...\n",
              "5565     GO               Vianópolis -16.74050 -48.5159\n",
              "5566     GO           Vicentinópolis -17.73220 -49.8047\n",
              "5567     GO                 Vila Boa -15.03870 -47.0520\n",
              "5568     GO            Vila Propício -15.45420 -48.8819\n",
              "5569     DF                 Brasília -15.77950 -47.9297\n",
              "\n",
              "[5570 rows x 4 columns]"
            ]
          },
          "metadata": {
            "tags": []
          },
          "execution_count": 329
        }
      ]
    },
    {
      "cell_type": "markdown",
      "metadata": {
        "id": "CHlv0gw6sgg1"
      },
      "source": [
        "##### Eliminação de Acentos"
      ]
    },
    {
      "cell_type": "code",
      "metadata": {
        "id": "SJUFqv0iskVT"
      },
      "source": [
        "df_munic['municipio'] = df_munic['municipio'].str.normalize('NFKD').str.encode('ASCII', errors='ignore').str.decode('ASCII')"
      ],
      "execution_count": 330,
      "outputs": []
    },
    {
      "cell_type": "code",
      "metadata": {
        "id": "RR5jOVTQuY2t"
      },
      "source": [
        ""
      ],
      "execution_count": null,
      "outputs": []
    },
    {
      "cell_type": "markdown",
      "metadata": {
        "id": "NHN3uEx5sweB"
      },
      "source": [
        "##### Eliminação de Caracteres Especiais"
      ]
    },
    {
      "cell_type": "code",
      "metadata": {
        "id": "jzt8wZbIs3RP"
      },
      "source": [
        "df_munic['municipio'] = df_munic['municipio'].str.replace('[-,_]',' ')\n",
        "df_munic['municipio'] = df_munic['municipio'].str.replace(\"'\",' ')"
      ],
      "execution_count": 331,
      "outputs": []
    },
    {
      "cell_type": "code",
      "metadata": {
        "id": "6aBM-AmEuawr"
      },
      "source": [
        ""
      ],
      "execution_count": null,
      "outputs": []
    },
    {
      "cell_type": "markdown",
      "metadata": {
        "id": "5G2cuwDLs_Xb"
      },
      "source": [
        "##### Conversão Para Minúsculas"
      ]
    },
    {
      "cell_type": "code",
      "metadata": {
        "id": "TxWWxymvtAVk"
      },
      "source": [
        "df_munic['municipio'] = df_munic['municipio'].str.lower()"
      ],
      "execution_count": 332,
      "outputs": []
    },
    {
      "cell_type": "code",
      "metadata": {
        "colab": {
          "base_uri": "https://localhost:8080/",
          "height": 402
        },
        "id": "5mWv1mjUtFtm",
        "outputId": "6eef2d33-f2ef-4dc1-d418-3ec0e0a3724d"
      },
      "source": [
        "df_munic"
      ],
      "execution_count": 333,
      "outputs": [
        {
          "output_type": "execute_result",
          "data": {
            "text/html": [
              "<div>\n",
              "<style scoped>\n",
              "    .dataframe tbody tr th:only-of-type {\n",
              "        vertical-align: middle;\n",
              "    }\n",
              "\n",
              "    .dataframe tbody tr th {\n",
              "        vertical-align: top;\n",
              "    }\n",
              "\n",
              "    .dataframe thead th {\n",
              "        text-align: right;\n",
              "    }\n",
              "</style>\n",
              "<table border=\"1\" class=\"dataframe\">\n",
              "  <thead>\n",
              "    <tr style=\"text-align: right;\">\n",
              "      <th></th>\n",
              "      <th>estado</th>\n",
              "      <th>municipio</th>\n",
              "      <th>lat</th>\n",
              "      <th>long</th>\n",
              "    </tr>\n",
              "  </thead>\n",
              "  <tbody>\n",
              "    <tr>\n",
              "      <th>0</th>\n",
              "      <td>RO</td>\n",
              "      <td>alta floresta d oeste</td>\n",
              "      <td>-11.92830</td>\n",
              "      <td>-61.9953</td>\n",
              "    </tr>\n",
              "    <tr>\n",
              "      <th>1</th>\n",
              "      <td>RO</td>\n",
              "      <td>alto alegre dos parecis</td>\n",
              "      <td>-12.13200</td>\n",
              "      <td>-61.8350</td>\n",
              "    </tr>\n",
              "    <tr>\n",
              "      <th>2</th>\n",
              "      <td>RO</td>\n",
              "      <td>alto paraiso</td>\n",
              "      <td>-9.71429</td>\n",
              "      <td>-63.3188</td>\n",
              "    </tr>\n",
              "    <tr>\n",
              "      <th>3</th>\n",
              "      <td>RO</td>\n",
              "      <td>alvorada d oeste</td>\n",
              "      <td>-11.34630</td>\n",
              "      <td>-62.2847</td>\n",
              "    </tr>\n",
              "    <tr>\n",
              "      <th>4</th>\n",
              "      <td>RO</td>\n",
              "      <td>ariquemes</td>\n",
              "      <td>-9.90571</td>\n",
              "      <td>-63.0325</td>\n",
              "    </tr>\n",
              "    <tr>\n",
              "      <th>...</th>\n",
              "      <td>...</td>\n",
              "      <td>...</td>\n",
              "      <td>...</td>\n",
              "      <td>...</td>\n",
              "    </tr>\n",
              "    <tr>\n",
              "      <th>5565</th>\n",
              "      <td>GO</td>\n",
              "      <td>vianopolis</td>\n",
              "      <td>-16.74050</td>\n",
              "      <td>-48.5159</td>\n",
              "    </tr>\n",
              "    <tr>\n",
              "      <th>5566</th>\n",
              "      <td>GO</td>\n",
              "      <td>vicentinopolis</td>\n",
              "      <td>-17.73220</td>\n",
              "      <td>-49.8047</td>\n",
              "    </tr>\n",
              "    <tr>\n",
              "      <th>5567</th>\n",
              "      <td>GO</td>\n",
              "      <td>vila boa</td>\n",
              "      <td>-15.03870</td>\n",
              "      <td>-47.0520</td>\n",
              "    </tr>\n",
              "    <tr>\n",
              "      <th>5568</th>\n",
              "      <td>GO</td>\n",
              "      <td>vila propicio</td>\n",
              "      <td>-15.45420</td>\n",
              "      <td>-48.8819</td>\n",
              "    </tr>\n",
              "    <tr>\n",
              "      <th>5569</th>\n",
              "      <td>DF</td>\n",
              "      <td>brasilia</td>\n",
              "      <td>-15.77950</td>\n",
              "      <td>-47.9297</td>\n",
              "    </tr>\n",
              "  </tbody>\n",
              "</table>\n",
              "<p>5570 rows × 4 columns</p>\n",
              "</div>"
            ],
            "text/plain": [
              "     estado                municipio       lat     long\n",
              "0        RO    alta floresta d oeste -11.92830 -61.9953\n",
              "1        RO  alto alegre dos parecis -12.13200 -61.8350\n",
              "2        RO             alto paraiso  -9.71429 -63.3188\n",
              "3        RO         alvorada d oeste -11.34630 -62.2847\n",
              "4        RO                ariquemes  -9.90571 -63.0325\n",
              "...     ...                      ...       ...      ...\n",
              "5565     GO               vianopolis -16.74050 -48.5159\n",
              "5566     GO           vicentinopolis -17.73220 -49.8047\n",
              "5567     GO                 vila boa -15.03870 -47.0520\n",
              "5568     GO            vila propicio -15.45420 -48.8819\n",
              "5569     DF                 brasilia -15.77950 -47.9297\n",
              "\n",
              "[5570 rows x 4 columns]"
            ]
          },
          "metadata": {
            "tags": []
          },
          "execution_count": 333
        }
      ]
    },
    {
      "cell_type": "code",
      "metadata": {
        "id": "Mkp2WnjqufQp"
      },
      "source": [
        ""
      ],
      "execution_count": null,
      "outputs": []
    },
    {
      "cell_type": "code",
      "metadata": {
        "colab": {
          "base_uri": "https://localhost:8080/",
          "height": 402
        },
        "id": "YWjvS3fOtJid",
        "outputId": "44cc32bd-bfe2-4501-d62e-7bb4024ccff2"
      },
      "source": [
        "df_covid"
      ],
      "execution_count": 334,
      "outputs": [
        {
          "output_type": "execute_result",
          "data": {
            "text/html": [
              "<div>\n",
              "<style scoped>\n",
              "    .dataframe tbody tr th:only-of-type {\n",
              "        vertical-align: middle;\n",
              "    }\n",
              "\n",
              "    .dataframe tbody tr th {\n",
              "        vertical-align: top;\n",
              "    }\n",
              "\n",
              "    .dataframe thead th {\n",
              "        text-align: right;\n",
              "    }\n",
              "</style>\n",
              "<table border=\"1\" class=\"dataframe\">\n",
              "  <thead>\n",
              "    <tr style=\"text-align: right;\">\n",
              "      <th></th>\n",
              "      <th>estado</th>\n",
              "      <th>municipio</th>\n",
              "      <th>data</th>\n",
              "      <th>casos</th>\n",
              "      <th>obitos</th>\n",
              "    </tr>\n",
              "  </thead>\n",
              "  <tbody>\n",
              "    <tr>\n",
              "      <th>0</th>\n",
              "      <td>RO</td>\n",
              "      <td>Alta Floresta D'Oeste</td>\n",
              "      <td>27/03/2020</td>\n",
              "      <td>0</td>\n",
              "      <td>0</td>\n",
              "    </tr>\n",
              "    <tr>\n",
              "      <th>1</th>\n",
              "      <td>RO</td>\n",
              "      <td>Alta Floresta D'Oeste</td>\n",
              "      <td>28/03/2020</td>\n",
              "      <td>0</td>\n",
              "      <td>0</td>\n",
              "    </tr>\n",
              "    <tr>\n",
              "      <th>2</th>\n",
              "      <td>RO</td>\n",
              "      <td>Alta Floresta D'Oeste</td>\n",
              "      <td>29/03/2020</td>\n",
              "      <td>0</td>\n",
              "      <td>0</td>\n",
              "    </tr>\n",
              "    <tr>\n",
              "      <th>3</th>\n",
              "      <td>RO</td>\n",
              "      <td>Alta Floresta D'Oeste</td>\n",
              "      <td>30/03/2020</td>\n",
              "      <td>0</td>\n",
              "      <td>0</td>\n",
              "    </tr>\n",
              "    <tr>\n",
              "      <th>4</th>\n",
              "      <td>RO</td>\n",
              "      <td>Alta Floresta D'Oeste</td>\n",
              "      <td>31/03/2020</td>\n",
              "      <td>0</td>\n",
              "      <td>0</td>\n",
              "    </tr>\n",
              "    <tr>\n",
              "      <th>...</th>\n",
              "      <td>...</td>\n",
              "      <td>...</td>\n",
              "      <td>...</td>\n",
              "      <td>...</td>\n",
              "      <td>...</td>\n",
              "    </tr>\n",
              "    <tr>\n",
              "      <th>1040626</th>\n",
              "      <td>PR</td>\n",
              "      <td>Santo Antônio do Sudoeste</td>\n",
              "      <td>23/10/2020</td>\n",
              "      <td>1</td>\n",
              "      <td>0</td>\n",
              "    </tr>\n",
              "    <tr>\n",
              "      <th>1040627</th>\n",
              "      <td>PR</td>\n",
              "      <td>Santo Antônio do Sudoeste</td>\n",
              "      <td>24/10/2020</td>\n",
              "      <td>1</td>\n",
              "      <td>0</td>\n",
              "    </tr>\n",
              "    <tr>\n",
              "      <th>1040628</th>\n",
              "      <td>PR</td>\n",
              "      <td>Santo Antônio do Sudoeste</td>\n",
              "      <td>25/10/2020</td>\n",
              "      <td>0</td>\n",
              "      <td>0</td>\n",
              "    </tr>\n",
              "    <tr>\n",
              "      <th>1040629</th>\n",
              "      <td>PR</td>\n",
              "      <td>Santo Antônio do Sudoeste</td>\n",
              "      <td>26/10/2020</td>\n",
              "      <td>0</td>\n",
              "      <td>0</td>\n",
              "    </tr>\n",
              "    <tr>\n",
              "      <th>1040630</th>\n",
              "      <td>PR</td>\n",
              "      <td>Santo Antônio do Sudoeste</td>\n",
              "      <td>27/10/2020</td>\n",
              "      <td>0</td>\n",
              "      <td>0</td>\n",
              "    </tr>\n",
              "  </tbody>\n",
              "</table>\n",
              "<p>1040631 rows × 5 columns</p>\n",
              "</div>"
            ],
            "text/plain": [
              "        estado                  municipio        data  casos  obitos\n",
              "0           RO      Alta Floresta D'Oeste  27/03/2020      0       0\n",
              "1           RO      Alta Floresta D'Oeste  28/03/2020      0       0\n",
              "2           RO      Alta Floresta D'Oeste  29/03/2020      0       0\n",
              "3           RO      Alta Floresta D'Oeste  30/03/2020      0       0\n",
              "4           RO      Alta Floresta D'Oeste  31/03/2020      0       0\n",
              "...        ...                        ...         ...    ...     ...\n",
              "1040626     PR  Santo Antônio do Sudoeste  23/10/2020      1       0\n",
              "1040627     PR  Santo Antônio do Sudoeste  24/10/2020      1       0\n",
              "1040628     PR  Santo Antônio do Sudoeste  25/10/2020      0       0\n",
              "1040629     PR  Santo Antônio do Sudoeste  26/10/2020      0       0\n",
              "1040630     PR  Santo Antônio do Sudoeste  27/10/2020      0       0\n",
              "\n",
              "[1040631 rows x 5 columns]"
            ]
          },
          "metadata": {
            "tags": []
          },
          "execution_count": 334
        }
      ]
    },
    {
      "cell_type": "code",
      "metadata": {
        "id": "NOyVyHAFtOks"
      },
      "source": [
        "df_covid['municipio'] =df_covid['municipio'].str.normalize('NFKD').str.encode('ASCII', errors='ignore').str.decode('ASCII')\n",
        "df_covid['municipio'] = df_covid['municipio'].str.replace('[-,_]',' ')\n",
        "df_covid['municipio'] = df_covid['municipio'].str.replace(\"'\",' ')\n",
        "df_covid['municipio'] = df_covid['municipio'].str.lower()"
      ],
      "execution_count": 335,
      "outputs": []
    },
    {
      "cell_type": "code",
      "metadata": {
        "colab": {
          "base_uri": "https://localhost:8080/",
          "height": 402
        },
        "id": "oPh78M0wtU13",
        "outputId": "d5495231-3866-4a7b-cbc6-a47e98e8d855"
      },
      "source": [
        "df_covid"
      ],
      "execution_count": 336,
      "outputs": [
        {
          "output_type": "execute_result",
          "data": {
            "text/html": [
              "<div>\n",
              "<style scoped>\n",
              "    .dataframe tbody tr th:only-of-type {\n",
              "        vertical-align: middle;\n",
              "    }\n",
              "\n",
              "    .dataframe tbody tr th {\n",
              "        vertical-align: top;\n",
              "    }\n",
              "\n",
              "    .dataframe thead th {\n",
              "        text-align: right;\n",
              "    }\n",
              "</style>\n",
              "<table border=\"1\" class=\"dataframe\">\n",
              "  <thead>\n",
              "    <tr style=\"text-align: right;\">\n",
              "      <th></th>\n",
              "      <th>estado</th>\n",
              "      <th>municipio</th>\n",
              "      <th>data</th>\n",
              "      <th>casos</th>\n",
              "      <th>obitos</th>\n",
              "    </tr>\n",
              "  </thead>\n",
              "  <tbody>\n",
              "    <tr>\n",
              "      <th>0</th>\n",
              "      <td>RO</td>\n",
              "      <td>alta floresta d oeste</td>\n",
              "      <td>27/03/2020</td>\n",
              "      <td>0</td>\n",
              "      <td>0</td>\n",
              "    </tr>\n",
              "    <tr>\n",
              "      <th>1</th>\n",
              "      <td>RO</td>\n",
              "      <td>alta floresta d oeste</td>\n",
              "      <td>28/03/2020</td>\n",
              "      <td>0</td>\n",
              "      <td>0</td>\n",
              "    </tr>\n",
              "    <tr>\n",
              "      <th>2</th>\n",
              "      <td>RO</td>\n",
              "      <td>alta floresta d oeste</td>\n",
              "      <td>29/03/2020</td>\n",
              "      <td>0</td>\n",
              "      <td>0</td>\n",
              "    </tr>\n",
              "    <tr>\n",
              "      <th>3</th>\n",
              "      <td>RO</td>\n",
              "      <td>alta floresta d oeste</td>\n",
              "      <td>30/03/2020</td>\n",
              "      <td>0</td>\n",
              "      <td>0</td>\n",
              "    </tr>\n",
              "    <tr>\n",
              "      <th>4</th>\n",
              "      <td>RO</td>\n",
              "      <td>alta floresta d oeste</td>\n",
              "      <td>31/03/2020</td>\n",
              "      <td>0</td>\n",
              "      <td>0</td>\n",
              "    </tr>\n",
              "    <tr>\n",
              "      <th>...</th>\n",
              "      <td>...</td>\n",
              "      <td>...</td>\n",
              "      <td>...</td>\n",
              "      <td>...</td>\n",
              "      <td>...</td>\n",
              "    </tr>\n",
              "    <tr>\n",
              "      <th>1040626</th>\n",
              "      <td>PR</td>\n",
              "      <td>santo antonio do sudoeste</td>\n",
              "      <td>23/10/2020</td>\n",
              "      <td>1</td>\n",
              "      <td>0</td>\n",
              "    </tr>\n",
              "    <tr>\n",
              "      <th>1040627</th>\n",
              "      <td>PR</td>\n",
              "      <td>santo antonio do sudoeste</td>\n",
              "      <td>24/10/2020</td>\n",
              "      <td>1</td>\n",
              "      <td>0</td>\n",
              "    </tr>\n",
              "    <tr>\n",
              "      <th>1040628</th>\n",
              "      <td>PR</td>\n",
              "      <td>santo antonio do sudoeste</td>\n",
              "      <td>25/10/2020</td>\n",
              "      <td>0</td>\n",
              "      <td>0</td>\n",
              "    </tr>\n",
              "    <tr>\n",
              "      <th>1040629</th>\n",
              "      <td>PR</td>\n",
              "      <td>santo antonio do sudoeste</td>\n",
              "      <td>26/10/2020</td>\n",
              "      <td>0</td>\n",
              "      <td>0</td>\n",
              "    </tr>\n",
              "    <tr>\n",
              "      <th>1040630</th>\n",
              "      <td>PR</td>\n",
              "      <td>santo antonio do sudoeste</td>\n",
              "      <td>27/10/2020</td>\n",
              "      <td>0</td>\n",
              "      <td>0</td>\n",
              "    </tr>\n",
              "  </tbody>\n",
              "</table>\n",
              "<p>1040631 rows × 5 columns</p>\n",
              "</div>"
            ],
            "text/plain": [
              "        estado                  municipio        data  casos  obitos\n",
              "0           RO      alta floresta d oeste  27/03/2020      0       0\n",
              "1           RO      alta floresta d oeste  28/03/2020      0       0\n",
              "2           RO      alta floresta d oeste  29/03/2020      0       0\n",
              "3           RO      alta floresta d oeste  30/03/2020      0       0\n",
              "4           RO      alta floresta d oeste  31/03/2020      0       0\n",
              "...        ...                        ...         ...    ...     ...\n",
              "1040626     PR  santo antonio do sudoeste  23/10/2020      1       0\n",
              "1040627     PR  santo antonio do sudoeste  24/10/2020      1       0\n",
              "1040628     PR  santo antonio do sudoeste  25/10/2020      0       0\n",
              "1040629     PR  santo antonio do sudoeste  26/10/2020      0       0\n",
              "1040630     PR  santo antonio do sudoeste  27/10/2020      0       0\n",
              "\n",
              "[1040631 rows x 5 columns]"
            ]
          },
          "metadata": {
            "tags": []
          },
          "execution_count": 336
        }
      ]
    },
    {
      "cell_type": "code",
      "metadata": {
        "id": "yT3L6pPsbZU7"
      },
      "source": [
        ""
      ],
      "execution_count": null,
      "outputs": []
    },
    {
      "cell_type": "markdown",
      "metadata": {
        "id": "4pie3_b4trDE"
      },
      "source": [
        "##### Concatenando Dois Datasets"
      ]
    },
    {
      "cell_type": "code",
      "metadata": {
        "id": "Z2Y4Q2lotiyJ"
      },
      "source": [
        "df_covid = pd.merge(df_covid, df_munic, on='municipio', how='right')\n"
      ],
      "execution_count": 339,
      "outputs": []
    },
    {
      "cell_type": "code",
      "metadata": {
        "colab": {
          "base_uri": "https://localhost:8080/",
          "height": 402
        },
        "id": "h1Fwmy27cpXN",
        "outputId": "bb957c54-e956-4c48-9df0-187b82879bdd"
      },
      "source": [
        "df_covid"
      ],
      "execution_count": 340,
      "outputs": [
        {
          "output_type": "execute_result",
          "data": {
            "text/html": [
              "<div>\n",
              "<style scoped>\n",
              "    .dataframe tbody tr th:only-of-type {\n",
              "        vertical-align: middle;\n",
              "    }\n",
              "\n",
              "    .dataframe tbody tr th {\n",
              "        vertical-align: top;\n",
              "    }\n",
              "\n",
              "    .dataframe thead th {\n",
              "        text-align: right;\n",
              "    }\n",
              "</style>\n",
              "<table border=\"1\" class=\"dataframe\">\n",
              "  <thead>\n",
              "    <tr style=\"text-align: right;\">\n",
              "      <th></th>\n",
              "      <th>estado_x</th>\n",
              "      <th>municipio</th>\n",
              "      <th>data</th>\n",
              "      <th>casos</th>\n",
              "      <th>obitos</th>\n",
              "      <th>estado_y</th>\n",
              "      <th>lat</th>\n",
              "      <th>long</th>\n",
              "    </tr>\n",
              "  </thead>\n",
              "  <tbody>\n",
              "    <tr>\n",
              "      <th>0</th>\n",
              "      <td>RO</td>\n",
              "      <td>alta floresta d oeste</td>\n",
              "      <td>27/03/2020</td>\n",
              "      <td>0.0</td>\n",
              "      <td>0.0</td>\n",
              "      <td>RO</td>\n",
              "      <td>-11.9283</td>\n",
              "      <td>-61.9953</td>\n",
              "    </tr>\n",
              "    <tr>\n",
              "      <th>1</th>\n",
              "      <td>RO</td>\n",
              "      <td>alta floresta d oeste</td>\n",
              "      <td>28/03/2020</td>\n",
              "      <td>0.0</td>\n",
              "      <td>0.0</td>\n",
              "      <td>RO</td>\n",
              "      <td>-11.9283</td>\n",
              "      <td>-61.9953</td>\n",
              "    </tr>\n",
              "    <tr>\n",
              "      <th>2</th>\n",
              "      <td>RO</td>\n",
              "      <td>alta floresta d oeste</td>\n",
              "      <td>29/03/2020</td>\n",
              "      <td>0.0</td>\n",
              "      <td>0.0</td>\n",
              "      <td>RO</td>\n",
              "      <td>-11.9283</td>\n",
              "      <td>-61.9953</td>\n",
              "    </tr>\n",
              "    <tr>\n",
              "      <th>3</th>\n",
              "      <td>RO</td>\n",
              "      <td>alta floresta d oeste</td>\n",
              "      <td>30/03/2020</td>\n",
              "      <td>0.0</td>\n",
              "      <td>0.0</td>\n",
              "      <td>RO</td>\n",
              "      <td>-11.9283</td>\n",
              "      <td>-61.9953</td>\n",
              "    </tr>\n",
              "    <tr>\n",
              "      <th>4</th>\n",
              "      <td>RO</td>\n",
              "      <td>alta floresta d oeste</td>\n",
              "      <td>31/03/2020</td>\n",
              "      <td>0.0</td>\n",
              "      <td>0.0</td>\n",
              "      <td>RO</td>\n",
              "      <td>-11.9283</td>\n",
              "      <td>-61.9953</td>\n",
              "    </tr>\n",
              "    <tr>\n",
              "      <th>...</th>\n",
              "      <td>...</td>\n",
              "      <td>...</td>\n",
              "      <td>...</td>\n",
              "      <td>...</td>\n",
              "      <td>...</td>\n",
              "      <td>...</td>\n",
              "      <td>...</td>\n",
              "      <td>...</td>\n",
              "    </tr>\n",
              "    <tr>\n",
              "      <th>1163852</th>\n",
              "      <td>NaN</td>\n",
              "      <td>vianopolis</td>\n",
              "      <td>NaN</td>\n",
              "      <td>NaN</td>\n",
              "      <td>NaN</td>\n",
              "      <td>GO</td>\n",
              "      <td>-16.7405</td>\n",
              "      <td>-48.5159</td>\n",
              "    </tr>\n",
              "    <tr>\n",
              "      <th>1163853</th>\n",
              "      <td>NaN</td>\n",
              "      <td>vicentinopolis</td>\n",
              "      <td>NaN</td>\n",
              "      <td>NaN</td>\n",
              "      <td>NaN</td>\n",
              "      <td>GO</td>\n",
              "      <td>-17.7322</td>\n",
              "      <td>-49.8047</td>\n",
              "    </tr>\n",
              "    <tr>\n",
              "      <th>1163854</th>\n",
              "      <td>NaN</td>\n",
              "      <td>vila boa</td>\n",
              "      <td>NaN</td>\n",
              "      <td>NaN</td>\n",
              "      <td>NaN</td>\n",
              "      <td>GO</td>\n",
              "      <td>-15.0387</td>\n",
              "      <td>-47.0520</td>\n",
              "    </tr>\n",
              "    <tr>\n",
              "      <th>1163855</th>\n",
              "      <td>NaN</td>\n",
              "      <td>vila propicio</td>\n",
              "      <td>NaN</td>\n",
              "      <td>NaN</td>\n",
              "      <td>NaN</td>\n",
              "      <td>GO</td>\n",
              "      <td>-15.4542</td>\n",
              "      <td>-48.8819</td>\n",
              "    </tr>\n",
              "    <tr>\n",
              "      <th>1163856</th>\n",
              "      <td>NaN</td>\n",
              "      <td>brasilia</td>\n",
              "      <td>NaN</td>\n",
              "      <td>NaN</td>\n",
              "      <td>NaN</td>\n",
              "      <td>DF</td>\n",
              "      <td>-15.7795</td>\n",
              "      <td>-47.9297</td>\n",
              "    </tr>\n",
              "  </tbody>\n",
              "</table>\n",
              "<p>1163857 rows × 8 columns</p>\n",
              "</div>"
            ],
            "text/plain": [
              "        estado_x              municipio        data  ...  estado_y      lat     long\n",
              "0             RO  alta floresta d oeste  27/03/2020  ...        RO -11.9283 -61.9953\n",
              "1             RO  alta floresta d oeste  28/03/2020  ...        RO -11.9283 -61.9953\n",
              "2             RO  alta floresta d oeste  29/03/2020  ...        RO -11.9283 -61.9953\n",
              "3             RO  alta floresta d oeste  30/03/2020  ...        RO -11.9283 -61.9953\n",
              "4             RO  alta floresta d oeste  31/03/2020  ...        RO -11.9283 -61.9953\n",
              "...          ...                    ...         ...  ...       ...      ...      ...\n",
              "1163852      NaN             vianopolis         NaN  ...        GO -16.7405 -48.5159\n",
              "1163853      NaN         vicentinopolis         NaN  ...        GO -17.7322 -49.8047\n",
              "1163854      NaN               vila boa         NaN  ...        GO -15.0387 -47.0520\n",
              "1163855      NaN          vila propicio         NaN  ...        GO -15.4542 -48.8819\n",
              "1163856      NaN               brasilia         NaN  ...        DF -15.7795 -47.9297\n",
              "\n",
              "[1163857 rows x 8 columns]"
            ]
          },
          "metadata": {
            "tags": []
          },
          "execution_count": 340
        }
      ]
    },
    {
      "cell_type": "code",
      "metadata": {
        "id": "4IzNRENGcpav"
      },
      "source": [
        ""
      ],
      "execution_count": null,
      "outputs": []
    },
    {
      "cell_type": "code",
      "metadata": {
        "id": "RzykQrbDdAmw"
      },
      "source": [
        ""
      ],
      "execution_count": null,
      "outputs": []
    },
    {
      "cell_type": "code",
      "metadata": {
        "id": "2jvHMixBdAqj"
      },
      "source": [
        ""
      ],
      "execution_count": null,
      "outputs": []
    },
    {
      "cell_type": "code",
      "metadata": {
        "id": "mzyYlUTedAtb"
      },
      "source": [
        ""
      ],
      "execution_count": null,
      "outputs": []
    },
    {
      "cell_type": "code",
      "metadata": {
        "id": "NU2Vcr8zdAxJ"
      },
      "source": [
        ""
      ],
      "execution_count": null,
      "outputs": []
    },
    {
      "cell_type": "code",
      "metadata": {
        "id": "fUUs9eXHdA0N"
      },
      "source": [
        ""
      ],
      "execution_count": null,
      "outputs": []
    },
    {
      "cell_type": "code",
      "metadata": {
        "id": "TGveRfljdA3l"
      },
      "source": [
        ""
      ],
      "execution_count": null,
      "outputs": []
    },
    {
      "cell_type": "markdown",
      "metadata": {
        "id": "zUBUOatFtjcm"
      },
      "source": [
        "##### Análise da Concatenção (não podem existir coordenadas nulas)"
      ]
    },
    {
      "cell_type": "code",
      "metadata": {
        "id": "ltX-ELI0mEg-"
      },
      "source": [
        ""
      ],
      "execution_count": null,
      "outputs": []
    },
    {
      "cell_type": "code",
      "metadata": {
        "id": "5HpFwdS8mEsD"
      },
      "source": [
        ""
      ],
      "execution_count": null,
      "outputs": []
    },
    {
      "cell_type": "code",
      "metadata": {
        "id": "PebKqEFsm_2A"
      },
      "source": [
        "df_cont = df_covid[df_covid['lat'].isna()]\n"
      ],
      "execution_count": 341,
      "outputs": []
    },
    {
      "cell_type": "code",
      "metadata": {
        "colab": {
          "base_uri": "https://localhost:8080/",
          "height": 47
        },
        "id": "lq78zE-9m_5c",
        "outputId": "94e46fac-96e7-4b13-862b-4535b44a9b8d"
      },
      "source": [
        "df_cont"
      ],
      "execution_count": 342,
      "outputs": [
        {
          "output_type": "execute_result",
          "data": {
            "text/html": [
              "<div>\n",
              "<style scoped>\n",
              "    .dataframe tbody tr th:only-of-type {\n",
              "        vertical-align: middle;\n",
              "    }\n",
              "\n",
              "    .dataframe tbody tr th {\n",
              "        vertical-align: top;\n",
              "    }\n",
              "\n",
              "    .dataframe thead th {\n",
              "        text-align: right;\n",
              "    }\n",
              "</style>\n",
              "<table border=\"1\" class=\"dataframe\">\n",
              "  <thead>\n",
              "    <tr style=\"text-align: right;\">\n",
              "      <th></th>\n",
              "      <th>estado_x</th>\n",
              "      <th>municipio</th>\n",
              "      <th>data</th>\n",
              "      <th>casos</th>\n",
              "      <th>obitos</th>\n",
              "      <th>estado_y</th>\n",
              "      <th>lat</th>\n",
              "      <th>long</th>\n",
              "    </tr>\n",
              "  </thead>\n",
              "  <tbody>\n",
              "  </tbody>\n",
              "</table>\n",
              "</div>"
            ],
            "text/plain": [
              "Empty DataFrame\n",
              "Columns: [estado_x, municipio, data, casos, obitos, estado_y, lat, long]\n",
              "Index: []"
            ]
          },
          "metadata": {
            "tags": []
          },
          "execution_count": 342
        }
      ]
    },
    {
      "cell_type": "code",
      "metadata": {
        "id": "vhHMuYOPP5Hs"
      },
      "source": [
        ""
      ],
      "execution_count": null,
      "outputs": []
    },
    {
      "cell_type": "code",
      "metadata": {
        "id": "3ipRO3mdnVWm"
      },
      "source": [
        "df_nulos = df_covid[df_covid['estado_x'].isna()]"
      ],
      "execution_count": 243,
      "outputs": []
    },
    {
      "cell_type": "code",
      "metadata": {
        "colab": {
          "base_uri": "https://localhost:8080/",
          "height": 402
        },
        "id": "Ff_09p7xlf_T",
        "outputId": "91cdcb80-10f5-451b-ca34-2e79a11ba111"
      },
      "source": [
        "df_nulos"
      ],
      "execution_count": 244,
      "outputs": [
        {
          "output_type": "execute_result",
          "data": {
            "text/html": [
              "<div>\n",
              "<style scoped>\n",
              "    .dataframe tbody tr th:only-of-type {\n",
              "        vertical-align: middle;\n",
              "    }\n",
              "\n",
              "    .dataframe tbody tr th {\n",
              "        vertical-align: top;\n",
              "    }\n",
              "\n",
              "    .dataframe thead th {\n",
              "        text-align: right;\n",
              "    }\n",
              "</style>\n",
              "<table border=\"1\" class=\"dataframe\">\n",
              "  <thead>\n",
              "    <tr style=\"text-align: right;\">\n",
              "      <th></th>\n",
              "      <th>estado_x</th>\n",
              "      <th>municipio</th>\n",
              "      <th>data</th>\n",
              "      <th>casos</th>\n",
              "      <th>obitos</th>\n",
              "      <th>estado_y</th>\n",
              "      <th>lat</th>\n",
              "      <th>long</th>\n",
              "    </tr>\n",
              "  </thead>\n",
              "  <tbody>\n",
              "    <tr>\n",
              "      <th>113216</th>\n",
              "      <td>NaN</td>\n",
              "      <td>fortaleza do tabocao</td>\n",
              "      <td>NaN</td>\n",
              "      <td>NaN</td>\n",
              "      <td>NaN</td>\n",
              "      <td>TO</td>\n",
              "      <td>-9.05611</td>\n",
              "      <td>-48.5206</td>\n",
              "    </tr>\n",
              "    <tr>\n",
              "      <th>334525</th>\n",
              "      <td>NaN</td>\n",
              "      <td>augusto severo (campo grande)</td>\n",
              "      <td>NaN</td>\n",
              "      <td>NaN</td>\n",
              "      <td>NaN</td>\n",
              "      <td>RN</td>\n",
              "      <td>-5.86206</td>\n",
              "      <td>-37.3135</td>\n",
              "    </tr>\n",
              "    <tr>\n",
              "      <th>348190</th>\n",
              "      <td>NaN</td>\n",
              "      <td>januario cicco (boa saude)</td>\n",
              "      <td>NaN</td>\n",
              "      <td>NaN</td>\n",
              "      <td>NaN</td>\n",
              "      <td>RN</td>\n",
              "      <td>-6.16566</td>\n",
              "      <td>-35.6219</td>\n",
              "    </tr>\n",
              "    <tr>\n",
              "      <th>506303</th>\n",
              "      <td>NaN</td>\n",
              "      <td>sao caetano</td>\n",
              "      <td>NaN</td>\n",
              "      <td>NaN</td>\n",
              "      <td>NaN</td>\n",
              "      <td>PE</td>\n",
              "      <td>-8.33763</td>\n",
              "      <td>-36.2869</td>\n",
              "    </tr>\n",
              "    <tr>\n",
              "      <th>629768</th>\n",
              "      <td>NaN</td>\n",
              "      <td>muquem de sao francisco</td>\n",
              "      <td>NaN</td>\n",
              "      <td>NaN</td>\n",
              "      <td>NaN</td>\n",
              "      <td>BA</td>\n",
              "      <td>-12.06500</td>\n",
              "      <td>-43.5497</td>\n",
              "    </tr>\n",
              "    <tr>\n",
              "      <th>...</th>\n",
              "      <td>...</td>\n",
              "      <td>...</td>\n",
              "      <td>...</td>\n",
              "      <td>...</td>\n",
              "      <td>...</td>\n",
              "      <td>...</td>\n",
              "      <td>...</td>\n",
              "      <td>...</td>\n",
              "    </tr>\n",
              "    <tr>\n",
              "      <th>1163852</th>\n",
              "      <td>NaN</td>\n",
              "      <td>vianopolis</td>\n",
              "      <td>NaN</td>\n",
              "      <td>NaN</td>\n",
              "      <td>NaN</td>\n",
              "      <td>GO</td>\n",
              "      <td>-16.74050</td>\n",
              "      <td>-48.5159</td>\n",
              "    </tr>\n",
              "    <tr>\n",
              "      <th>1163853</th>\n",
              "      <td>NaN</td>\n",
              "      <td>vicentinopolis</td>\n",
              "      <td>NaN</td>\n",
              "      <td>NaN</td>\n",
              "      <td>NaN</td>\n",
              "      <td>GO</td>\n",
              "      <td>-17.73220</td>\n",
              "      <td>-49.8047</td>\n",
              "    </tr>\n",
              "    <tr>\n",
              "      <th>1163854</th>\n",
              "      <td>NaN</td>\n",
              "      <td>vila boa</td>\n",
              "      <td>NaN</td>\n",
              "      <td>NaN</td>\n",
              "      <td>NaN</td>\n",
              "      <td>GO</td>\n",
              "      <td>-15.03870</td>\n",
              "      <td>-47.0520</td>\n",
              "    </tr>\n",
              "    <tr>\n",
              "      <th>1163855</th>\n",
              "      <td>NaN</td>\n",
              "      <td>vila propicio</td>\n",
              "      <td>NaN</td>\n",
              "      <td>NaN</td>\n",
              "      <td>NaN</td>\n",
              "      <td>GO</td>\n",
              "      <td>-15.45420</td>\n",
              "      <td>-48.8819</td>\n",
              "    </tr>\n",
              "    <tr>\n",
              "      <th>1163856</th>\n",
              "      <td>NaN</td>\n",
              "      <td>brasilia</td>\n",
              "      <td>NaN</td>\n",
              "      <td>NaN</td>\n",
              "      <td>NaN</td>\n",
              "      <td>DF</td>\n",
              "      <td>-15.77950</td>\n",
              "      <td>-47.9297</td>\n",
              "    </tr>\n",
              "  </tbody>\n",
              "</table>\n",
              "<p>1226 rows × 8 columns</p>\n",
              "</div>"
            ],
            "text/plain": [
              "        estado_x                      municipio  ...       lat     long\n",
              "113216       NaN           fortaleza do tabocao  ...  -9.05611 -48.5206\n",
              "334525       NaN  augusto severo (campo grande)  ...  -5.86206 -37.3135\n",
              "348190       NaN     januario cicco (boa saude)  ...  -6.16566 -35.6219\n",
              "506303       NaN                    sao caetano  ...  -8.33763 -36.2869\n",
              "629768       NaN        muquem de sao francisco  ... -12.06500 -43.5497\n",
              "...          ...                            ...  ...       ...      ...\n",
              "1163852      NaN                     vianopolis  ... -16.74050 -48.5159\n",
              "1163853      NaN                 vicentinopolis  ... -17.73220 -49.8047\n",
              "1163854      NaN                       vila boa  ... -15.03870 -47.0520\n",
              "1163855      NaN                  vila propicio  ... -15.45420 -48.8819\n",
              "1163856      NaN                       brasilia  ... -15.77950 -47.9297\n",
              "\n",
              "[1226 rows x 8 columns]"
            ]
          },
          "metadata": {
            "tags": []
          },
          "execution_count": 244
        }
      ]
    },
    {
      "cell_type": "code",
      "metadata": {
        "colab": {
          "base_uri": "https://localhost:8080/",
          "height": 402
        },
        "id": "2JDAhyEgh370",
        "outputId": "e27095f1-afb6-4b0c-800e-39cc91e1154b"
      },
      "source": [
        "df_covid"
      ],
      "execution_count": 245,
      "outputs": [
        {
          "output_type": "execute_result",
          "data": {
            "text/html": [
              "<div>\n",
              "<style scoped>\n",
              "    .dataframe tbody tr th:only-of-type {\n",
              "        vertical-align: middle;\n",
              "    }\n",
              "\n",
              "    .dataframe tbody tr th {\n",
              "        vertical-align: top;\n",
              "    }\n",
              "\n",
              "    .dataframe thead th {\n",
              "        text-align: right;\n",
              "    }\n",
              "</style>\n",
              "<table border=\"1\" class=\"dataframe\">\n",
              "  <thead>\n",
              "    <tr style=\"text-align: right;\">\n",
              "      <th></th>\n",
              "      <th>estado_x</th>\n",
              "      <th>municipio</th>\n",
              "      <th>data</th>\n",
              "      <th>casos</th>\n",
              "      <th>obitos</th>\n",
              "      <th>estado_y</th>\n",
              "      <th>lat</th>\n",
              "      <th>long</th>\n",
              "    </tr>\n",
              "  </thead>\n",
              "  <tbody>\n",
              "    <tr>\n",
              "      <th>0</th>\n",
              "      <td>RO</td>\n",
              "      <td>alta floresta d oeste</td>\n",
              "      <td>27/03/2020</td>\n",
              "      <td>0.0</td>\n",
              "      <td>0.0</td>\n",
              "      <td>RO</td>\n",
              "      <td>-11.9283</td>\n",
              "      <td>-61.9953</td>\n",
              "    </tr>\n",
              "    <tr>\n",
              "      <th>1</th>\n",
              "      <td>RO</td>\n",
              "      <td>alta floresta d oeste</td>\n",
              "      <td>28/03/2020</td>\n",
              "      <td>0.0</td>\n",
              "      <td>0.0</td>\n",
              "      <td>RO</td>\n",
              "      <td>-11.9283</td>\n",
              "      <td>-61.9953</td>\n",
              "    </tr>\n",
              "    <tr>\n",
              "      <th>2</th>\n",
              "      <td>RO</td>\n",
              "      <td>alta floresta d oeste</td>\n",
              "      <td>29/03/2020</td>\n",
              "      <td>0.0</td>\n",
              "      <td>0.0</td>\n",
              "      <td>RO</td>\n",
              "      <td>-11.9283</td>\n",
              "      <td>-61.9953</td>\n",
              "    </tr>\n",
              "    <tr>\n",
              "      <th>3</th>\n",
              "      <td>RO</td>\n",
              "      <td>alta floresta d oeste</td>\n",
              "      <td>30/03/2020</td>\n",
              "      <td>0.0</td>\n",
              "      <td>0.0</td>\n",
              "      <td>RO</td>\n",
              "      <td>-11.9283</td>\n",
              "      <td>-61.9953</td>\n",
              "    </tr>\n",
              "    <tr>\n",
              "      <th>4</th>\n",
              "      <td>RO</td>\n",
              "      <td>alta floresta d oeste</td>\n",
              "      <td>31/03/2020</td>\n",
              "      <td>0.0</td>\n",
              "      <td>0.0</td>\n",
              "      <td>RO</td>\n",
              "      <td>-11.9283</td>\n",
              "      <td>-61.9953</td>\n",
              "    </tr>\n",
              "    <tr>\n",
              "      <th>...</th>\n",
              "      <td>...</td>\n",
              "      <td>...</td>\n",
              "      <td>...</td>\n",
              "      <td>...</td>\n",
              "      <td>...</td>\n",
              "      <td>...</td>\n",
              "      <td>...</td>\n",
              "      <td>...</td>\n",
              "    </tr>\n",
              "    <tr>\n",
              "      <th>1163852</th>\n",
              "      <td>NaN</td>\n",
              "      <td>vianopolis</td>\n",
              "      <td>NaN</td>\n",
              "      <td>NaN</td>\n",
              "      <td>NaN</td>\n",
              "      <td>GO</td>\n",
              "      <td>-16.7405</td>\n",
              "      <td>-48.5159</td>\n",
              "    </tr>\n",
              "    <tr>\n",
              "      <th>1163853</th>\n",
              "      <td>NaN</td>\n",
              "      <td>vicentinopolis</td>\n",
              "      <td>NaN</td>\n",
              "      <td>NaN</td>\n",
              "      <td>NaN</td>\n",
              "      <td>GO</td>\n",
              "      <td>-17.7322</td>\n",
              "      <td>-49.8047</td>\n",
              "    </tr>\n",
              "    <tr>\n",
              "      <th>1163854</th>\n",
              "      <td>NaN</td>\n",
              "      <td>vila boa</td>\n",
              "      <td>NaN</td>\n",
              "      <td>NaN</td>\n",
              "      <td>NaN</td>\n",
              "      <td>GO</td>\n",
              "      <td>-15.0387</td>\n",
              "      <td>-47.0520</td>\n",
              "    </tr>\n",
              "    <tr>\n",
              "      <th>1163855</th>\n",
              "      <td>NaN</td>\n",
              "      <td>vila propicio</td>\n",
              "      <td>NaN</td>\n",
              "      <td>NaN</td>\n",
              "      <td>NaN</td>\n",
              "      <td>GO</td>\n",
              "      <td>-15.4542</td>\n",
              "      <td>-48.8819</td>\n",
              "    </tr>\n",
              "    <tr>\n",
              "      <th>1163856</th>\n",
              "      <td>NaN</td>\n",
              "      <td>brasilia</td>\n",
              "      <td>NaN</td>\n",
              "      <td>NaN</td>\n",
              "      <td>NaN</td>\n",
              "      <td>DF</td>\n",
              "      <td>-15.7795</td>\n",
              "      <td>-47.9297</td>\n",
              "    </tr>\n",
              "  </tbody>\n",
              "</table>\n",
              "<p>1163857 rows × 8 columns</p>\n",
              "</div>"
            ],
            "text/plain": [
              "        estado_x              municipio        data  ...  estado_y      lat     long\n",
              "0             RO  alta floresta d oeste  27/03/2020  ...        RO -11.9283 -61.9953\n",
              "1             RO  alta floresta d oeste  28/03/2020  ...        RO -11.9283 -61.9953\n",
              "2             RO  alta floresta d oeste  29/03/2020  ...        RO -11.9283 -61.9953\n",
              "3             RO  alta floresta d oeste  30/03/2020  ...        RO -11.9283 -61.9953\n",
              "4             RO  alta floresta d oeste  31/03/2020  ...        RO -11.9283 -61.9953\n",
              "...          ...                    ...         ...  ...       ...      ...      ...\n",
              "1163852      NaN             vianopolis         NaN  ...        GO -16.7405 -48.5159\n",
              "1163853      NaN         vicentinopolis         NaN  ...        GO -17.7322 -49.8047\n",
              "1163854      NaN               vila boa         NaN  ...        GO -15.0387 -47.0520\n",
              "1163855      NaN          vila propicio         NaN  ...        GO -15.4542 -48.8819\n",
              "1163856      NaN               brasilia         NaN  ...        DF -15.7795 -47.9297\n",
              "\n",
              "[1163857 rows x 8 columns]"
            ]
          },
          "metadata": {
            "tags": []
          },
          "execution_count": 245
        }
      ]
    },
    {
      "cell_type": "code",
      "metadata": {
        "id": "zvdudmoPh4DE"
      },
      "source": [
        ""
      ],
      "execution_count": null,
      "outputs": []
    },
    {
      "cell_type": "markdown",
      "metadata": {
        "id": "bL4mHaDFt8bh"
      },
      "source": [
        "##### Eliminação dos Valores Nulos"
      ]
    },
    {
      "cell_type": "code",
      "metadata": {
        "id": "-dSCDUiQt72-"
      },
      "source": [
        "df_covid.dropna(axis=0, inplace=True)"
      ],
      "execution_count": 246,
      "outputs": []
    },
    {
      "cell_type": "code",
      "metadata": {
        "colab": {
          "base_uri": "https://localhost:8080/"
        },
        "id": "02Jpngeut76w",
        "outputId": "f809e49a-71fe-46fb-b119-1dae5e28b775"
      },
      "source": [
        "df_covid.isna().sum()"
      ],
      "execution_count": 247,
      "outputs": [
        {
          "output_type": "execute_result",
          "data": {
            "text/plain": [
              "estado_x     0\n",
              "municipio    0\n",
              "data         0\n",
              "casos        0\n",
              "obitos       0\n",
              "estado_y     0\n",
              "lat          0\n",
              "long         0\n",
              "dtype: int64"
            ]
          },
          "metadata": {
            "tags": []
          },
          "execution_count": 247
        }
      ]
    },
    {
      "cell_type": "code",
      "metadata": {
        "id": "CgvemiPzuJqB"
      },
      "source": [
        ""
      ],
      "execution_count": 177,
      "outputs": []
    },
    {
      "cell_type": "code",
      "metadata": {
        "colab": {
          "base_uri": "https://localhost:8080/",
          "height": 402
        },
        "id": "OhtDCo4WuJt2",
        "outputId": "64650da1-98df-40b9-b0c6-a13070a3f8d8"
      },
      "source": [
        "df_covid"
      ],
      "execution_count": 248,
      "outputs": [
        {
          "output_type": "execute_result",
          "data": {
            "text/html": [
              "<div>\n",
              "<style scoped>\n",
              "    .dataframe tbody tr th:only-of-type {\n",
              "        vertical-align: middle;\n",
              "    }\n",
              "\n",
              "    .dataframe tbody tr th {\n",
              "        vertical-align: top;\n",
              "    }\n",
              "\n",
              "    .dataframe thead th {\n",
              "        text-align: right;\n",
              "    }\n",
              "</style>\n",
              "<table border=\"1\" class=\"dataframe\">\n",
              "  <thead>\n",
              "    <tr style=\"text-align: right;\">\n",
              "      <th></th>\n",
              "      <th>estado_x</th>\n",
              "      <th>municipio</th>\n",
              "      <th>data</th>\n",
              "      <th>casos</th>\n",
              "      <th>obitos</th>\n",
              "      <th>estado_y</th>\n",
              "      <th>lat</th>\n",
              "      <th>long</th>\n",
              "    </tr>\n",
              "  </thead>\n",
              "  <tbody>\n",
              "    <tr>\n",
              "      <th>0</th>\n",
              "      <td>RO</td>\n",
              "      <td>alta floresta d oeste</td>\n",
              "      <td>27/03/2020</td>\n",
              "      <td>0.0</td>\n",
              "      <td>0.0</td>\n",
              "      <td>RO</td>\n",
              "      <td>-11.9283</td>\n",
              "      <td>-61.9953</td>\n",
              "    </tr>\n",
              "    <tr>\n",
              "      <th>1</th>\n",
              "      <td>RO</td>\n",
              "      <td>alta floresta d oeste</td>\n",
              "      <td>28/03/2020</td>\n",
              "      <td>0.0</td>\n",
              "      <td>0.0</td>\n",
              "      <td>RO</td>\n",
              "      <td>-11.9283</td>\n",
              "      <td>-61.9953</td>\n",
              "    </tr>\n",
              "    <tr>\n",
              "      <th>2</th>\n",
              "      <td>RO</td>\n",
              "      <td>alta floresta d oeste</td>\n",
              "      <td>29/03/2020</td>\n",
              "      <td>0.0</td>\n",
              "      <td>0.0</td>\n",
              "      <td>RO</td>\n",
              "      <td>-11.9283</td>\n",
              "      <td>-61.9953</td>\n",
              "    </tr>\n",
              "    <tr>\n",
              "      <th>3</th>\n",
              "      <td>RO</td>\n",
              "      <td>alta floresta d oeste</td>\n",
              "      <td>30/03/2020</td>\n",
              "      <td>0.0</td>\n",
              "      <td>0.0</td>\n",
              "      <td>RO</td>\n",
              "      <td>-11.9283</td>\n",
              "      <td>-61.9953</td>\n",
              "    </tr>\n",
              "    <tr>\n",
              "      <th>4</th>\n",
              "      <td>RO</td>\n",
              "      <td>alta floresta d oeste</td>\n",
              "      <td>31/03/2020</td>\n",
              "      <td>0.0</td>\n",
              "      <td>0.0</td>\n",
              "      <td>RO</td>\n",
              "      <td>-11.9283</td>\n",
              "      <td>-61.9953</td>\n",
              "    </tr>\n",
              "    <tr>\n",
              "      <th>...</th>\n",
              "      <td>...</td>\n",
              "      <td>...</td>\n",
              "      <td>...</td>\n",
              "      <td>...</td>\n",
              "      <td>...</td>\n",
              "      <td>...</td>\n",
              "      <td>...</td>\n",
              "      <td>...</td>\n",
              "    </tr>\n",
              "    <tr>\n",
              "      <th>1162635</th>\n",
              "      <td>PR</td>\n",
              "      <td>santo antonio do sudoeste</td>\n",
              "      <td>23/10/2020</td>\n",
              "      <td>1.0</td>\n",
              "      <td>0.0</td>\n",
              "      <td>PR</td>\n",
              "      <td>-26.0737</td>\n",
              "      <td>-53.7251</td>\n",
              "    </tr>\n",
              "    <tr>\n",
              "      <th>1162636</th>\n",
              "      <td>PR</td>\n",
              "      <td>santo antonio do sudoeste</td>\n",
              "      <td>24/10/2020</td>\n",
              "      <td>1.0</td>\n",
              "      <td>0.0</td>\n",
              "      <td>PR</td>\n",
              "      <td>-26.0737</td>\n",
              "      <td>-53.7251</td>\n",
              "    </tr>\n",
              "    <tr>\n",
              "      <th>1162637</th>\n",
              "      <td>PR</td>\n",
              "      <td>santo antonio do sudoeste</td>\n",
              "      <td>25/10/2020</td>\n",
              "      <td>0.0</td>\n",
              "      <td>0.0</td>\n",
              "      <td>PR</td>\n",
              "      <td>-26.0737</td>\n",
              "      <td>-53.7251</td>\n",
              "    </tr>\n",
              "    <tr>\n",
              "      <th>1162638</th>\n",
              "      <td>PR</td>\n",
              "      <td>santo antonio do sudoeste</td>\n",
              "      <td>26/10/2020</td>\n",
              "      <td>0.0</td>\n",
              "      <td>0.0</td>\n",
              "      <td>PR</td>\n",
              "      <td>-26.0737</td>\n",
              "      <td>-53.7251</td>\n",
              "    </tr>\n",
              "    <tr>\n",
              "      <th>1162639</th>\n",
              "      <td>PR</td>\n",
              "      <td>santo antonio do sudoeste</td>\n",
              "      <td>27/10/2020</td>\n",
              "      <td>0.0</td>\n",
              "      <td>0.0</td>\n",
              "      <td>PR</td>\n",
              "      <td>-26.0737</td>\n",
              "      <td>-53.7251</td>\n",
              "    </tr>\n",
              "  </tbody>\n",
              "</table>\n",
              "<p>1162631 rows × 8 columns</p>\n",
              "</div>"
            ],
            "text/plain": [
              "        estado_x                  municipio  ...      lat     long\n",
              "0             RO      alta floresta d oeste  ... -11.9283 -61.9953\n",
              "1             RO      alta floresta d oeste  ... -11.9283 -61.9953\n",
              "2             RO      alta floresta d oeste  ... -11.9283 -61.9953\n",
              "3             RO      alta floresta d oeste  ... -11.9283 -61.9953\n",
              "4             RO      alta floresta d oeste  ... -11.9283 -61.9953\n",
              "...          ...                        ...  ...      ...      ...\n",
              "1162635       PR  santo antonio do sudoeste  ... -26.0737 -53.7251\n",
              "1162636       PR  santo antonio do sudoeste  ... -26.0737 -53.7251\n",
              "1162637       PR  santo antonio do sudoeste  ... -26.0737 -53.7251\n",
              "1162638       PR  santo antonio do sudoeste  ... -26.0737 -53.7251\n",
              "1162639       PR  santo antonio do sudoeste  ... -26.0737 -53.7251\n",
              "\n",
              "[1162631 rows x 8 columns]"
            ]
          },
          "metadata": {
            "tags": []
          },
          "execution_count": 248
        }
      ]
    },
    {
      "cell_type": "code",
      "metadata": {
        "id": "A_4YPo__uJw4"
      },
      "source": [
        ""
      ],
      "execution_count": null,
      "outputs": []
    },
    {
      "cell_type": "markdown",
      "metadata": {
        "id": "efH6PrSztpps"
      },
      "source": [
        "##### Padronização dos Nomes das Colunas"
      ]
    },
    {
      "cell_type": "code",
      "metadata": {
        "id": "TXyatb_muOwB"
      },
      "source": [
        "df_covid.drop(['estado_y'], axis=1, inplace=True)"
      ],
      "execution_count": 249,
      "outputs": []
    },
    {
      "cell_type": "code",
      "metadata": {
        "id": "yK_2tQbBuilm"
      },
      "source": [
        "df_covid.rename(columns={'estado_x':'estado'}, inplace=True)"
      ],
      "execution_count": 250,
      "outputs": []
    },
    {
      "cell_type": "code",
      "metadata": {
        "id": "5wHqfRb0u-ww"
      },
      "source": [
        ""
      ],
      "execution_count": null,
      "outputs": []
    },
    {
      "cell_type": "code",
      "metadata": {
        "id": "y8V9OBVCt4qS"
      },
      "source": [
        ""
      ],
      "execution_count": null,
      "outputs": []
    },
    {
      "cell_type": "markdown",
      "metadata": {
        "id": "L-ayFgr1zz8s"
      },
      "source": [
        "##### Alteração de Tipos de Dados\n"
      ]
    },
    {
      "cell_type": "code",
      "metadata": {
        "id": "mHA8F4lLt4uN"
      },
      "source": [
        "df_covid['casos'] = df_covid['casos'].astype(int)"
      ],
      "execution_count": 251,
      "outputs": []
    },
    {
      "cell_type": "code",
      "metadata": {
        "id": "JA7QgiW0z6vq"
      },
      "source": [
        "df_covid['obitos'] = df_covid['obitos'].astype(int)"
      ],
      "execution_count": 252,
      "outputs": []
    },
    {
      "cell_type": "code",
      "metadata": {
        "colab": {
          "base_uri": "https://localhost:8080/",
          "height": 402
        },
        "id": "Ts2YwfISz6yq",
        "outputId": "19e01f73-0120-4bd9-f864-02cadaf002fe"
      },
      "source": [
        "df_covid"
      ],
      "execution_count": 253,
      "outputs": [
        {
          "output_type": "execute_result",
          "data": {
            "text/html": [
              "<div>\n",
              "<style scoped>\n",
              "    .dataframe tbody tr th:only-of-type {\n",
              "        vertical-align: middle;\n",
              "    }\n",
              "\n",
              "    .dataframe tbody tr th {\n",
              "        vertical-align: top;\n",
              "    }\n",
              "\n",
              "    .dataframe thead th {\n",
              "        text-align: right;\n",
              "    }\n",
              "</style>\n",
              "<table border=\"1\" class=\"dataframe\">\n",
              "  <thead>\n",
              "    <tr style=\"text-align: right;\">\n",
              "      <th></th>\n",
              "      <th>estado</th>\n",
              "      <th>municipio</th>\n",
              "      <th>data</th>\n",
              "      <th>casos</th>\n",
              "      <th>obitos</th>\n",
              "      <th>lat</th>\n",
              "      <th>long</th>\n",
              "    </tr>\n",
              "  </thead>\n",
              "  <tbody>\n",
              "    <tr>\n",
              "      <th>0</th>\n",
              "      <td>RO</td>\n",
              "      <td>alta floresta d oeste</td>\n",
              "      <td>27/03/2020</td>\n",
              "      <td>0</td>\n",
              "      <td>0</td>\n",
              "      <td>-11.9283</td>\n",
              "      <td>-61.9953</td>\n",
              "    </tr>\n",
              "    <tr>\n",
              "      <th>1</th>\n",
              "      <td>RO</td>\n",
              "      <td>alta floresta d oeste</td>\n",
              "      <td>28/03/2020</td>\n",
              "      <td>0</td>\n",
              "      <td>0</td>\n",
              "      <td>-11.9283</td>\n",
              "      <td>-61.9953</td>\n",
              "    </tr>\n",
              "    <tr>\n",
              "      <th>2</th>\n",
              "      <td>RO</td>\n",
              "      <td>alta floresta d oeste</td>\n",
              "      <td>29/03/2020</td>\n",
              "      <td>0</td>\n",
              "      <td>0</td>\n",
              "      <td>-11.9283</td>\n",
              "      <td>-61.9953</td>\n",
              "    </tr>\n",
              "    <tr>\n",
              "      <th>3</th>\n",
              "      <td>RO</td>\n",
              "      <td>alta floresta d oeste</td>\n",
              "      <td>30/03/2020</td>\n",
              "      <td>0</td>\n",
              "      <td>0</td>\n",
              "      <td>-11.9283</td>\n",
              "      <td>-61.9953</td>\n",
              "    </tr>\n",
              "    <tr>\n",
              "      <th>4</th>\n",
              "      <td>RO</td>\n",
              "      <td>alta floresta d oeste</td>\n",
              "      <td>31/03/2020</td>\n",
              "      <td>0</td>\n",
              "      <td>0</td>\n",
              "      <td>-11.9283</td>\n",
              "      <td>-61.9953</td>\n",
              "    </tr>\n",
              "    <tr>\n",
              "      <th>...</th>\n",
              "      <td>...</td>\n",
              "      <td>...</td>\n",
              "      <td>...</td>\n",
              "      <td>...</td>\n",
              "      <td>...</td>\n",
              "      <td>...</td>\n",
              "      <td>...</td>\n",
              "    </tr>\n",
              "    <tr>\n",
              "      <th>1162635</th>\n",
              "      <td>PR</td>\n",
              "      <td>santo antonio do sudoeste</td>\n",
              "      <td>23/10/2020</td>\n",
              "      <td>1</td>\n",
              "      <td>0</td>\n",
              "      <td>-26.0737</td>\n",
              "      <td>-53.7251</td>\n",
              "    </tr>\n",
              "    <tr>\n",
              "      <th>1162636</th>\n",
              "      <td>PR</td>\n",
              "      <td>santo antonio do sudoeste</td>\n",
              "      <td>24/10/2020</td>\n",
              "      <td>1</td>\n",
              "      <td>0</td>\n",
              "      <td>-26.0737</td>\n",
              "      <td>-53.7251</td>\n",
              "    </tr>\n",
              "    <tr>\n",
              "      <th>1162637</th>\n",
              "      <td>PR</td>\n",
              "      <td>santo antonio do sudoeste</td>\n",
              "      <td>25/10/2020</td>\n",
              "      <td>0</td>\n",
              "      <td>0</td>\n",
              "      <td>-26.0737</td>\n",
              "      <td>-53.7251</td>\n",
              "    </tr>\n",
              "    <tr>\n",
              "      <th>1162638</th>\n",
              "      <td>PR</td>\n",
              "      <td>santo antonio do sudoeste</td>\n",
              "      <td>26/10/2020</td>\n",
              "      <td>0</td>\n",
              "      <td>0</td>\n",
              "      <td>-26.0737</td>\n",
              "      <td>-53.7251</td>\n",
              "    </tr>\n",
              "    <tr>\n",
              "      <th>1162639</th>\n",
              "      <td>PR</td>\n",
              "      <td>santo antonio do sudoeste</td>\n",
              "      <td>27/10/2020</td>\n",
              "      <td>0</td>\n",
              "      <td>0</td>\n",
              "      <td>-26.0737</td>\n",
              "      <td>-53.7251</td>\n",
              "    </tr>\n",
              "  </tbody>\n",
              "</table>\n",
              "<p>1162631 rows × 7 columns</p>\n",
              "</div>"
            ],
            "text/plain": [
              "        estado                  municipio        data  ...  obitos      lat     long\n",
              "0           RO      alta floresta d oeste  27/03/2020  ...       0 -11.9283 -61.9953\n",
              "1           RO      alta floresta d oeste  28/03/2020  ...       0 -11.9283 -61.9953\n",
              "2           RO      alta floresta d oeste  29/03/2020  ...       0 -11.9283 -61.9953\n",
              "3           RO      alta floresta d oeste  30/03/2020  ...       0 -11.9283 -61.9953\n",
              "4           RO      alta floresta d oeste  31/03/2020  ...       0 -11.9283 -61.9953\n",
              "...        ...                        ...         ...  ...     ...      ...      ...\n",
              "1162635     PR  santo antonio do sudoeste  23/10/2020  ...       0 -26.0737 -53.7251\n",
              "1162636     PR  santo antonio do sudoeste  24/10/2020  ...       0 -26.0737 -53.7251\n",
              "1162637     PR  santo antonio do sudoeste  25/10/2020  ...       0 -26.0737 -53.7251\n",
              "1162638     PR  santo antonio do sudoeste  26/10/2020  ...       0 -26.0737 -53.7251\n",
              "1162639     PR  santo antonio do sudoeste  27/10/2020  ...       0 -26.0737 -53.7251\n",
              "\n",
              "[1162631 rows x 7 columns]"
            ]
          },
          "metadata": {
            "tags": []
          },
          "execution_count": 253
        }
      ]
    },
    {
      "cell_type": "code",
      "metadata": {
        "id": "UwFbv1ZMz62c"
      },
      "source": [
        ""
      ],
      "execution_count": null,
      "outputs": []
    },
    {
      "cell_type": "code",
      "metadata": {
        "id": "Z59Huj1pz65z"
      },
      "source": [
        ""
      ],
      "execution_count": null,
      "outputs": []
    },
    {
      "cell_type": "code",
      "metadata": {
        "id": "tSCYqB50t4xa"
      },
      "source": [
        ""
      ],
      "execution_count": null,
      "outputs": []
    },
    {
      "cell_type": "code",
      "metadata": {
        "colab": {
          "base_uri": "https://localhost:8080/",
          "height": 489
        },
        "id": "f7s8ac5pu-4D",
        "outputId": "426ec25d-a684-4684-d6d9-d65462857fb3"
      },
      "source": [
        "df_medicos"
      ],
      "execution_count": 254,
      "outputs": [
        {
          "output_type": "execute_result",
          "data": {
            "text/html": [
              "<div>\n",
              "<style scoped>\n",
              "    .dataframe tbody tr th:only-of-type {\n",
              "        vertical-align: middle;\n",
              "    }\n",
              "\n",
              "    .dataframe tbody tr th {\n",
              "        vertical-align: top;\n",
              "    }\n",
              "\n",
              "    .dataframe thead th {\n",
              "        text-align: right;\n",
              "    }\n",
              "</style>\n",
              "<table border=\"1\" class=\"dataframe\">\n",
              "  <thead>\n",
              "    <tr style=\"text-align: right;\">\n",
              "      <th></th>\n",
              "      <th>OBJECTID</th>\n",
              "      <th>Codigo_Municipio</th>\n",
              "      <th>Nome_municipio</th>\n",
              "      <th>Nome_Estado</th>\n",
              "      <th>GR</th>\n",
              "      <th>Pop_Total</th>\n",
              "      <th>Total_Medicos</th>\n",
              "      <th>Medicos_SUS</th>\n",
              "      <th>Medicos_100mil_hab_Ind</th>\n",
              "      <th>Medicos_SUS_100mil_hab_Ind</th>\n",
              "      <th>Shape__Area</th>\n",
              "      <th>Shape__Length</th>\n",
              "      <th>P_Medicos_SUS</th>\n",
              "    </tr>\n",
              "  </thead>\n",
              "  <tbody>\n",
              "    <tr>\n",
              "      <th>0</th>\n",
              "      <td>1</td>\n",
              "      <td>5200050</td>\n",
              "      <td>Abadia de Goiás</td>\n",
              "      <td>Goiás</td>\n",
              "      <td>Centro-Oeste</td>\n",
              "      <td>8773</td>\n",
              "      <td>16</td>\n",
              "      <td>16</td>\n",
              "      <td>182.377750</td>\n",
              "      <td>182.377750</td>\n",
              "      <td>0.012482</td>\n",
              "      <td>0.591110</td>\n",
              "      <td>100.000000</td>\n",
              "    </tr>\n",
              "    <tr>\n",
              "      <th>1</th>\n",
              "      <td>2</td>\n",
              "      <td>3100104</td>\n",
              "      <td>Abadia dos Dourados</td>\n",
              "      <td>Minas Gerais</td>\n",
              "      <td>Sudeste</td>\n",
              "      <td>6989</td>\n",
              "      <td>14</td>\n",
              "      <td>14</td>\n",
              "      <td>200.314780</td>\n",
              "      <td>200.314780</td>\n",
              "      <td>0.075314</td>\n",
              "      <td>1.959124</td>\n",
              "      <td>100.000000</td>\n",
              "    </tr>\n",
              "    <tr>\n",
              "      <th>2</th>\n",
              "      <td>3</td>\n",
              "      <td>5200100</td>\n",
              "      <td>Abadiânia</td>\n",
              "      <td>Goiás</td>\n",
              "      <td>Centro-Oeste</td>\n",
              "      <td>20042</td>\n",
              "      <td>16</td>\n",
              "      <td>16</td>\n",
              "      <td>79.832352</td>\n",
              "      <td>79.832352</td>\n",
              "      <td>0.088320</td>\n",
              "      <td>1.811350</td>\n",
              "      <td>100.000000</td>\n",
              "    </tr>\n",
              "    <tr>\n",
              "      <th>3</th>\n",
              "      <td>4</td>\n",
              "      <td>3100203</td>\n",
              "      <td>Abaeté</td>\n",
              "      <td>Minas Gerais</td>\n",
              "      <td>Sudeste</td>\n",
              "      <td>23237</td>\n",
              "      <td>51</td>\n",
              "      <td>48</td>\n",
              "      <td>219.477557</td>\n",
              "      <td>206.567113</td>\n",
              "      <td>0.155999</td>\n",
              "      <td>2.434613</td>\n",
              "      <td>94.117647</td>\n",
              "    </tr>\n",
              "    <tr>\n",
              "      <th>4</th>\n",
              "      <td>5</td>\n",
              "      <td>1500107</td>\n",
              "      <td>Abaetetuba</td>\n",
              "      <td>Pará</td>\n",
              "      <td>Norte</td>\n",
              "      <td>157698</td>\n",
              "      <td>90</td>\n",
              "      <td>82</td>\n",
              "      <td>57.071111</td>\n",
              "      <td>51.998123</td>\n",
              "      <td>0.130889</td>\n",
              "      <td>1.829539</td>\n",
              "      <td>91.111111</td>\n",
              "    </tr>\n",
              "    <tr>\n",
              "      <th>...</th>\n",
              "      <td>...</td>\n",
              "      <td>...</td>\n",
              "      <td>...</td>\n",
              "      <td>...</td>\n",
              "      <td>...</td>\n",
              "      <td>...</td>\n",
              "      <td>...</td>\n",
              "      <td>...</td>\n",
              "      <td>...</td>\n",
              "      <td>...</td>\n",
              "      <td>...</td>\n",
              "      <td>...</td>\n",
              "      <td>...</td>\n",
              "    </tr>\n",
              "    <tr>\n",
              "      <th>5565</th>\n",
              "      <td>5566</td>\n",
              "      <td>2933604</td>\n",
              "      <td>Xique-Xique</td>\n",
              "      <td>Bahia</td>\n",
              "      <td>Nordeste</td>\n",
              "      <td>46483</td>\n",
              "      <td>12</td>\n",
              "      <td>12</td>\n",
              "      <td>25.815890</td>\n",
              "      <td>25.815890</td>\n",
              "      <td>0.420182</td>\n",
              "      <td>4.805814</td>\n",
              "      <td>100.000000</td>\n",
              "    </tr>\n",
              "    <tr>\n",
              "      <th>5566</th>\n",
              "      <td>5567</td>\n",
              "      <td>2517407</td>\n",
              "      <td>Zabelê</td>\n",
              "      <td>Paraíba</td>\n",
              "      <td>Nordeste</td>\n",
              "      <td>2240</td>\n",
              "      <td>1</td>\n",
              "      <td>1</td>\n",
              "      <td>44.642857</td>\n",
              "      <td>44.642857</td>\n",
              "      <td>0.008974</td>\n",
              "      <td>0.444401</td>\n",
              "      <td>100.000000</td>\n",
              "    </tr>\n",
              "    <tr>\n",
              "      <th>5567</th>\n",
              "      <td>5568</td>\n",
              "      <td>3557154</td>\n",
              "      <td>Zacarias</td>\n",
              "      <td>São Paulo</td>\n",
              "      <td>Sudeste</td>\n",
              "      <td>2718</td>\n",
              "      <td>0</td>\n",
              "      <td>0</td>\n",
              "      <td>0.000000</td>\n",
              "      <td>0.000000</td>\n",
              "      <td>0.027740</td>\n",
              "      <td>0.773112</td>\n",
              "      <td>0.000000</td>\n",
              "    </tr>\n",
              "    <tr>\n",
              "      <th>5568</th>\n",
              "      <td>5569</td>\n",
              "      <td>2114007</td>\n",
              "      <td>Zé Doca</td>\n",
              "      <td>Maranhão</td>\n",
              "      <td>Nordeste</td>\n",
              "      <td>51714</td>\n",
              "      <td>13</td>\n",
              "      <td>13</td>\n",
              "      <td>25.138260</td>\n",
              "      <td>25.138260</td>\n",
              "      <td>0.174139</td>\n",
              "      <td>3.058613</td>\n",
              "      <td>100.000000</td>\n",
              "    </tr>\n",
              "    <tr>\n",
              "      <th>5569</th>\n",
              "      <td>5570</td>\n",
              "      <td>4219853</td>\n",
              "      <td>Zortéa</td>\n",
              "      <td>Santa Catarina</td>\n",
              "      <td>Sul</td>\n",
              "      <td>3363</td>\n",
              "      <td>0</td>\n",
              "      <td>0</td>\n",
              "      <td>0.000000</td>\n",
              "      <td>0.000000</td>\n",
              "      <td>0.017323</td>\n",
              "      <td>0.907243</td>\n",
              "      <td>0.000000</td>\n",
              "    </tr>\n",
              "  </tbody>\n",
              "</table>\n",
              "<p>5570 rows × 13 columns</p>\n",
              "</div>"
            ],
            "text/plain": [
              "      OBJECTID  Codigo_Municipio  ... Shape__Length P_Medicos_SUS\n",
              "0            1           5200050  ...      0.591110    100.000000\n",
              "1            2           3100104  ...      1.959124    100.000000\n",
              "2            3           5200100  ...      1.811350    100.000000\n",
              "3            4           3100203  ...      2.434613     94.117647\n",
              "4            5           1500107  ...      1.829539     91.111111\n",
              "...        ...               ...  ...           ...           ...\n",
              "5565      5566           2933604  ...      4.805814    100.000000\n",
              "5566      5567           2517407  ...      0.444401    100.000000\n",
              "5567      5568           3557154  ...      0.773112      0.000000\n",
              "5568      5569           2114007  ...      3.058613    100.000000\n",
              "5569      5570           4219853  ...      0.907243      0.000000\n",
              "\n",
              "[5570 rows x 13 columns]"
            ]
          },
          "metadata": {
            "tags": []
          },
          "execution_count": 254
        }
      ]
    },
    {
      "cell_type": "code",
      "metadata": {
        "id": "3hGJQVD1yQKo"
      },
      "source": [
        ""
      ],
      "execution_count": null,
      "outputs": []
    },
    {
      "cell_type": "code",
      "metadata": {
        "id": "It2fgF5lyQSx"
      },
      "source": [
        "siglas=[\"AC\",\"AL\",\"AP\",\"AM\",\"BA\",\"CE\",\"DF\",\"ES\",\"GO\",\"MA\",\"MT\",\"MS\",\"MG\",\"PA\",\"PB\",\"PR\",\"PE\",\"PI\",\"RJ\",\"RN\",\"RS\",\"RO\",\"RR\",\"SC\",\"SP\",\"SE\",\"TO\"]\n",
        "\n"
      ],
      "execution_count": 259,
      "outputs": []
    },
    {
      "cell_type": "code",
      "metadata": {
        "id": "7Ip86PGfyQVj"
      },
      "source": [
        "nomesEstados = [\"Acre\",\"Alagoas\",\"Amapá\",\"Amazonas\",\"Bahia\",\"Ceará\",\"Distrito Federal\",\"Espírito Santo\",\"Goiás\",\"Maranhão\",\"Mato Grosso\",\"Mato Grosso do Sul\",\"Minas Gerais\",\"Pará\",\"Paraíba\",\"Paraná\",\"Pernambuco\",\"Piauí\",\"Rio de Janeiro\",\"Rio Grande do Norte\",\"Rio Grande do Sul\",\"Rondônia\",\"Roraima\",\"Santa Catarina\",\"São Paulo\",\"Sergipe\",\"Tocantins\"]\n"
      ],
      "execution_count": 260,
      "outputs": []
    },
    {
      "cell_type": "code",
      "metadata": {
        "id": "XZlqBEtVzIc3"
      },
      "source": [
        ""
      ],
      "execution_count": null,
      "outputs": []
    },
    {
      "cell_type": "code",
      "metadata": {
        "id": "eIKPe6g0zIm1"
      },
      "source": [
        "lista = []"
      ],
      "execution_count": 261,
      "outputs": []
    },
    {
      "cell_type": "code",
      "metadata": {
        "id": "TCWHqc5WyQZR"
      },
      "source": [
        "for i in df_medicos['Nome_Estado'].values:\n",
        "  for j in range(len(nomesEstados)):\n",
        "    if i == nomesEstados[j]:\n",
        "      lista.append(siglas[j])\n",
        "  \n",
        "\n"
      ],
      "execution_count": 262,
      "outputs": []
    },
    {
      "cell_type": "code",
      "metadata": {
        "id": "64jaxdj6yQcv"
      },
      "source": [
        "df_medicos['estado'] = [i for i in lista]"
      ],
      "execution_count": 263,
      "outputs": []
    },
    {
      "cell_type": "code",
      "metadata": {
        "id": "bcvJC18DyQn4"
      },
      "source": [
        "df_medicos.rename(columns={'Nome_municipio':'municipio','Medicos_100mil_hab_Ind':'medicosCemMil'},inplace=True)"
      ],
      "execution_count": 264,
      "outputs": []
    },
    {
      "cell_type": "code",
      "metadata": {
        "id": "YKpRa4dKS9Bn"
      },
      "source": [
        "df_medicos = df_medicos[['municipio','medicosCemMil','estado']]"
      ],
      "execution_count": 265,
      "outputs": []
    },
    {
      "cell_type": "code",
      "metadata": {
        "colab": {
          "base_uri": "https://localhost:8080/",
          "height": 402
        },
        "id": "uYxVm5hGYksy",
        "outputId": "bcaaef08-4a20-4eb4-ac4d-b2c99097ba7f"
      },
      "source": [
        "df_medicos"
      ],
      "execution_count": 266,
      "outputs": [
        {
          "output_type": "execute_result",
          "data": {
            "text/html": [
              "<div>\n",
              "<style scoped>\n",
              "    .dataframe tbody tr th:only-of-type {\n",
              "        vertical-align: middle;\n",
              "    }\n",
              "\n",
              "    .dataframe tbody tr th {\n",
              "        vertical-align: top;\n",
              "    }\n",
              "\n",
              "    .dataframe thead th {\n",
              "        text-align: right;\n",
              "    }\n",
              "</style>\n",
              "<table border=\"1\" class=\"dataframe\">\n",
              "  <thead>\n",
              "    <tr style=\"text-align: right;\">\n",
              "      <th></th>\n",
              "      <th>municipio</th>\n",
              "      <th>medicosCemMil</th>\n",
              "      <th>estado</th>\n",
              "    </tr>\n",
              "  </thead>\n",
              "  <tbody>\n",
              "    <tr>\n",
              "      <th>0</th>\n",
              "      <td>Abadia de Goiás</td>\n",
              "      <td>182.377750</td>\n",
              "      <td>GO</td>\n",
              "    </tr>\n",
              "    <tr>\n",
              "      <th>1</th>\n",
              "      <td>Abadia dos Dourados</td>\n",
              "      <td>200.314780</td>\n",
              "      <td>MG</td>\n",
              "    </tr>\n",
              "    <tr>\n",
              "      <th>2</th>\n",
              "      <td>Abadiânia</td>\n",
              "      <td>79.832352</td>\n",
              "      <td>GO</td>\n",
              "    </tr>\n",
              "    <tr>\n",
              "      <th>3</th>\n",
              "      <td>Abaeté</td>\n",
              "      <td>219.477557</td>\n",
              "      <td>MG</td>\n",
              "    </tr>\n",
              "    <tr>\n",
              "      <th>4</th>\n",
              "      <td>Abaetetuba</td>\n",
              "      <td>57.071111</td>\n",
              "      <td>PA</td>\n",
              "    </tr>\n",
              "    <tr>\n",
              "      <th>...</th>\n",
              "      <td>...</td>\n",
              "      <td>...</td>\n",
              "      <td>...</td>\n",
              "    </tr>\n",
              "    <tr>\n",
              "      <th>5565</th>\n",
              "      <td>Xique-Xique</td>\n",
              "      <td>25.815890</td>\n",
              "      <td>BA</td>\n",
              "    </tr>\n",
              "    <tr>\n",
              "      <th>5566</th>\n",
              "      <td>Zabelê</td>\n",
              "      <td>44.642857</td>\n",
              "      <td>PB</td>\n",
              "    </tr>\n",
              "    <tr>\n",
              "      <th>5567</th>\n",
              "      <td>Zacarias</td>\n",
              "      <td>0.000000</td>\n",
              "      <td>SP</td>\n",
              "    </tr>\n",
              "    <tr>\n",
              "      <th>5568</th>\n",
              "      <td>Zé Doca</td>\n",
              "      <td>25.138260</td>\n",
              "      <td>MA</td>\n",
              "    </tr>\n",
              "    <tr>\n",
              "      <th>5569</th>\n",
              "      <td>Zortéa</td>\n",
              "      <td>0.000000</td>\n",
              "      <td>SC</td>\n",
              "    </tr>\n",
              "  </tbody>\n",
              "</table>\n",
              "<p>5570 rows × 3 columns</p>\n",
              "</div>"
            ],
            "text/plain": [
              "                municipio  medicosCemMil estado\n",
              "0         Abadia de Goiás     182.377750     GO\n",
              "1     Abadia dos Dourados     200.314780     MG\n",
              "2               Abadiânia      79.832352     GO\n",
              "3                  Abaeté     219.477557     MG\n",
              "4              Abaetetuba      57.071111     PA\n",
              "...                   ...            ...    ...\n",
              "5565          Xique-Xique      25.815890     BA\n",
              "5566               Zabelê      44.642857     PB\n",
              "5567             Zacarias       0.000000     SP\n",
              "5568              Zé Doca      25.138260     MA\n",
              "5569               Zortéa       0.000000     SC\n",
              "\n",
              "[5570 rows x 3 columns]"
            ]
          },
          "metadata": {
            "tags": []
          },
          "execution_count": 266
        }
      ]
    },
    {
      "cell_type": "code",
      "metadata": {
        "id": "YYKNj0mZYr_R"
      },
      "source": [
        ""
      ],
      "execution_count": null,
      "outputs": []
    },
    {
      "cell_type": "code",
      "metadata": {
        "id": "ZtT2tYKQZSfJ"
      },
      "source": [
        "df_medicos['municipio'] = df_medicos['municipio'].str.normalize('NFKD').str.encode('ASCII', errors='ignore').str.decode('ASCII')\n",
        "df_medicos['municipio'] = df_medicos['municipio'].str.replace('[-,_]',' ')\n",
        "df_medicos['municipio'] = df_medicos['municipio'].str.replace(\"'\",' ')\n",
        "df_medicos['municipio'] = df_medicos['municipio'].str.lower()"
      ],
      "execution_count": 267,
      "outputs": []
    },
    {
      "cell_type": "code",
      "metadata": {
        "colab": {
          "base_uri": "https://localhost:8080/",
          "height": 402
        },
        "id": "dknr3GmYZSii",
        "outputId": "de76ffbf-9720-4b66-d340-07a9b2681c9b"
      },
      "source": [
        "df_medicos"
      ],
      "execution_count": 268,
      "outputs": [
        {
          "output_type": "execute_result",
          "data": {
            "text/html": [
              "<div>\n",
              "<style scoped>\n",
              "    .dataframe tbody tr th:only-of-type {\n",
              "        vertical-align: middle;\n",
              "    }\n",
              "\n",
              "    .dataframe tbody tr th {\n",
              "        vertical-align: top;\n",
              "    }\n",
              "\n",
              "    .dataframe thead th {\n",
              "        text-align: right;\n",
              "    }\n",
              "</style>\n",
              "<table border=\"1\" class=\"dataframe\">\n",
              "  <thead>\n",
              "    <tr style=\"text-align: right;\">\n",
              "      <th></th>\n",
              "      <th>municipio</th>\n",
              "      <th>medicosCemMil</th>\n",
              "      <th>estado</th>\n",
              "    </tr>\n",
              "  </thead>\n",
              "  <tbody>\n",
              "    <tr>\n",
              "      <th>0</th>\n",
              "      <td>abadia de goias</td>\n",
              "      <td>182.377750</td>\n",
              "      <td>GO</td>\n",
              "    </tr>\n",
              "    <tr>\n",
              "      <th>1</th>\n",
              "      <td>abadia dos dourados</td>\n",
              "      <td>200.314780</td>\n",
              "      <td>MG</td>\n",
              "    </tr>\n",
              "    <tr>\n",
              "      <th>2</th>\n",
              "      <td>abadiania</td>\n",
              "      <td>79.832352</td>\n",
              "      <td>GO</td>\n",
              "    </tr>\n",
              "    <tr>\n",
              "      <th>3</th>\n",
              "      <td>abaete</td>\n",
              "      <td>219.477557</td>\n",
              "      <td>MG</td>\n",
              "    </tr>\n",
              "    <tr>\n",
              "      <th>4</th>\n",
              "      <td>abaetetuba</td>\n",
              "      <td>57.071111</td>\n",
              "      <td>PA</td>\n",
              "    </tr>\n",
              "    <tr>\n",
              "      <th>...</th>\n",
              "      <td>...</td>\n",
              "      <td>...</td>\n",
              "      <td>...</td>\n",
              "    </tr>\n",
              "    <tr>\n",
              "      <th>5565</th>\n",
              "      <td>xique xique</td>\n",
              "      <td>25.815890</td>\n",
              "      <td>BA</td>\n",
              "    </tr>\n",
              "    <tr>\n",
              "      <th>5566</th>\n",
              "      <td>zabele</td>\n",
              "      <td>44.642857</td>\n",
              "      <td>PB</td>\n",
              "    </tr>\n",
              "    <tr>\n",
              "      <th>5567</th>\n",
              "      <td>zacarias</td>\n",
              "      <td>0.000000</td>\n",
              "      <td>SP</td>\n",
              "    </tr>\n",
              "    <tr>\n",
              "      <th>5568</th>\n",
              "      <td>ze doca</td>\n",
              "      <td>25.138260</td>\n",
              "      <td>MA</td>\n",
              "    </tr>\n",
              "    <tr>\n",
              "      <th>5569</th>\n",
              "      <td>zortea</td>\n",
              "      <td>0.000000</td>\n",
              "      <td>SC</td>\n",
              "    </tr>\n",
              "  </tbody>\n",
              "</table>\n",
              "<p>5570 rows × 3 columns</p>\n",
              "</div>"
            ],
            "text/plain": [
              "                municipio  medicosCemMil estado\n",
              "0         abadia de goias     182.377750     GO\n",
              "1     abadia dos dourados     200.314780     MG\n",
              "2               abadiania      79.832352     GO\n",
              "3                  abaete     219.477557     MG\n",
              "4              abaetetuba      57.071111     PA\n",
              "...                   ...            ...    ...\n",
              "5565          xique xique      25.815890     BA\n",
              "5566               zabele      44.642857     PB\n",
              "5567             zacarias       0.000000     SP\n",
              "5568              ze doca      25.138260     MA\n",
              "5569               zortea       0.000000     SC\n",
              "\n",
              "[5570 rows x 3 columns]"
            ]
          },
          "metadata": {
            "tags": []
          },
          "execution_count": 268
        }
      ]
    },
    {
      "cell_type": "code",
      "metadata": {
        "id": "pQxdRh8EZSlh"
      },
      "source": [
        "df_covid = pd.merge(df_covid, df_medicos,on='municipio', how='right')"
      ],
      "execution_count": 269,
      "outputs": []
    },
    {
      "cell_type": "code",
      "metadata": {
        "colab": {
          "base_uri": "https://localhost:8080/",
          "height": 402
        },
        "id": "xFD0DoVzY0py",
        "outputId": "abeb2a89-80c9-40ce-c094-24802657d5bd"
      },
      "source": [
        "df_covid"
      ],
      "execution_count": 270,
      "outputs": [
        {
          "output_type": "execute_result",
          "data": {
            "text/html": [
              "<div>\n",
              "<style scoped>\n",
              "    .dataframe tbody tr th:only-of-type {\n",
              "        vertical-align: middle;\n",
              "    }\n",
              "\n",
              "    .dataframe tbody tr th {\n",
              "        vertical-align: top;\n",
              "    }\n",
              "\n",
              "    .dataframe thead th {\n",
              "        text-align: right;\n",
              "    }\n",
              "</style>\n",
              "<table border=\"1\" class=\"dataframe\">\n",
              "  <thead>\n",
              "    <tr style=\"text-align: right;\">\n",
              "      <th></th>\n",
              "      <th>estado_x</th>\n",
              "      <th>municipio</th>\n",
              "      <th>data</th>\n",
              "      <th>casos</th>\n",
              "      <th>obitos</th>\n",
              "      <th>lat</th>\n",
              "      <th>long</th>\n",
              "      <th>medicosCemMil</th>\n",
              "      <th>estado_y</th>\n",
              "    </tr>\n",
              "  </thead>\n",
              "  <tbody>\n",
              "    <tr>\n",
              "      <th>0</th>\n",
              "      <td>NaN</td>\n",
              "      <td>abadia de goias</td>\n",
              "      <td>NaN</td>\n",
              "      <td>NaN</td>\n",
              "      <td>NaN</td>\n",
              "      <td>NaN</td>\n",
              "      <td>NaN</td>\n",
              "      <td>182.37775</td>\n",
              "      <td>GO</td>\n",
              "    </tr>\n",
              "    <tr>\n",
              "      <th>1</th>\n",
              "      <td>MG</td>\n",
              "      <td>abadia dos dourados</td>\n",
              "      <td>27/03/2020</td>\n",
              "      <td>0.0</td>\n",
              "      <td>0.0</td>\n",
              "      <td>-18.48310</td>\n",
              "      <td>-47.3916</td>\n",
              "      <td>200.31478</td>\n",
              "      <td>MG</td>\n",
              "    </tr>\n",
              "    <tr>\n",
              "      <th>2</th>\n",
              "      <td>MG</td>\n",
              "      <td>abadia dos dourados</td>\n",
              "      <td>28/03/2020</td>\n",
              "      <td>0.0</td>\n",
              "      <td>0.0</td>\n",
              "      <td>-18.48310</td>\n",
              "      <td>-47.3916</td>\n",
              "      <td>200.31478</td>\n",
              "      <td>MG</td>\n",
              "    </tr>\n",
              "    <tr>\n",
              "      <th>3</th>\n",
              "      <td>MG</td>\n",
              "      <td>abadia dos dourados</td>\n",
              "      <td>29/03/2020</td>\n",
              "      <td>0.0</td>\n",
              "      <td>0.0</td>\n",
              "      <td>-18.48310</td>\n",
              "      <td>-47.3916</td>\n",
              "      <td>200.31478</td>\n",
              "      <td>MG</td>\n",
              "    </tr>\n",
              "    <tr>\n",
              "      <th>4</th>\n",
              "      <td>MG</td>\n",
              "      <td>abadia dos dourados</td>\n",
              "      <td>30/03/2020</td>\n",
              "      <td>0.0</td>\n",
              "      <td>0.0</td>\n",
              "      <td>-18.48310</td>\n",
              "      <td>-47.3916</td>\n",
              "      <td>200.31478</td>\n",
              "      <td>MG</td>\n",
              "    </tr>\n",
              "    <tr>\n",
              "      <th>...</th>\n",
              "      <td>...</td>\n",
              "      <td>...</td>\n",
              "      <td>...</td>\n",
              "      <td>...</td>\n",
              "      <td>...</td>\n",
              "      <td>...</td>\n",
              "      <td>...</td>\n",
              "      <td>...</td>\n",
              "      <td>...</td>\n",
              "    </tr>\n",
              "    <tr>\n",
              "      <th>1496180</th>\n",
              "      <td>MA</td>\n",
              "      <td>ze doca</td>\n",
              "      <td>22/11/2020</td>\n",
              "      <td>0.0</td>\n",
              "      <td>0.0</td>\n",
              "      <td>-3.27014</td>\n",
              "      <td>-45.6553</td>\n",
              "      <td>25.13826</td>\n",
              "      <td>MA</td>\n",
              "    </tr>\n",
              "    <tr>\n",
              "      <th>1496181</th>\n",
              "      <td>MA</td>\n",
              "      <td>ze doca</td>\n",
              "      <td>23/11/2020</td>\n",
              "      <td>0.0</td>\n",
              "      <td>0.0</td>\n",
              "      <td>-3.27014</td>\n",
              "      <td>-45.6553</td>\n",
              "      <td>25.13826</td>\n",
              "      <td>MA</td>\n",
              "    </tr>\n",
              "    <tr>\n",
              "      <th>1496182</th>\n",
              "      <td>MA</td>\n",
              "      <td>ze doca</td>\n",
              "      <td>24/11/2020</td>\n",
              "      <td>0.0</td>\n",
              "      <td>0.0</td>\n",
              "      <td>-3.27014</td>\n",
              "      <td>-45.6553</td>\n",
              "      <td>25.13826</td>\n",
              "      <td>MA</td>\n",
              "    </tr>\n",
              "    <tr>\n",
              "      <th>1496183</th>\n",
              "      <td>MA</td>\n",
              "      <td>ze doca</td>\n",
              "      <td>25/11/2020</td>\n",
              "      <td>25.0</td>\n",
              "      <td>0.0</td>\n",
              "      <td>-3.27014</td>\n",
              "      <td>-45.6553</td>\n",
              "      <td>25.13826</td>\n",
              "      <td>MA</td>\n",
              "    </tr>\n",
              "    <tr>\n",
              "      <th>1496184</th>\n",
              "      <td>NaN</td>\n",
              "      <td>zortea</td>\n",
              "      <td>NaN</td>\n",
              "      <td>NaN</td>\n",
              "      <td>NaN</td>\n",
              "      <td>NaN</td>\n",
              "      <td>NaN</td>\n",
              "      <td>0.00000</td>\n",
              "      <td>SC</td>\n",
              "    </tr>\n",
              "  </tbody>\n",
              "</table>\n",
              "<p>1496185 rows × 9 columns</p>\n",
              "</div>"
            ],
            "text/plain": [
              "        estado_x            municipio  ... medicosCemMil  estado_y\n",
              "0            NaN      abadia de goias  ...     182.37775        GO\n",
              "1             MG  abadia dos dourados  ...     200.31478        MG\n",
              "2             MG  abadia dos dourados  ...     200.31478        MG\n",
              "3             MG  abadia dos dourados  ...     200.31478        MG\n",
              "4             MG  abadia dos dourados  ...     200.31478        MG\n",
              "...          ...                  ...  ...           ...       ...\n",
              "1496180       MA              ze doca  ...      25.13826        MA\n",
              "1496181       MA              ze doca  ...      25.13826        MA\n",
              "1496182       MA              ze doca  ...      25.13826        MA\n",
              "1496183       MA              ze doca  ...      25.13826        MA\n",
              "1496184      NaN               zortea  ...       0.00000        SC\n",
              "\n",
              "[1496185 rows x 9 columns]"
            ]
          },
          "metadata": {
            "tags": []
          },
          "execution_count": 270
        }
      ]
    },
    {
      "cell_type": "code",
      "metadata": {
        "id": "TGIysOpyNg7n"
      },
      "source": [
        "df_cov = df_covid[df_covid['medicosCemMil'].isna()]"
      ],
      "execution_count": 271,
      "outputs": []
    },
    {
      "cell_type": "code",
      "metadata": {
        "colab": {
          "base_uri": "https://localhost:8080/"
        },
        "id": "ep_byIfuNg_Q",
        "outputId": "04e14959-b919-4b11-9332-309eb5ca3a57"
      },
      "source": [
        "df_cov.sum()"
      ],
      "execution_count": 272,
      "outputs": [
        {
          "output_type": "execute_result",
          "data": {
            "text/plain": [
              "estado_x         0.0\n",
              "municipio        0.0\n",
              "data             0.0\n",
              "casos            0.0\n",
              "obitos           0.0\n",
              "lat              0.0\n",
              "long             0.0\n",
              "medicosCemMil    0.0\n",
              "estado_y         0.0\n",
              "dtype: float64"
            ]
          },
          "metadata": {
            "tags": []
          },
          "execution_count": 272
        }
      ]
    },
    {
      "cell_type": "code",
      "metadata": {
        "id": "Bz90dUHgNhCu"
      },
      "source": [
        "df_covid.dropna(inplace=True)"
      ],
      "execution_count": 273,
      "outputs": []
    },
    {
      "cell_type": "code",
      "metadata": {
        "colab": {
          "base_uri": "https://localhost:8080/"
        },
        "id": "OoXep_MGNhFV",
        "outputId": "0026b064-5d8d-4cf6-d070-19beb6fb3e1d"
      },
      "source": [
        "df_covid.isna().sum()"
      ],
      "execution_count": 274,
      "outputs": [
        {
          "output_type": "execute_result",
          "data": {
            "text/plain": [
              "estado_x         0\n",
              "municipio        0\n",
              "data             0\n",
              "casos            0\n",
              "obitos           0\n",
              "lat              0\n",
              "long             0\n",
              "medicosCemMil    0\n",
              "estado_y         0\n",
              "dtype: int64"
            ]
          },
          "metadata": {
            "tags": []
          },
          "execution_count": 274
        }
      ]
    },
    {
      "cell_type": "code",
      "metadata": {
        "colab": {
          "base_uri": "https://localhost:8080/",
          "height": 402
        },
        "id": "VnJ33G4zNhJG",
        "outputId": "fb6ff5a7-0d43-4af9-cb81-7d2ac9de5b53"
      },
      "source": [
        "df_covid"
      ],
      "execution_count": 275,
      "outputs": [
        {
          "output_type": "execute_result",
          "data": {
            "text/html": [
              "<div>\n",
              "<style scoped>\n",
              "    .dataframe tbody tr th:only-of-type {\n",
              "        vertical-align: middle;\n",
              "    }\n",
              "\n",
              "    .dataframe tbody tr th {\n",
              "        vertical-align: top;\n",
              "    }\n",
              "\n",
              "    .dataframe thead th {\n",
              "        text-align: right;\n",
              "    }\n",
              "</style>\n",
              "<table border=\"1\" class=\"dataframe\">\n",
              "  <thead>\n",
              "    <tr style=\"text-align: right;\">\n",
              "      <th></th>\n",
              "      <th>estado_x</th>\n",
              "      <th>municipio</th>\n",
              "      <th>data</th>\n",
              "      <th>casos</th>\n",
              "      <th>obitos</th>\n",
              "      <th>lat</th>\n",
              "      <th>long</th>\n",
              "      <th>medicosCemMil</th>\n",
              "      <th>estado_y</th>\n",
              "    </tr>\n",
              "  </thead>\n",
              "  <tbody>\n",
              "    <tr>\n",
              "      <th>1</th>\n",
              "      <td>MG</td>\n",
              "      <td>abadia dos dourados</td>\n",
              "      <td>27/03/2020</td>\n",
              "      <td>0.0</td>\n",
              "      <td>0.0</td>\n",
              "      <td>-18.48310</td>\n",
              "      <td>-47.3916</td>\n",
              "      <td>200.31478</td>\n",
              "      <td>MG</td>\n",
              "    </tr>\n",
              "    <tr>\n",
              "      <th>2</th>\n",
              "      <td>MG</td>\n",
              "      <td>abadia dos dourados</td>\n",
              "      <td>28/03/2020</td>\n",
              "      <td>0.0</td>\n",
              "      <td>0.0</td>\n",
              "      <td>-18.48310</td>\n",
              "      <td>-47.3916</td>\n",
              "      <td>200.31478</td>\n",
              "      <td>MG</td>\n",
              "    </tr>\n",
              "    <tr>\n",
              "      <th>3</th>\n",
              "      <td>MG</td>\n",
              "      <td>abadia dos dourados</td>\n",
              "      <td>29/03/2020</td>\n",
              "      <td>0.0</td>\n",
              "      <td>0.0</td>\n",
              "      <td>-18.48310</td>\n",
              "      <td>-47.3916</td>\n",
              "      <td>200.31478</td>\n",
              "      <td>MG</td>\n",
              "    </tr>\n",
              "    <tr>\n",
              "      <th>4</th>\n",
              "      <td>MG</td>\n",
              "      <td>abadia dos dourados</td>\n",
              "      <td>30/03/2020</td>\n",
              "      <td>0.0</td>\n",
              "      <td>0.0</td>\n",
              "      <td>-18.48310</td>\n",
              "      <td>-47.3916</td>\n",
              "      <td>200.31478</td>\n",
              "      <td>MG</td>\n",
              "    </tr>\n",
              "    <tr>\n",
              "      <th>5</th>\n",
              "      <td>MG</td>\n",
              "      <td>abadia dos dourados</td>\n",
              "      <td>31/03/2020</td>\n",
              "      <td>0.0</td>\n",
              "      <td>0.0</td>\n",
              "      <td>-18.48310</td>\n",
              "      <td>-47.3916</td>\n",
              "      <td>200.31478</td>\n",
              "      <td>MG</td>\n",
              "    </tr>\n",
              "    <tr>\n",
              "      <th>...</th>\n",
              "      <td>...</td>\n",
              "      <td>...</td>\n",
              "      <td>...</td>\n",
              "      <td>...</td>\n",
              "      <td>...</td>\n",
              "      <td>...</td>\n",
              "      <td>...</td>\n",
              "      <td>...</td>\n",
              "      <td>...</td>\n",
              "    </tr>\n",
              "    <tr>\n",
              "      <th>1496179</th>\n",
              "      <td>MA</td>\n",
              "      <td>ze doca</td>\n",
              "      <td>21/11/2020</td>\n",
              "      <td>0.0</td>\n",
              "      <td>0.0</td>\n",
              "      <td>-3.27014</td>\n",
              "      <td>-45.6553</td>\n",
              "      <td>25.13826</td>\n",
              "      <td>MA</td>\n",
              "    </tr>\n",
              "    <tr>\n",
              "      <th>1496180</th>\n",
              "      <td>MA</td>\n",
              "      <td>ze doca</td>\n",
              "      <td>22/11/2020</td>\n",
              "      <td>0.0</td>\n",
              "      <td>0.0</td>\n",
              "      <td>-3.27014</td>\n",
              "      <td>-45.6553</td>\n",
              "      <td>25.13826</td>\n",
              "      <td>MA</td>\n",
              "    </tr>\n",
              "    <tr>\n",
              "      <th>1496181</th>\n",
              "      <td>MA</td>\n",
              "      <td>ze doca</td>\n",
              "      <td>23/11/2020</td>\n",
              "      <td>0.0</td>\n",
              "      <td>0.0</td>\n",
              "      <td>-3.27014</td>\n",
              "      <td>-45.6553</td>\n",
              "      <td>25.13826</td>\n",
              "      <td>MA</td>\n",
              "    </tr>\n",
              "    <tr>\n",
              "      <th>1496182</th>\n",
              "      <td>MA</td>\n",
              "      <td>ze doca</td>\n",
              "      <td>24/11/2020</td>\n",
              "      <td>0.0</td>\n",
              "      <td>0.0</td>\n",
              "      <td>-3.27014</td>\n",
              "      <td>-45.6553</td>\n",
              "      <td>25.13826</td>\n",
              "      <td>MA</td>\n",
              "    </tr>\n",
              "    <tr>\n",
              "      <th>1496183</th>\n",
              "      <td>MA</td>\n",
              "      <td>ze doca</td>\n",
              "      <td>25/11/2020</td>\n",
              "      <td>25.0</td>\n",
              "      <td>0.0</td>\n",
              "      <td>-3.27014</td>\n",
              "      <td>-45.6553</td>\n",
              "      <td>25.13826</td>\n",
              "      <td>MA</td>\n",
              "    </tr>\n",
              "  </tbody>\n",
              "</table>\n",
              "<p>1494959 rows × 9 columns</p>\n",
              "</div>"
            ],
            "text/plain": [
              "        estado_x            municipio  ... medicosCemMil  estado_y\n",
              "1             MG  abadia dos dourados  ...     200.31478        MG\n",
              "2             MG  abadia dos dourados  ...     200.31478        MG\n",
              "3             MG  abadia dos dourados  ...     200.31478        MG\n",
              "4             MG  abadia dos dourados  ...     200.31478        MG\n",
              "5             MG  abadia dos dourados  ...     200.31478        MG\n",
              "...          ...                  ...  ...           ...       ...\n",
              "1496179       MA              ze doca  ...      25.13826        MA\n",
              "1496180       MA              ze doca  ...      25.13826        MA\n",
              "1496181       MA              ze doca  ...      25.13826        MA\n",
              "1496182       MA              ze doca  ...      25.13826        MA\n",
              "1496183       MA              ze doca  ...      25.13826        MA\n",
              "\n",
              "[1494959 rows x 9 columns]"
            ]
          },
          "metadata": {
            "tags": []
          },
          "execution_count": 275
        }
      ]
    },
    {
      "cell_type": "code",
      "metadata": {
        "id": "ttBBa8CoNhMZ"
      },
      "source": [
        "df_covid.drop('estado_y', axis=1, inplace=True)"
      ],
      "execution_count": 276,
      "outputs": []
    },
    {
      "cell_type": "code",
      "metadata": {
        "id": "6wVlLGWkZ_66"
      },
      "source": [
        "df_covid.rename(columns={'estado_x':'estado'}, inplace=True)"
      ],
      "execution_count": 277,
      "outputs": []
    },
    {
      "cell_type": "code",
      "metadata": {
        "id": "Hi5l_kvEaSNB"
      },
      "source": [
        "df_covid['casos'] = df_covid['casos'].astype(int)"
      ],
      "execution_count": 278,
      "outputs": []
    },
    {
      "cell_type": "code",
      "metadata": {
        "id": "aQ2t0Lt7aWD3"
      },
      "source": [
        "df_covid['obitos'] = df_covid['obitos'].astype(int)"
      ],
      "execution_count": 279,
      "outputs": []
    },
    {
      "cell_type": "code",
      "metadata": {
        "colab": {
          "base_uri": "https://localhost:8080/",
          "height": 402
        },
        "id": "DUMqNkr3So3D",
        "outputId": "2acaa856-8476-454e-8aa7-ab761fd07c8e"
      },
      "source": [
        "df_covid"
      ],
      "execution_count": 280,
      "outputs": [
        {
          "output_type": "execute_result",
          "data": {
            "text/html": [
              "<div>\n",
              "<style scoped>\n",
              "    .dataframe tbody tr th:only-of-type {\n",
              "        vertical-align: middle;\n",
              "    }\n",
              "\n",
              "    .dataframe tbody tr th {\n",
              "        vertical-align: top;\n",
              "    }\n",
              "\n",
              "    .dataframe thead th {\n",
              "        text-align: right;\n",
              "    }\n",
              "</style>\n",
              "<table border=\"1\" class=\"dataframe\">\n",
              "  <thead>\n",
              "    <tr style=\"text-align: right;\">\n",
              "      <th></th>\n",
              "      <th>estado</th>\n",
              "      <th>municipio</th>\n",
              "      <th>data</th>\n",
              "      <th>casos</th>\n",
              "      <th>obitos</th>\n",
              "      <th>lat</th>\n",
              "      <th>long</th>\n",
              "      <th>medicosCemMil</th>\n",
              "    </tr>\n",
              "  </thead>\n",
              "  <tbody>\n",
              "    <tr>\n",
              "      <th>1</th>\n",
              "      <td>MG</td>\n",
              "      <td>abadia dos dourados</td>\n",
              "      <td>27/03/2020</td>\n",
              "      <td>0</td>\n",
              "      <td>0</td>\n",
              "      <td>-18.48310</td>\n",
              "      <td>-47.3916</td>\n",
              "      <td>200.31478</td>\n",
              "    </tr>\n",
              "    <tr>\n",
              "      <th>2</th>\n",
              "      <td>MG</td>\n",
              "      <td>abadia dos dourados</td>\n",
              "      <td>28/03/2020</td>\n",
              "      <td>0</td>\n",
              "      <td>0</td>\n",
              "      <td>-18.48310</td>\n",
              "      <td>-47.3916</td>\n",
              "      <td>200.31478</td>\n",
              "    </tr>\n",
              "    <tr>\n",
              "      <th>3</th>\n",
              "      <td>MG</td>\n",
              "      <td>abadia dos dourados</td>\n",
              "      <td>29/03/2020</td>\n",
              "      <td>0</td>\n",
              "      <td>0</td>\n",
              "      <td>-18.48310</td>\n",
              "      <td>-47.3916</td>\n",
              "      <td>200.31478</td>\n",
              "    </tr>\n",
              "    <tr>\n",
              "      <th>4</th>\n",
              "      <td>MG</td>\n",
              "      <td>abadia dos dourados</td>\n",
              "      <td>30/03/2020</td>\n",
              "      <td>0</td>\n",
              "      <td>0</td>\n",
              "      <td>-18.48310</td>\n",
              "      <td>-47.3916</td>\n",
              "      <td>200.31478</td>\n",
              "    </tr>\n",
              "    <tr>\n",
              "      <th>5</th>\n",
              "      <td>MG</td>\n",
              "      <td>abadia dos dourados</td>\n",
              "      <td>31/03/2020</td>\n",
              "      <td>0</td>\n",
              "      <td>0</td>\n",
              "      <td>-18.48310</td>\n",
              "      <td>-47.3916</td>\n",
              "      <td>200.31478</td>\n",
              "    </tr>\n",
              "    <tr>\n",
              "      <th>...</th>\n",
              "      <td>...</td>\n",
              "      <td>...</td>\n",
              "      <td>...</td>\n",
              "      <td>...</td>\n",
              "      <td>...</td>\n",
              "      <td>...</td>\n",
              "      <td>...</td>\n",
              "      <td>...</td>\n",
              "    </tr>\n",
              "    <tr>\n",
              "      <th>1496179</th>\n",
              "      <td>MA</td>\n",
              "      <td>ze doca</td>\n",
              "      <td>21/11/2020</td>\n",
              "      <td>0</td>\n",
              "      <td>0</td>\n",
              "      <td>-3.27014</td>\n",
              "      <td>-45.6553</td>\n",
              "      <td>25.13826</td>\n",
              "    </tr>\n",
              "    <tr>\n",
              "      <th>1496180</th>\n",
              "      <td>MA</td>\n",
              "      <td>ze doca</td>\n",
              "      <td>22/11/2020</td>\n",
              "      <td>0</td>\n",
              "      <td>0</td>\n",
              "      <td>-3.27014</td>\n",
              "      <td>-45.6553</td>\n",
              "      <td>25.13826</td>\n",
              "    </tr>\n",
              "    <tr>\n",
              "      <th>1496181</th>\n",
              "      <td>MA</td>\n",
              "      <td>ze doca</td>\n",
              "      <td>23/11/2020</td>\n",
              "      <td>0</td>\n",
              "      <td>0</td>\n",
              "      <td>-3.27014</td>\n",
              "      <td>-45.6553</td>\n",
              "      <td>25.13826</td>\n",
              "    </tr>\n",
              "    <tr>\n",
              "      <th>1496182</th>\n",
              "      <td>MA</td>\n",
              "      <td>ze doca</td>\n",
              "      <td>24/11/2020</td>\n",
              "      <td>0</td>\n",
              "      <td>0</td>\n",
              "      <td>-3.27014</td>\n",
              "      <td>-45.6553</td>\n",
              "      <td>25.13826</td>\n",
              "    </tr>\n",
              "    <tr>\n",
              "      <th>1496183</th>\n",
              "      <td>MA</td>\n",
              "      <td>ze doca</td>\n",
              "      <td>25/11/2020</td>\n",
              "      <td>25</td>\n",
              "      <td>0</td>\n",
              "      <td>-3.27014</td>\n",
              "      <td>-45.6553</td>\n",
              "      <td>25.13826</td>\n",
              "    </tr>\n",
              "  </tbody>\n",
              "</table>\n",
              "<p>1494959 rows × 8 columns</p>\n",
              "</div>"
            ],
            "text/plain": [
              "        estado            municipio  ...     long  medicosCemMil\n",
              "1           MG  abadia dos dourados  ... -47.3916      200.31478\n",
              "2           MG  abadia dos dourados  ... -47.3916      200.31478\n",
              "3           MG  abadia dos dourados  ... -47.3916      200.31478\n",
              "4           MG  abadia dos dourados  ... -47.3916      200.31478\n",
              "5           MG  abadia dos dourados  ... -47.3916      200.31478\n",
              "...        ...                  ...  ...      ...            ...\n",
              "1496179     MA              ze doca  ... -45.6553       25.13826\n",
              "1496180     MA              ze doca  ... -45.6553       25.13826\n",
              "1496181     MA              ze doca  ... -45.6553       25.13826\n",
              "1496182     MA              ze doca  ... -45.6553       25.13826\n",
              "1496183     MA              ze doca  ... -45.6553       25.13826\n",
              "\n",
              "[1494959 rows x 8 columns]"
            ]
          },
          "metadata": {
            "tags": []
          },
          "execution_count": 280
        }
      ]
    },
    {
      "cell_type": "code",
      "metadata": {
        "id": "dMpWEAVsSpBv"
      },
      "source": [
        ""
      ],
      "execution_count": null,
      "outputs": []
    },
    {
      "cell_type": "code",
      "metadata": {
        "id": "zguMbzIrSpEi"
      },
      "source": [
        ""
      ],
      "execution_count": null,
      "outputs": []
    },
    {
      "cell_type": "code",
      "metadata": {
        "colab": {
          "base_uri": "https://localhost:8080/",
          "height": 402
        },
        "id": "mykWnS2laWON",
        "outputId": "f688ce81-bd7e-4c9e-cfcf-adcea6946fcd"
      },
      "source": [
        "df_pibsemesorreg"
      ],
      "execution_count": 281,
      "outputs": [
        {
          "output_type": "execute_result",
          "data": {
            "text/html": [
              "<div>\n",
              "<style scoped>\n",
              "    .dataframe tbody tr th:only-of-type {\n",
              "        vertical-align: middle;\n",
              "    }\n",
              "\n",
              "    .dataframe tbody tr th {\n",
              "        vertical-align: top;\n",
              "    }\n",
              "\n",
              "    .dataframe thead th {\n",
              "        text-align: right;\n",
              "    }\n",
              "</style>\n",
              "<table border=\"1\" class=\"dataframe\">\n",
              "  <thead>\n",
              "    <tr style=\"text-align: right;\">\n",
              "      <th></th>\n",
              "      <th>ord</th>\n",
              "      <th>regiaopais</th>\n",
              "      <th>estado</th>\n",
              "      <th>municipio</th>\n",
              "      <th>mesorregiao</th>\n",
              "      <th>pib</th>\n",
              "    </tr>\n",
              "  </thead>\n",
              "  <tbody>\n",
              "    <tr>\n",
              "      <th>0</th>\n",
              "      <td>1</td>\n",
              "      <td>Norte</td>\n",
              "      <td>RO</td>\n",
              "      <td>Alta Floresta D'Oeste</td>\n",
              "      <td>Leste Rondoniense</td>\n",
              "      <td>19611,75</td>\n",
              "    </tr>\n",
              "    <tr>\n",
              "      <th>1</th>\n",
              "      <td>2</td>\n",
              "      <td>Norte</td>\n",
              "      <td>RO</td>\n",
              "      <td>Ariquemes</td>\n",
              "      <td>Leste Rondoniense</td>\n",
              "      <td>21389,67</td>\n",
              "    </tr>\n",
              "    <tr>\n",
              "      <th>2</th>\n",
              "      <td>3</td>\n",
              "      <td>Norte</td>\n",
              "      <td>RO</td>\n",
              "      <td>Cabixi</td>\n",
              "      <td>Leste Rondoniense</td>\n",
              "      <td>22315,8</td>\n",
              "    </tr>\n",
              "    <tr>\n",
              "      <th>3</th>\n",
              "      <td>4</td>\n",
              "      <td>Norte</td>\n",
              "      <td>RO</td>\n",
              "      <td>Cacoal</td>\n",
              "      <td>Leste Rondoniense</td>\n",
              "      <td>24037,91</td>\n",
              "    </tr>\n",
              "    <tr>\n",
              "      <th>4</th>\n",
              "      <td>5</td>\n",
              "      <td>Norte</td>\n",
              "      <td>RO</td>\n",
              "      <td>Cerejeiras</td>\n",
              "      <td>Leste Rondoniense</td>\n",
              "      <td>25009,71</td>\n",
              "    </tr>\n",
              "    <tr>\n",
              "      <th>...</th>\n",
              "      <td>...</td>\n",
              "      <td>...</td>\n",
              "      <td>...</td>\n",
              "      <td>...</td>\n",
              "      <td>...</td>\n",
              "      <td>...</td>\n",
              "    </tr>\n",
              "    <tr>\n",
              "      <th>5565</th>\n",
              "      <td>5566</td>\n",
              "      <td>Centro-oeste</td>\n",
              "      <td>GO</td>\n",
              "      <td>Vianópolis</td>\n",
              "      <td>Sul Goiano</td>\n",
              "      <td>28942,36</td>\n",
              "    </tr>\n",
              "    <tr>\n",
              "      <th>5566</th>\n",
              "      <td>5567</td>\n",
              "      <td>Centro-oeste</td>\n",
              "      <td>GO</td>\n",
              "      <td>Vicentinópolis</td>\n",
              "      <td>Sul Goiano</td>\n",
              "      <td>41772,71</td>\n",
              "    </tr>\n",
              "    <tr>\n",
              "      <th>5567</th>\n",
              "      <td>5568</td>\n",
              "      <td>Centro-oeste</td>\n",
              "      <td>GO</td>\n",
              "      <td>Vila Boa</td>\n",
              "      <td>Leste Goiano</td>\n",
              "      <td>23992,38</td>\n",
              "    </tr>\n",
              "    <tr>\n",
              "      <th>5568</th>\n",
              "      <td>5569</td>\n",
              "      <td>Centro-oeste</td>\n",
              "      <td>GO</td>\n",
              "      <td>Vila Propício</td>\n",
              "      <td>Leste Goiano</td>\n",
              "      <td>32016,61</td>\n",
              "    </tr>\n",
              "    <tr>\n",
              "      <th>5569</th>\n",
              "      <td>5570</td>\n",
              "      <td>Centro-oeste</td>\n",
              "      <td>DF</td>\n",
              "      <td>Brasília</td>\n",
              "      <td>Distrito Federal</td>\n",
              "      <td>80502,47</td>\n",
              "    </tr>\n",
              "  </tbody>\n",
              "</table>\n",
              "<p>5570 rows × 6 columns</p>\n",
              "</div>"
            ],
            "text/plain": [
              "       ord    regiaopais  ...        mesorregiao       pib\n",
              "0        1         Norte  ...  Leste Rondoniense  19611,75\n",
              "1        2         Norte  ...  Leste Rondoniense  21389,67\n",
              "2        3         Norte  ...  Leste Rondoniense   22315,8\n",
              "3        4         Norte  ...  Leste Rondoniense  24037,91\n",
              "4        5         Norte  ...  Leste Rondoniense  25009,71\n",
              "...    ...           ...  ...                ...       ...\n",
              "5565  5566  Centro-oeste  ...         Sul Goiano  28942,36\n",
              "5566  5567  Centro-oeste  ...         Sul Goiano  41772,71\n",
              "5567  5568  Centro-oeste  ...       Leste Goiano  23992,38\n",
              "5568  5569  Centro-oeste  ...       Leste Goiano  32016,61\n",
              "5569  5570  Centro-oeste  ...   Distrito Federal  80502,47\n",
              "\n",
              "[5570 rows x 6 columns]"
            ]
          },
          "metadata": {
            "tags": []
          },
          "execution_count": 281
        }
      ]
    },
    {
      "cell_type": "code",
      "metadata": {
        "id": "zfB36CssaWSX"
      },
      "source": [
        "df_pibsemesorreg.drop('ord', axis =1,inplace=True)"
      ],
      "execution_count": 282,
      "outputs": []
    },
    {
      "cell_type": "code",
      "metadata": {
        "id": "dktApxjKaWXH"
      },
      "source": [
        "df_pibsemesorreg['municipio'] = df_pibsemesorreg['municipio'].str.normalize('NFKD').str.encode('ASCII', errors='ignore').str.decode('ASCII')\n",
        "df_pibsemesorreg['municipio'] = df_pibsemesorreg['municipio'].str.replace('[-,_]',' ')\n",
        "df_pibsemesorreg['municipio'] = df_pibsemesorreg['municipio'].str.replace(\"'\",' ')\n",
        "df_pibsemesorreg['municipio'] = df_pibsemesorreg['municipio'].str.lower()"
      ],
      "execution_count": 286,
      "outputs": []
    },
    {
      "cell_type": "code",
      "metadata": {
        "id": "5-QdROLXbk4z"
      },
      "source": [
        ""
      ],
      "execution_count": null,
      "outputs": []
    },
    {
      "cell_type": "code",
      "metadata": {
        "colab": {
          "base_uri": "https://localhost:8080/",
          "height": 402
        },
        "id": "bpwG7IffblQa",
        "outputId": "11e02137-92ef-4e06-a305-1e41d0ca19bd"
      },
      "source": [
        "df_pibsemesorreg"
      ],
      "execution_count": 287,
      "outputs": [
        {
          "output_type": "execute_result",
          "data": {
            "text/html": [
              "<div>\n",
              "<style scoped>\n",
              "    .dataframe tbody tr th:only-of-type {\n",
              "        vertical-align: middle;\n",
              "    }\n",
              "\n",
              "    .dataframe tbody tr th {\n",
              "        vertical-align: top;\n",
              "    }\n",
              "\n",
              "    .dataframe thead th {\n",
              "        text-align: right;\n",
              "    }\n",
              "</style>\n",
              "<table border=\"1\" class=\"dataframe\">\n",
              "  <thead>\n",
              "    <tr style=\"text-align: right;\">\n",
              "      <th></th>\n",
              "      <th>regiaopais</th>\n",
              "      <th>estado</th>\n",
              "      <th>municipio</th>\n",
              "      <th>mesorregiao</th>\n",
              "      <th>pib</th>\n",
              "    </tr>\n",
              "  </thead>\n",
              "  <tbody>\n",
              "    <tr>\n",
              "      <th>0</th>\n",
              "      <td>Norte</td>\n",
              "      <td>RO</td>\n",
              "      <td>alta floresta d oeste</td>\n",
              "      <td>Leste Rondoniense</td>\n",
              "      <td>19611,75</td>\n",
              "    </tr>\n",
              "    <tr>\n",
              "      <th>1</th>\n",
              "      <td>Norte</td>\n",
              "      <td>RO</td>\n",
              "      <td>ariquemes</td>\n",
              "      <td>Leste Rondoniense</td>\n",
              "      <td>21389,67</td>\n",
              "    </tr>\n",
              "    <tr>\n",
              "      <th>2</th>\n",
              "      <td>Norte</td>\n",
              "      <td>RO</td>\n",
              "      <td>cabixi</td>\n",
              "      <td>Leste Rondoniense</td>\n",
              "      <td>22315,8</td>\n",
              "    </tr>\n",
              "    <tr>\n",
              "      <th>3</th>\n",
              "      <td>Norte</td>\n",
              "      <td>RO</td>\n",
              "      <td>cacoal</td>\n",
              "      <td>Leste Rondoniense</td>\n",
              "      <td>24037,91</td>\n",
              "    </tr>\n",
              "    <tr>\n",
              "      <th>4</th>\n",
              "      <td>Norte</td>\n",
              "      <td>RO</td>\n",
              "      <td>cerejeiras</td>\n",
              "      <td>Leste Rondoniense</td>\n",
              "      <td>25009,71</td>\n",
              "    </tr>\n",
              "    <tr>\n",
              "      <th>...</th>\n",
              "      <td>...</td>\n",
              "      <td>...</td>\n",
              "      <td>...</td>\n",
              "      <td>...</td>\n",
              "      <td>...</td>\n",
              "    </tr>\n",
              "    <tr>\n",
              "      <th>5565</th>\n",
              "      <td>Centro-oeste</td>\n",
              "      <td>GO</td>\n",
              "      <td>vianopolis</td>\n",
              "      <td>Sul Goiano</td>\n",
              "      <td>28942,36</td>\n",
              "    </tr>\n",
              "    <tr>\n",
              "      <th>5566</th>\n",
              "      <td>Centro-oeste</td>\n",
              "      <td>GO</td>\n",
              "      <td>vicentinopolis</td>\n",
              "      <td>Sul Goiano</td>\n",
              "      <td>41772,71</td>\n",
              "    </tr>\n",
              "    <tr>\n",
              "      <th>5567</th>\n",
              "      <td>Centro-oeste</td>\n",
              "      <td>GO</td>\n",
              "      <td>vila boa</td>\n",
              "      <td>Leste Goiano</td>\n",
              "      <td>23992,38</td>\n",
              "    </tr>\n",
              "    <tr>\n",
              "      <th>5568</th>\n",
              "      <td>Centro-oeste</td>\n",
              "      <td>GO</td>\n",
              "      <td>vila propicio</td>\n",
              "      <td>Leste Goiano</td>\n",
              "      <td>32016,61</td>\n",
              "    </tr>\n",
              "    <tr>\n",
              "      <th>5569</th>\n",
              "      <td>Centro-oeste</td>\n",
              "      <td>DF</td>\n",
              "      <td>brasilia</td>\n",
              "      <td>Distrito Federal</td>\n",
              "      <td>80502,47</td>\n",
              "    </tr>\n",
              "  </tbody>\n",
              "</table>\n",
              "<p>5570 rows × 5 columns</p>\n",
              "</div>"
            ],
            "text/plain": [
              "        regiaopais estado              municipio        mesorregiao       pib\n",
              "0            Norte     RO  alta floresta d oeste  Leste Rondoniense  19611,75\n",
              "1            Norte     RO              ariquemes  Leste Rondoniense  21389,67\n",
              "2            Norte     RO                 cabixi  Leste Rondoniense   22315,8\n",
              "3            Norte     RO                 cacoal  Leste Rondoniense  24037,91\n",
              "4            Norte     RO             cerejeiras  Leste Rondoniense  25009,71\n",
              "...            ...    ...                    ...                ...       ...\n",
              "5565  Centro-oeste     GO             vianopolis         Sul Goiano  28942,36\n",
              "5566  Centro-oeste     GO         vicentinopolis         Sul Goiano  41772,71\n",
              "5567  Centro-oeste     GO               vila boa       Leste Goiano  23992,38\n",
              "5568  Centro-oeste     GO          vila propicio       Leste Goiano  32016,61\n",
              "5569  Centro-oeste     DF               brasilia   Distrito Federal  80502,47\n",
              "\n",
              "[5570 rows x 5 columns]"
            ]
          },
          "metadata": {
            "tags": []
          },
          "execution_count": 287
        }
      ]
    },
    {
      "cell_type": "code",
      "metadata": {
        "id": "PNB8mIE6byou"
      },
      "source": [
        ""
      ],
      "execution_count": null,
      "outputs": []
    },
    {
      "cell_type": "code",
      "metadata": {
        "id": "KMouc33HZvcF"
      },
      "source": [
        ""
      ],
      "execution_count": null,
      "outputs": []
    },
    {
      "cell_type": "code",
      "metadata": {
        "id": "xrAGAPyJZvfb"
      },
      "source": [
        ""
      ],
      "execution_count": null,
      "outputs": []
    },
    {
      "cell_type": "code",
      "metadata": {
        "id": "UQUKJh9nZvlp"
      },
      "source": [
        ""
      ],
      "execution_count": null,
      "outputs": []
    },
    {
      "cell_type": "code",
      "metadata": {
        "id": "Pp3bfNwcZvoX"
      },
      "source": [
        "df_teste = pd.concat([df_covid, df_pibsemesorreg]).drop_duplicates().reset_index(drop=True)\n"
      ],
      "execution_count": 288,
      "outputs": []
    },
    {
      "cell_type": "code",
      "metadata": {
        "colab": {
          "base_uri": "https://localhost:8080/",
          "height": 402
        },
        "id": "n0nPVTVdZvuj",
        "outputId": "b270780a-f58b-4d1b-e64f-33e0e2025721"
      },
      "source": [
        "df_teste"
      ],
      "execution_count": 289,
      "outputs": [
        {
          "output_type": "execute_result",
          "data": {
            "text/html": [
              "<div>\n",
              "<style scoped>\n",
              "    .dataframe tbody tr th:only-of-type {\n",
              "        vertical-align: middle;\n",
              "    }\n",
              "\n",
              "    .dataframe tbody tr th {\n",
              "        vertical-align: top;\n",
              "    }\n",
              "\n",
              "    .dataframe thead th {\n",
              "        text-align: right;\n",
              "    }\n",
              "</style>\n",
              "<table border=\"1\" class=\"dataframe\">\n",
              "  <thead>\n",
              "    <tr style=\"text-align: right;\">\n",
              "      <th></th>\n",
              "      <th>estado</th>\n",
              "      <th>municipio</th>\n",
              "      <th>data</th>\n",
              "      <th>casos</th>\n",
              "      <th>obitos</th>\n",
              "      <th>lat</th>\n",
              "      <th>long</th>\n",
              "      <th>medicosCemMil</th>\n",
              "      <th>regiaopais</th>\n",
              "      <th>mesorregiao</th>\n",
              "      <th>pib</th>\n",
              "    </tr>\n",
              "  </thead>\n",
              "  <tbody>\n",
              "    <tr>\n",
              "      <th>0</th>\n",
              "      <td>MG</td>\n",
              "      <td>abadia dos dourados</td>\n",
              "      <td>27/03/2020</td>\n",
              "      <td>0.0</td>\n",
              "      <td>0.0</td>\n",
              "      <td>-18.4831</td>\n",
              "      <td>-47.3916</td>\n",
              "      <td>200.31478</td>\n",
              "      <td>NaN</td>\n",
              "      <td>NaN</td>\n",
              "      <td>NaN</td>\n",
              "    </tr>\n",
              "    <tr>\n",
              "      <th>1</th>\n",
              "      <td>MG</td>\n",
              "      <td>abadia dos dourados</td>\n",
              "      <td>28/03/2020</td>\n",
              "      <td>0.0</td>\n",
              "      <td>0.0</td>\n",
              "      <td>-18.4831</td>\n",
              "      <td>-47.3916</td>\n",
              "      <td>200.31478</td>\n",
              "      <td>NaN</td>\n",
              "      <td>NaN</td>\n",
              "      <td>NaN</td>\n",
              "    </tr>\n",
              "    <tr>\n",
              "      <th>2</th>\n",
              "      <td>MG</td>\n",
              "      <td>abadia dos dourados</td>\n",
              "      <td>29/03/2020</td>\n",
              "      <td>0.0</td>\n",
              "      <td>0.0</td>\n",
              "      <td>-18.4831</td>\n",
              "      <td>-47.3916</td>\n",
              "      <td>200.31478</td>\n",
              "      <td>NaN</td>\n",
              "      <td>NaN</td>\n",
              "      <td>NaN</td>\n",
              "    </tr>\n",
              "    <tr>\n",
              "      <th>3</th>\n",
              "      <td>MG</td>\n",
              "      <td>abadia dos dourados</td>\n",
              "      <td>30/03/2020</td>\n",
              "      <td>0.0</td>\n",
              "      <td>0.0</td>\n",
              "      <td>-18.4831</td>\n",
              "      <td>-47.3916</td>\n",
              "      <td>200.31478</td>\n",
              "      <td>NaN</td>\n",
              "      <td>NaN</td>\n",
              "      <td>NaN</td>\n",
              "    </tr>\n",
              "    <tr>\n",
              "      <th>4</th>\n",
              "      <td>MG</td>\n",
              "      <td>abadia dos dourados</td>\n",
              "      <td>31/03/2020</td>\n",
              "      <td>0.0</td>\n",
              "      <td>0.0</td>\n",
              "      <td>-18.4831</td>\n",
              "      <td>-47.3916</td>\n",
              "      <td>200.31478</td>\n",
              "      <td>NaN</td>\n",
              "      <td>NaN</td>\n",
              "      <td>NaN</td>\n",
              "    </tr>\n",
              "    <tr>\n",
              "      <th>...</th>\n",
              "      <td>...</td>\n",
              "      <td>...</td>\n",
              "      <td>...</td>\n",
              "      <td>...</td>\n",
              "      <td>...</td>\n",
              "      <td>...</td>\n",
              "      <td>...</td>\n",
              "      <td>...</td>\n",
              "      <td>...</td>\n",
              "      <td>...</td>\n",
              "      <td>...</td>\n",
              "    </tr>\n",
              "    <tr>\n",
              "      <th>1500524</th>\n",
              "      <td>GO</td>\n",
              "      <td>vianopolis</td>\n",
              "      <td>NaN</td>\n",
              "      <td>NaN</td>\n",
              "      <td>NaN</td>\n",
              "      <td>NaN</td>\n",
              "      <td>NaN</td>\n",
              "      <td>NaN</td>\n",
              "      <td>Centro-oeste</td>\n",
              "      <td>Sul Goiano</td>\n",
              "      <td>28942,36</td>\n",
              "    </tr>\n",
              "    <tr>\n",
              "      <th>1500525</th>\n",
              "      <td>GO</td>\n",
              "      <td>vicentinopolis</td>\n",
              "      <td>NaN</td>\n",
              "      <td>NaN</td>\n",
              "      <td>NaN</td>\n",
              "      <td>NaN</td>\n",
              "      <td>NaN</td>\n",
              "      <td>NaN</td>\n",
              "      <td>Centro-oeste</td>\n",
              "      <td>Sul Goiano</td>\n",
              "      <td>41772,71</td>\n",
              "    </tr>\n",
              "    <tr>\n",
              "      <th>1500526</th>\n",
              "      <td>GO</td>\n",
              "      <td>vila boa</td>\n",
              "      <td>NaN</td>\n",
              "      <td>NaN</td>\n",
              "      <td>NaN</td>\n",
              "      <td>NaN</td>\n",
              "      <td>NaN</td>\n",
              "      <td>NaN</td>\n",
              "      <td>Centro-oeste</td>\n",
              "      <td>Leste Goiano</td>\n",
              "      <td>23992,38</td>\n",
              "    </tr>\n",
              "    <tr>\n",
              "      <th>1500527</th>\n",
              "      <td>GO</td>\n",
              "      <td>vila propicio</td>\n",
              "      <td>NaN</td>\n",
              "      <td>NaN</td>\n",
              "      <td>NaN</td>\n",
              "      <td>NaN</td>\n",
              "      <td>NaN</td>\n",
              "      <td>NaN</td>\n",
              "      <td>Centro-oeste</td>\n",
              "      <td>Leste Goiano</td>\n",
              "      <td>32016,61</td>\n",
              "    </tr>\n",
              "    <tr>\n",
              "      <th>1500528</th>\n",
              "      <td>DF</td>\n",
              "      <td>brasilia</td>\n",
              "      <td>NaN</td>\n",
              "      <td>NaN</td>\n",
              "      <td>NaN</td>\n",
              "      <td>NaN</td>\n",
              "      <td>NaN</td>\n",
              "      <td>NaN</td>\n",
              "      <td>Centro-oeste</td>\n",
              "      <td>Distrito Federal</td>\n",
              "      <td>80502,47</td>\n",
              "    </tr>\n",
              "  </tbody>\n",
              "</table>\n",
              "<p>1500529 rows × 11 columns</p>\n",
              "</div>"
            ],
            "text/plain": [
              "        estado            municipio  ...       mesorregiao       pib\n",
              "0           MG  abadia dos dourados  ...               NaN       NaN\n",
              "1           MG  abadia dos dourados  ...               NaN       NaN\n",
              "2           MG  abadia dos dourados  ...               NaN       NaN\n",
              "3           MG  abadia dos dourados  ...               NaN       NaN\n",
              "4           MG  abadia dos dourados  ...               NaN       NaN\n",
              "...        ...                  ...  ...               ...       ...\n",
              "1500524     GO           vianopolis  ...        Sul Goiano  28942,36\n",
              "1500525     GO       vicentinopolis  ...        Sul Goiano  41772,71\n",
              "1500526     GO             vila boa  ...      Leste Goiano  23992,38\n",
              "1500527     GO        vila propicio  ...      Leste Goiano  32016,61\n",
              "1500528     DF             brasilia  ...  Distrito Federal  80502,47\n",
              "\n",
              "[1500529 rows x 11 columns]"
            ]
          },
          "metadata": {
            "tags": []
          },
          "execution_count": 289
        }
      ]
    },
    {
      "cell_type": "code",
      "metadata": {
        "id": "YEmNV4dVZvj2"
      },
      "source": [
        ""
      ],
      "execution_count": null,
      "outputs": []
    },
    {
      "cell_type": "code",
      "metadata": {
        "id": "oT6OF4aybGk_"
      },
      "source": [
        "df01 = df_teste[df_teste['municipio'] == 'brasilia']"
      ],
      "execution_count": 290,
      "outputs": []
    },
    {
      "cell_type": "code",
      "metadata": {
        "colab": {
          "base_uri": "https://localhost:8080/",
          "height": 77
        },
        "id": "dsCgP3t5bGn3",
        "outputId": "877eeaa5-e9ec-40b9-a3d6-599cbfc42a31"
      },
      "source": [
        "df01"
      ],
      "execution_count": 291,
      "outputs": [
        {
          "output_type": "execute_result",
          "data": {
            "text/html": [
              "<div>\n",
              "<style scoped>\n",
              "    .dataframe tbody tr th:only-of-type {\n",
              "        vertical-align: middle;\n",
              "    }\n",
              "\n",
              "    .dataframe tbody tr th {\n",
              "        vertical-align: top;\n",
              "    }\n",
              "\n",
              "    .dataframe thead th {\n",
              "        text-align: right;\n",
              "    }\n",
              "</style>\n",
              "<table border=\"1\" class=\"dataframe\">\n",
              "  <thead>\n",
              "    <tr style=\"text-align: right;\">\n",
              "      <th></th>\n",
              "      <th>estado</th>\n",
              "      <th>municipio</th>\n",
              "      <th>data</th>\n",
              "      <th>casos</th>\n",
              "      <th>obitos</th>\n",
              "      <th>lat</th>\n",
              "      <th>long</th>\n",
              "      <th>medicosCemMil</th>\n",
              "      <th>regiaopais</th>\n",
              "      <th>mesorregiao</th>\n",
              "      <th>pib</th>\n",
              "    </tr>\n",
              "  </thead>\n",
              "  <tbody>\n",
              "    <tr>\n",
              "      <th>1500528</th>\n",
              "      <td>DF</td>\n",
              "      <td>brasilia</td>\n",
              "      <td>NaN</td>\n",
              "      <td>NaN</td>\n",
              "      <td>NaN</td>\n",
              "      <td>NaN</td>\n",
              "      <td>NaN</td>\n",
              "      <td>NaN</td>\n",
              "      <td>Centro-oeste</td>\n",
              "      <td>Distrito Federal</td>\n",
              "      <td>80502,47</td>\n",
              "    </tr>\n",
              "  </tbody>\n",
              "</table>\n",
              "</div>"
            ],
            "text/plain": [
              "        estado municipio data  ...    regiaopais       mesorregiao       pib\n",
              "1500528     DF  brasilia  NaN  ...  Centro-oeste  Distrito Federal  80502,47\n",
              "\n",
              "[1 rows x 11 columns]"
            ]
          },
          "metadata": {
            "tags": []
          },
          "execution_count": 291
        }
      ]
    },
    {
      "cell_type": "code",
      "metadata": {
        "id": "lMFjlPX-bGqy"
      },
      "source": [
        ""
      ],
      "execution_count": null,
      "outputs": []
    },
    {
      "cell_type": "code",
      "metadata": {
        "id": "oClhhfEdbGwY"
      },
      "source": [
        ""
      ],
      "execution_count": null,
      "outputs": []
    },
    {
      "cell_type": "code",
      "metadata": {
        "id": "PzxHOv4-bGzr"
      },
      "source": [
        ""
      ],
      "execution_count": null,
      "outputs": []
    },
    {
      "cell_type": "code",
      "metadata": {
        "id": "lJ8pYRhZbywS"
      },
      "source": [
        "df_covid = pd.merge(df_covid, df_pibsemesorreg,on='municipio', how='right')"
      ],
      "execution_count": 220,
      "outputs": []
    },
    {
      "cell_type": "code",
      "metadata": {
        "colab": {
          "base_uri": "https://localhost:8080/",
          "height": 402
        },
        "id": "mconZRPvb3LF",
        "outputId": "93d1bf86-0cab-477f-89b5-cf3f578a7207"
      },
      "source": [
        "df_covid"
      ],
      "execution_count": 221,
      "outputs": [
        {
          "output_type": "execute_result",
          "data": {
            "text/html": [
              "<div>\n",
              "<style scoped>\n",
              "    .dataframe tbody tr th:only-of-type {\n",
              "        vertical-align: middle;\n",
              "    }\n",
              "\n",
              "    .dataframe tbody tr th {\n",
              "        vertical-align: top;\n",
              "    }\n",
              "\n",
              "    .dataframe thead th {\n",
              "        text-align: right;\n",
              "    }\n",
              "</style>\n",
              "<table border=\"1\" class=\"dataframe\">\n",
              "  <thead>\n",
              "    <tr style=\"text-align: right;\">\n",
              "      <th></th>\n",
              "      <th>estado_x</th>\n",
              "      <th>municipio</th>\n",
              "      <th>data</th>\n",
              "      <th>casos</th>\n",
              "      <th>obitos</th>\n",
              "      <th>lat</th>\n",
              "      <th>long</th>\n",
              "      <th>medicosCemMil</th>\n",
              "      <th>regiaopais</th>\n",
              "      <th>estado_y</th>\n",
              "      <th>mesorregiao</th>\n",
              "      <th>pib</th>\n",
              "    </tr>\n",
              "  </thead>\n",
              "  <tbody>\n",
              "    <tr>\n",
              "      <th>0</th>\n",
              "      <td>RO</td>\n",
              "      <td>alta floresta d oeste</td>\n",
              "      <td>27/03/2020</td>\n",
              "      <td>0.0</td>\n",
              "      <td>0.0</td>\n",
              "      <td>-11.9283</td>\n",
              "      <td>-61.9953</td>\n",
              "      <td>91.523208</td>\n",
              "      <td>Norte</td>\n",
              "      <td>RO</td>\n",
              "      <td>Leste Rondoniense</td>\n",
              "      <td>19611,75</td>\n",
              "    </tr>\n",
              "    <tr>\n",
              "      <th>1</th>\n",
              "      <td>RO</td>\n",
              "      <td>alta floresta d oeste</td>\n",
              "      <td>28/03/2020</td>\n",
              "      <td>0.0</td>\n",
              "      <td>0.0</td>\n",
              "      <td>-11.9283</td>\n",
              "      <td>-61.9953</td>\n",
              "      <td>91.523208</td>\n",
              "      <td>Norte</td>\n",
              "      <td>RO</td>\n",
              "      <td>Leste Rondoniense</td>\n",
              "      <td>19611,75</td>\n",
              "    </tr>\n",
              "    <tr>\n",
              "      <th>2</th>\n",
              "      <td>RO</td>\n",
              "      <td>alta floresta d oeste</td>\n",
              "      <td>29/03/2020</td>\n",
              "      <td>0.0</td>\n",
              "      <td>0.0</td>\n",
              "      <td>-11.9283</td>\n",
              "      <td>-61.9953</td>\n",
              "      <td>91.523208</td>\n",
              "      <td>Norte</td>\n",
              "      <td>RO</td>\n",
              "      <td>Leste Rondoniense</td>\n",
              "      <td>19611,75</td>\n",
              "    </tr>\n",
              "    <tr>\n",
              "      <th>3</th>\n",
              "      <td>RO</td>\n",
              "      <td>alta floresta d oeste</td>\n",
              "      <td>30/03/2020</td>\n",
              "      <td>0.0</td>\n",
              "      <td>0.0</td>\n",
              "      <td>-11.9283</td>\n",
              "      <td>-61.9953</td>\n",
              "      <td>91.523208</td>\n",
              "      <td>Norte</td>\n",
              "      <td>RO</td>\n",
              "      <td>Leste Rondoniense</td>\n",
              "      <td>19611,75</td>\n",
              "    </tr>\n",
              "    <tr>\n",
              "      <th>4</th>\n",
              "      <td>RO</td>\n",
              "      <td>alta floresta d oeste</td>\n",
              "      <td>31/03/2020</td>\n",
              "      <td>0.0</td>\n",
              "      <td>0.0</td>\n",
              "      <td>-11.9283</td>\n",
              "      <td>-61.9953</td>\n",
              "      <td>91.523208</td>\n",
              "      <td>Norte</td>\n",
              "      <td>RO</td>\n",
              "      <td>Leste Rondoniense</td>\n",
              "      <td>19611,75</td>\n",
              "    </tr>\n",
              "    <tr>\n",
              "      <th>...</th>\n",
              "      <td>...</td>\n",
              "      <td>...</td>\n",
              "      <td>...</td>\n",
              "      <td>...</td>\n",
              "      <td>...</td>\n",
              "      <td>...</td>\n",
              "      <td>...</td>\n",
              "      <td>...</td>\n",
              "      <td>...</td>\n",
              "      <td>...</td>\n",
              "      <td>...</td>\n",
              "      <td>...</td>\n",
              "    </tr>\n",
              "    <tr>\n",
              "      <th>2465348</th>\n",
              "      <td>NaN</td>\n",
              "      <td>vianopolis</td>\n",
              "      <td>NaN</td>\n",
              "      <td>NaN</td>\n",
              "      <td>NaN</td>\n",
              "      <td>NaN</td>\n",
              "      <td>NaN</td>\n",
              "      <td>NaN</td>\n",
              "      <td>Centro-oeste</td>\n",
              "      <td>GO</td>\n",
              "      <td>Sul Goiano</td>\n",
              "      <td>28942,36</td>\n",
              "    </tr>\n",
              "    <tr>\n",
              "      <th>2465349</th>\n",
              "      <td>NaN</td>\n",
              "      <td>vicentinopolis</td>\n",
              "      <td>NaN</td>\n",
              "      <td>NaN</td>\n",
              "      <td>NaN</td>\n",
              "      <td>NaN</td>\n",
              "      <td>NaN</td>\n",
              "      <td>NaN</td>\n",
              "      <td>Centro-oeste</td>\n",
              "      <td>GO</td>\n",
              "      <td>Sul Goiano</td>\n",
              "      <td>41772,71</td>\n",
              "    </tr>\n",
              "    <tr>\n",
              "      <th>2465350</th>\n",
              "      <td>NaN</td>\n",
              "      <td>vila boa</td>\n",
              "      <td>NaN</td>\n",
              "      <td>NaN</td>\n",
              "      <td>NaN</td>\n",
              "      <td>NaN</td>\n",
              "      <td>NaN</td>\n",
              "      <td>NaN</td>\n",
              "      <td>Centro-oeste</td>\n",
              "      <td>GO</td>\n",
              "      <td>Leste Goiano</td>\n",
              "      <td>23992,38</td>\n",
              "    </tr>\n",
              "    <tr>\n",
              "      <th>2465351</th>\n",
              "      <td>NaN</td>\n",
              "      <td>vila propicio</td>\n",
              "      <td>NaN</td>\n",
              "      <td>NaN</td>\n",
              "      <td>NaN</td>\n",
              "      <td>NaN</td>\n",
              "      <td>NaN</td>\n",
              "      <td>NaN</td>\n",
              "      <td>Centro-oeste</td>\n",
              "      <td>GO</td>\n",
              "      <td>Leste Goiano</td>\n",
              "      <td>32016,61</td>\n",
              "    </tr>\n",
              "    <tr>\n",
              "      <th>2465352</th>\n",
              "      <td>NaN</td>\n",
              "      <td>brasilia</td>\n",
              "      <td>NaN</td>\n",
              "      <td>NaN</td>\n",
              "      <td>NaN</td>\n",
              "      <td>NaN</td>\n",
              "      <td>NaN</td>\n",
              "      <td>NaN</td>\n",
              "      <td>Centro-oeste</td>\n",
              "      <td>DF</td>\n",
              "      <td>Distrito Federal</td>\n",
              "      <td>80502,47</td>\n",
              "    </tr>\n",
              "  </tbody>\n",
              "</table>\n",
              "<p>2465353 rows × 12 columns</p>\n",
              "</div>"
            ],
            "text/plain": [
              "        estado_x              municipio  ...        mesorregiao       pib\n",
              "0             RO  alta floresta d oeste  ...  Leste Rondoniense  19611,75\n",
              "1             RO  alta floresta d oeste  ...  Leste Rondoniense  19611,75\n",
              "2             RO  alta floresta d oeste  ...  Leste Rondoniense  19611,75\n",
              "3             RO  alta floresta d oeste  ...  Leste Rondoniense  19611,75\n",
              "4             RO  alta floresta d oeste  ...  Leste Rondoniense  19611,75\n",
              "...          ...                    ...  ...                ...       ...\n",
              "2465348      NaN             vianopolis  ...         Sul Goiano  28942,36\n",
              "2465349      NaN         vicentinopolis  ...         Sul Goiano  41772,71\n",
              "2465350      NaN               vila boa  ...       Leste Goiano  23992,38\n",
              "2465351      NaN          vila propicio  ...       Leste Goiano  32016,61\n",
              "2465352      NaN               brasilia  ...   Distrito Federal  80502,47\n",
              "\n",
              "[2465353 rows x 12 columns]"
            ]
          },
          "metadata": {
            "tags": []
          },
          "execution_count": 221
        }
      ]
    },
    {
      "cell_type": "code",
      "metadata": {
        "colab": {
          "base_uri": "https://localhost:8080/"
        },
        "id": "gGWJLBKwYF-f",
        "outputId": "5e21f040-d1bc-4ac4-c57e-7a54418015f4"
      },
      "source": [
        "df_covid.isna().sum()"
      ],
      "execution_count": 222,
      "outputs": [
        {
          "output_type": "execute_result",
          "data": {
            "text/plain": [
              "estado_x         1226\n",
              "municipio           0\n",
              "data             1226\n",
              "casos            1226\n",
              "obitos           1226\n",
              "lat              1226\n",
              "long             1226\n",
              "medicosCemMil    1226\n",
              "regiaopais          0\n",
              "estado_y            0\n",
              "mesorregiao         0\n",
              "pib                 0\n",
              "dtype: int64"
            ]
          },
          "metadata": {
            "tags": []
          },
          "execution_count": 222
        }
      ]
    },
    {
      "cell_type": "code",
      "metadata": {
        "id": "ZV1gG5fNYGKi"
      },
      "source": [
        ""
      ],
      "execution_count": null,
      "outputs": []
    },
    {
      "cell_type": "code",
      "metadata": {
        "id": "O73M5X_ScAOW"
      },
      "source": [
        "df_covid.dropna(inplace=True)"
      ],
      "execution_count": 223,
      "outputs": []
    },
    {
      "cell_type": "code",
      "metadata": {
        "id": "4ot-7Yh3cAR9"
      },
      "source": [
        ""
      ],
      "execution_count": null,
      "outputs": []
    },
    {
      "cell_type": "code",
      "metadata": {
        "colab": {
          "base_uri": "https://localhost:8080/",
          "height": 402
        },
        "id": "Z2y4J4ZWhjPP",
        "outputId": "6e163809-ddb3-4c58-c552-ef89b62fa733"
      },
      "source": [
        "df_covid"
      ],
      "execution_count": 224,
      "outputs": [
        {
          "output_type": "execute_result",
          "data": {
            "text/html": [
              "<div>\n",
              "<style scoped>\n",
              "    .dataframe tbody tr th:only-of-type {\n",
              "        vertical-align: middle;\n",
              "    }\n",
              "\n",
              "    .dataframe tbody tr th {\n",
              "        vertical-align: top;\n",
              "    }\n",
              "\n",
              "    .dataframe thead th {\n",
              "        text-align: right;\n",
              "    }\n",
              "</style>\n",
              "<table border=\"1\" class=\"dataframe\">\n",
              "  <thead>\n",
              "    <tr style=\"text-align: right;\">\n",
              "      <th></th>\n",
              "      <th>estado_x</th>\n",
              "      <th>municipio</th>\n",
              "      <th>data</th>\n",
              "      <th>casos</th>\n",
              "      <th>obitos</th>\n",
              "      <th>lat</th>\n",
              "      <th>long</th>\n",
              "      <th>medicosCemMil</th>\n",
              "      <th>regiaopais</th>\n",
              "      <th>estado_y</th>\n",
              "      <th>mesorregiao</th>\n",
              "      <th>pib</th>\n",
              "    </tr>\n",
              "  </thead>\n",
              "  <tbody>\n",
              "    <tr>\n",
              "      <th>0</th>\n",
              "      <td>RO</td>\n",
              "      <td>alta floresta d oeste</td>\n",
              "      <td>27/03/2020</td>\n",
              "      <td>0.0</td>\n",
              "      <td>0.0</td>\n",
              "      <td>-11.9283</td>\n",
              "      <td>-61.9953</td>\n",
              "      <td>91.523208</td>\n",
              "      <td>Norte</td>\n",
              "      <td>RO</td>\n",
              "      <td>Leste Rondoniense</td>\n",
              "      <td>19611,75</td>\n",
              "    </tr>\n",
              "    <tr>\n",
              "      <th>1</th>\n",
              "      <td>RO</td>\n",
              "      <td>alta floresta d oeste</td>\n",
              "      <td>28/03/2020</td>\n",
              "      <td>0.0</td>\n",
              "      <td>0.0</td>\n",
              "      <td>-11.9283</td>\n",
              "      <td>-61.9953</td>\n",
              "      <td>91.523208</td>\n",
              "      <td>Norte</td>\n",
              "      <td>RO</td>\n",
              "      <td>Leste Rondoniense</td>\n",
              "      <td>19611,75</td>\n",
              "    </tr>\n",
              "    <tr>\n",
              "      <th>2</th>\n",
              "      <td>RO</td>\n",
              "      <td>alta floresta d oeste</td>\n",
              "      <td>29/03/2020</td>\n",
              "      <td>0.0</td>\n",
              "      <td>0.0</td>\n",
              "      <td>-11.9283</td>\n",
              "      <td>-61.9953</td>\n",
              "      <td>91.523208</td>\n",
              "      <td>Norte</td>\n",
              "      <td>RO</td>\n",
              "      <td>Leste Rondoniense</td>\n",
              "      <td>19611,75</td>\n",
              "    </tr>\n",
              "    <tr>\n",
              "      <th>3</th>\n",
              "      <td>RO</td>\n",
              "      <td>alta floresta d oeste</td>\n",
              "      <td>30/03/2020</td>\n",
              "      <td>0.0</td>\n",
              "      <td>0.0</td>\n",
              "      <td>-11.9283</td>\n",
              "      <td>-61.9953</td>\n",
              "      <td>91.523208</td>\n",
              "      <td>Norte</td>\n",
              "      <td>RO</td>\n",
              "      <td>Leste Rondoniense</td>\n",
              "      <td>19611,75</td>\n",
              "    </tr>\n",
              "    <tr>\n",
              "      <th>4</th>\n",
              "      <td>RO</td>\n",
              "      <td>alta floresta d oeste</td>\n",
              "      <td>31/03/2020</td>\n",
              "      <td>0.0</td>\n",
              "      <td>0.0</td>\n",
              "      <td>-11.9283</td>\n",
              "      <td>-61.9953</td>\n",
              "      <td>91.523208</td>\n",
              "      <td>Norte</td>\n",
              "      <td>RO</td>\n",
              "      <td>Leste Rondoniense</td>\n",
              "      <td>19611,75</td>\n",
              "    </tr>\n",
              "    <tr>\n",
              "      <th>...</th>\n",
              "      <td>...</td>\n",
              "      <td>...</td>\n",
              "      <td>...</td>\n",
              "      <td>...</td>\n",
              "      <td>...</td>\n",
              "      <td>...</td>\n",
              "      <td>...</td>\n",
              "      <td>...</td>\n",
              "      <td>...</td>\n",
              "      <td>...</td>\n",
              "      <td>...</td>\n",
              "      <td>...</td>\n",
              "    </tr>\n",
              "    <tr>\n",
              "      <th>2464130</th>\n",
              "      <td>PR</td>\n",
              "      <td>santo antonio do sudoeste</td>\n",
              "      <td>23/10/2020</td>\n",
              "      <td>1.0</td>\n",
              "      <td>0.0</td>\n",
              "      <td>-26.0737</td>\n",
              "      <td>-53.7251</td>\n",
              "      <td>49.588416</td>\n",
              "      <td>Sul</td>\n",
              "      <td>PR</td>\n",
              "      <td>Sudoeste Paranaense</td>\n",
              "      <td>25160,4</td>\n",
              "    </tr>\n",
              "    <tr>\n",
              "      <th>2464131</th>\n",
              "      <td>PR</td>\n",
              "      <td>santo antonio do sudoeste</td>\n",
              "      <td>24/10/2020</td>\n",
              "      <td>1.0</td>\n",
              "      <td>0.0</td>\n",
              "      <td>-26.0737</td>\n",
              "      <td>-53.7251</td>\n",
              "      <td>49.588416</td>\n",
              "      <td>Sul</td>\n",
              "      <td>PR</td>\n",
              "      <td>Sudoeste Paranaense</td>\n",
              "      <td>25160,4</td>\n",
              "    </tr>\n",
              "    <tr>\n",
              "      <th>2464132</th>\n",
              "      <td>PR</td>\n",
              "      <td>santo antonio do sudoeste</td>\n",
              "      <td>25/10/2020</td>\n",
              "      <td>0.0</td>\n",
              "      <td>0.0</td>\n",
              "      <td>-26.0737</td>\n",
              "      <td>-53.7251</td>\n",
              "      <td>49.588416</td>\n",
              "      <td>Sul</td>\n",
              "      <td>PR</td>\n",
              "      <td>Sudoeste Paranaense</td>\n",
              "      <td>25160,4</td>\n",
              "    </tr>\n",
              "    <tr>\n",
              "      <th>2464133</th>\n",
              "      <td>PR</td>\n",
              "      <td>santo antonio do sudoeste</td>\n",
              "      <td>26/10/2020</td>\n",
              "      <td>0.0</td>\n",
              "      <td>0.0</td>\n",
              "      <td>-26.0737</td>\n",
              "      <td>-53.7251</td>\n",
              "      <td>49.588416</td>\n",
              "      <td>Sul</td>\n",
              "      <td>PR</td>\n",
              "      <td>Sudoeste Paranaense</td>\n",
              "      <td>25160,4</td>\n",
              "    </tr>\n",
              "    <tr>\n",
              "      <th>2464134</th>\n",
              "      <td>PR</td>\n",
              "      <td>santo antonio do sudoeste</td>\n",
              "      <td>27/10/2020</td>\n",
              "      <td>0.0</td>\n",
              "      <td>0.0</td>\n",
              "      <td>-26.0737</td>\n",
              "      <td>-53.7251</td>\n",
              "      <td>49.588416</td>\n",
              "      <td>Sul</td>\n",
              "      <td>PR</td>\n",
              "      <td>Sudoeste Paranaense</td>\n",
              "      <td>25160,4</td>\n",
              "    </tr>\n",
              "  </tbody>\n",
              "</table>\n",
              "<p>2464127 rows × 12 columns</p>\n",
              "</div>"
            ],
            "text/plain": [
              "        estado_x                  municipio  ...          mesorregiao       pib\n",
              "0             RO      alta floresta d oeste  ...    Leste Rondoniense  19611,75\n",
              "1             RO      alta floresta d oeste  ...    Leste Rondoniense  19611,75\n",
              "2             RO      alta floresta d oeste  ...    Leste Rondoniense  19611,75\n",
              "3             RO      alta floresta d oeste  ...    Leste Rondoniense  19611,75\n",
              "4             RO      alta floresta d oeste  ...    Leste Rondoniense  19611,75\n",
              "...          ...                        ...  ...                  ...       ...\n",
              "2464130       PR  santo antonio do sudoeste  ...  Sudoeste Paranaense   25160,4\n",
              "2464131       PR  santo antonio do sudoeste  ...  Sudoeste Paranaense   25160,4\n",
              "2464132       PR  santo antonio do sudoeste  ...  Sudoeste Paranaense   25160,4\n",
              "2464133       PR  santo antonio do sudoeste  ...  Sudoeste Paranaense   25160,4\n",
              "2464134       PR  santo antonio do sudoeste  ...  Sudoeste Paranaense   25160,4\n",
              "\n",
              "[2464127 rows x 12 columns]"
            ]
          },
          "metadata": {
            "tags": []
          },
          "execution_count": 224
        }
      ]
    },
    {
      "cell_type": "code",
      "metadata": {
        "id": "gXZpV81dhjSE"
      },
      "source": [
        ""
      ],
      "execution_count": null,
      "outputs": []
    },
    {
      "cell_type": "code",
      "metadata": {
        "id": "2-OMlIwkhjVn"
      },
      "source": [
        ""
      ],
      "execution_count": null,
      "outputs": []
    },
    {
      "cell_type": "code",
      "metadata": {
        "id": "CxmGMLYlhjYe"
      },
      "source": [
        ""
      ],
      "execution_count": null,
      "outputs": []
    },
    {
      "cell_type": "code",
      "metadata": {
        "colab": {
          "base_uri": "https://localhost:8080/",
          "height": 438
        },
        "id": "GUNuZN7rcAZC",
        "outputId": "a07a2f32-cb1c-483c-fa92-ea7f56477f97"
      },
      "source": [
        "df_respirad"
      ],
      "execution_count": null,
      "outputs": [
        {
          "output_type": "execute_result",
          "data": {
            "text/html": [
              "<div>\n",
              "<style scoped>\n",
              "    .dataframe tbody tr th:only-of-type {\n",
              "        vertical-align: middle;\n",
              "    }\n",
              "\n",
              "    .dataframe tbody tr th {\n",
              "        vertical-align: top;\n",
              "    }\n",
              "\n",
              "    .dataframe thead th {\n",
              "        text-align: right;\n",
              "    }\n",
              "</style>\n",
              "<table border=\"1\" class=\"dataframe\">\n",
              "  <thead>\n",
              "    <tr style=\"text-align: right;\">\n",
              "      <th></th>\n",
              "      <th>OBJECTID</th>\n",
              "      <th>Codigo_Municipio</th>\n",
              "      <th>Nome_municipio</th>\n",
              "      <th>Pop_Total</th>\n",
              "      <th>Total_Respiradores</th>\n",
              "      <th>Respiradores_100mil_hab_Ind</th>\n",
              "      <th>Respiradores_SUS_100mil_hab_Ind</th>\n",
              "      <th>Total_SUS_Respiradores</th>\n",
              "      <th>Shape__Area</th>\n",
              "      <th>Shape__Length</th>\n",
              "      <th>P_Respiradores_SUS</th>\n",
              "    </tr>\n",
              "  </thead>\n",
              "  <tbody>\n",
              "    <tr>\n",
              "      <th>0</th>\n",
              "      <td>1</td>\n",
              "      <td>5200050</td>\n",
              "      <td>Abadia de Goiás</td>\n",
              "      <td>8773</td>\n",
              "      <td>0</td>\n",
              "      <td>0.000000</td>\n",
              "      <td>0.000000</td>\n",
              "      <td>0</td>\n",
              "      <td>0.012482</td>\n",
              "      <td>0.591110</td>\n",
              "      <td>0.0</td>\n",
              "    </tr>\n",
              "    <tr>\n",
              "      <th>1</th>\n",
              "      <td>2</td>\n",
              "      <td>3100104</td>\n",
              "      <td>Abadia dos Dourados</td>\n",
              "      <td>6989</td>\n",
              "      <td>0</td>\n",
              "      <td>0.000000</td>\n",
              "      <td>0.000000</td>\n",
              "      <td>0</td>\n",
              "      <td>0.075314</td>\n",
              "      <td>1.959124</td>\n",
              "      <td>0.0</td>\n",
              "    </tr>\n",
              "    <tr>\n",
              "      <th>2</th>\n",
              "      <td>3</td>\n",
              "      <td>5200100</td>\n",
              "      <td>Abadiânia</td>\n",
              "      <td>20042</td>\n",
              "      <td>0</td>\n",
              "      <td>0.000000</td>\n",
              "      <td>0.000000</td>\n",
              "      <td>0</td>\n",
              "      <td>0.088320</td>\n",
              "      <td>1.811350</td>\n",
              "      <td>0.0</td>\n",
              "    </tr>\n",
              "    <tr>\n",
              "      <th>3</th>\n",
              "      <td>4</td>\n",
              "      <td>3100203</td>\n",
              "      <td>Abaeté</td>\n",
              "      <td>23237</td>\n",
              "      <td>2</td>\n",
              "      <td>8.606963</td>\n",
              "      <td>8.606963</td>\n",
              "      <td>2</td>\n",
              "      <td>0.155999</td>\n",
              "      <td>2.434613</td>\n",
              "      <td>100.0</td>\n",
              "    </tr>\n",
              "    <tr>\n",
              "      <th>4</th>\n",
              "      <td>5</td>\n",
              "      <td>1500107</td>\n",
              "      <td>Abaetetuba</td>\n",
              "      <td>157698</td>\n",
              "      <td>10</td>\n",
              "      <td>6.341235</td>\n",
              "      <td>5.707111</td>\n",
              "      <td>9</td>\n",
              "      <td>0.130889</td>\n",
              "      <td>1.829539</td>\n",
              "      <td>90.0</td>\n",
              "    </tr>\n",
              "    <tr>\n",
              "      <th>...</th>\n",
              "      <td>...</td>\n",
              "      <td>...</td>\n",
              "      <td>...</td>\n",
              "      <td>...</td>\n",
              "      <td>...</td>\n",
              "      <td>...</td>\n",
              "      <td>...</td>\n",
              "      <td>...</td>\n",
              "      <td>...</td>\n",
              "      <td>...</td>\n",
              "      <td>...</td>\n",
              "    </tr>\n",
              "    <tr>\n",
              "      <th>5565</th>\n",
              "      <td>5566</td>\n",
              "      <td>2933604</td>\n",
              "      <td>Xique-Xique</td>\n",
              "      <td>46483</td>\n",
              "      <td>1</td>\n",
              "      <td>2.151324</td>\n",
              "      <td>2.151324</td>\n",
              "      <td>1</td>\n",
              "      <td>0.420182</td>\n",
              "      <td>4.805814</td>\n",
              "      <td>100.0</td>\n",
              "    </tr>\n",
              "    <tr>\n",
              "      <th>5566</th>\n",
              "      <td>5567</td>\n",
              "      <td>2517407</td>\n",
              "      <td>Zabelê</td>\n",
              "      <td>2240</td>\n",
              "      <td>0</td>\n",
              "      <td>0.000000</td>\n",
              "      <td>0.000000</td>\n",
              "      <td>0</td>\n",
              "      <td>0.008974</td>\n",
              "      <td>0.444401</td>\n",
              "      <td>0.0</td>\n",
              "    </tr>\n",
              "    <tr>\n",
              "      <th>5567</th>\n",
              "      <td>5568</td>\n",
              "      <td>3557154</td>\n",
              "      <td>Zacarias</td>\n",
              "      <td>2718</td>\n",
              "      <td>0</td>\n",
              "      <td>0.000000</td>\n",
              "      <td>0.000000</td>\n",
              "      <td>0</td>\n",
              "      <td>0.027740</td>\n",
              "      <td>0.773112</td>\n",
              "      <td>0.0</td>\n",
              "    </tr>\n",
              "    <tr>\n",
              "      <th>5568</th>\n",
              "      <td>5569</td>\n",
              "      <td>2114007</td>\n",
              "      <td>Zé Doca</td>\n",
              "      <td>51714</td>\n",
              "      <td>1</td>\n",
              "      <td>1.933712</td>\n",
              "      <td>1.933712</td>\n",
              "      <td>1</td>\n",
              "      <td>0.174139</td>\n",
              "      <td>3.058613</td>\n",
              "      <td>100.0</td>\n",
              "    </tr>\n",
              "    <tr>\n",
              "      <th>5569</th>\n",
              "      <td>5570</td>\n",
              "      <td>4219853</td>\n",
              "      <td>Zortéa</td>\n",
              "      <td>3363</td>\n",
              "      <td>0</td>\n",
              "      <td>0.000000</td>\n",
              "      <td>0.000000</td>\n",
              "      <td>0</td>\n",
              "      <td>0.017323</td>\n",
              "      <td>0.907243</td>\n",
              "      <td>0.0</td>\n",
              "    </tr>\n",
              "  </tbody>\n",
              "</table>\n",
              "<p>5570 rows × 11 columns</p>\n",
              "</div>"
            ],
            "text/plain": [
              "      OBJECTID  Codigo_Municipio  ... Shape__Length  P_Respiradores_SUS\n",
              "0            1           5200050  ...      0.591110                 0.0\n",
              "1            2           3100104  ...      1.959124                 0.0\n",
              "2            3           5200100  ...      1.811350                 0.0\n",
              "3            4           3100203  ...      2.434613               100.0\n",
              "4            5           1500107  ...      1.829539                90.0\n",
              "...        ...               ...  ...           ...                 ...\n",
              "5565      5566           2933604  ...      4.805814               100.0\n",
              "5566      5567           2517407  ...      0.444401                 0.0\n",
              "5567      5568           3557154  ...      0.773112                 0.0\n",
              "5568      5569           2114007  ...      3.058613               100.0\n",
              "5569      5570           4219853  ...      0.907243                 0.0\n",
              "\n",
              "[5570 rows x 11 columns]"
            ]
          },
          "metadata": {
            "tags": []
          },
          "execution_count": 133
        }
      ]
    },
    {
      "cell_type": "code",
      "metadata": {
        "id": "B5iPl9bfcrqB"
      },
      "source": [
        ""
      ],
      "execution_count": null,
      "outputs": []
    },
    {
      "cell_type": "code",
      "metadata": {
        "id": "gFgPzJgjiq6d"
      },
      "source": [
        ""
      ],
      "execution_count": null,
      "outputs": []
    },
    {
      "cell_type": "code",
      "metadata": {
        "id": "ALbdrsJ8iq-F"
      },
      "source": [
        "df_respirad['Nome_municipio'] = df_respirad['Nome_municipio'].str.normalize('NFKD').str.encode('ASCII', errors='ignore').str.decode('ASCII')\n",
        "df_respirad['Nome_municipio'] = df_respirad['Nome_municipio'].str.replace('[-,_]',' ')\n",
        "df_respirad['Nome_municipio'] = df_respirad['Nome_municipio'].str.replace(\"'\",' ')\n",
        "df_respirad['Nome_municipio'] = df_respirad['Nome_municipio'].str.lower()"
      ],
      "execution_count": null,
      "outputs": []
    },
    {
      "cell_type": "code",
      "metadata": {
        "id": "RbhjWwOkjodo"
      },
      "source": [
        ""
      ],
      "execution_count": null,
      "outputs": []
    },
    {
      "cell_type": "code",
      "metadata": {
        "id": "5261_BYdjon1"
      },
      "source": [
        "dfnovo[df_covid2']"
      ],
      "execution_count": null,
      "outputs": []
    },
    {
      "cell_type": "code",
      "metadata": {
        "id": "3o2wREdvjorL"
      },
      "source": [
        ""
      ],
      "execution_count": null,
      "outputs": []
    }
  ]
}