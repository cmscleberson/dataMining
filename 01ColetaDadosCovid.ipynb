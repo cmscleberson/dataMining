{
  "nbformat": 4,
  "nbformat_minor": 0,
  "metadata": {
    "colab": {
      "name": "Cópia de 01ColetaDados.ipynb",
      "provenance": [],
      "collapsed_sections": [],
      "toc_visible": true,
      "mount_file_id": "1I2aJBZhlQxzwt0JC4kRL1DcmyzyzsVGZ",
      "authorship_tag": "ABX9TyOoAZRu+Lv1qsCDn/Jqgawz",
      "include_colab_link": true
    },
    "kernelspec": {
      "name": "python3",
      "display_name": "Python 3"
    }
  },
  "cells": [
    {
      "cell_type": "markdown",
      "metadata": {
        "id": "view-in-github",
        "colab_type": "text"
      },
      "source": [
        "<a href=\"https://colab.research.google.com/github/cmscleberson/dataMining/blob/main/01ColetaDadosCovid.ipynb\" target=\"_parent\"><img src=\"https://colab.research.google.com/assets/colab-badge.svg\" alt=\"Open In Colab\"/></a>"
      ]
    },
    {
      "cell_type": "code",
      "metadata": {
        "id": "pLuzLMMYjrRI"
      },
      "source": [
        "from unicodedata import normalize"
      ],
      "execution_count": 256,
      "outputs": []
    },
    {
      "cell_type": "code",
      "metadata": {
        "id": "wE83tq_0kdus"
      },
      "source": [
        "import pandas as pd"
      ],
      "execution_count": 257,
      "outputs": []
    },
    {
      "cell_type": "code",
      "metadata": {
        "id": "lokgVVCDpji7"
      },
      "source": [
        "pd.options.mode.chained_assignment = None"
      ],
      "execution_count": 258,
      "outputs": []
    },
    {
      "cell_type": "markdown",
      "metadata": {
        "id": "xBwG4jI_pmqJ"
      },
      "source": [
        "#### Leitura dos Datasets"
      ]
    },
    {
      "cell_type": "code",
      "metadata": {
        "id": "SQZ1kX5SpyAJ"
      },
      "source": [
        "df_munic = pd.read_csv(\"/content/drive/MyDrive/Colab Notebooks/datasets_v1/municipios.csv\", encoding='utf-8', sep=',', index_col=[0])"
      ],
      "execution_count": 259,
      "outputs": []
    },
    {
      "cell_type": "code",
      "metadata": {
        "id": "06ChZhxtrH0P"
      },
      "source": [
        "df_covid = pd.read_csv(\"/content/drive/MyDrive/Colab Notebooks/datasets_v1/covid.csv\", encoding='utf-8', sep=';', index_col=False)"
      ],
      "execution_count": 260,
      "outputs": []
    },
    {
      "cell_type": "code",
      "metadata": {
        "id": "5SWxy_5drJbj"
      },
      "source": [
        "df_medicos = pd.read_csv(\"/content/drive/MyDrive/Colab Notebooks/datasets_v1/medicos.csv\", encoding='utf-8', index_col=False)"
      ],
      "execution_count": 261,
      "outputs": []
    },
    {
      "cell_type": "code",
      "metadata": {
        "id": "SJGOxcN0rLap"
      },
      "source": [
        "df_pibsemesorreg = pd.read_csv(\"/content/drive/MyDrive/Colab Notebooks/datasets_v1/pibemesor.csv\", encoding='latin1', sep=';',  index_col=False)"
      ],
      "execution_count": 262,
      "outputs": []
    },
    {
      "cell_type": "code",
      "metadata": {
        "id": "MhLSnUOTrOI3"
      },
      "source": [
        "df_respirad = pd.read_csv(\"/content/drive/MyDrive/Colab Notebooks/datasets_v1/respiradores.csv\", encoding='utf-8', sep=',', index_col=False)"
      ],
      "execution_count": 263,
      "outputs": []
    },
    {
      "cell_type": "code",
      "metadata": {
        "id": "EGst6-bdrbIj"
      },
      "source": [
        ""
      ],
      "execution_count": 263,
      "outputs": []
    },
    {
      "cell_type": "code",
      "metadata": {
        "colab": {
          "base_uri": "https://localhost:8080/",
          "height": 402
        },
        "id": "Y5tngvFordDE",
        "outputId": "99d17e47-6336-4e39-d022-f604da357830"
      },
      "source": [
        "df_munic"
      ],
      "execution_count": 264,
      "outputs": [
        {
          "output_type": "execute_result",
          "data": {
            "text/html": [
              "<div>\n",
              "<style scoped>\n",
              "    .dataframe tbody tr th:only-of-type {\n",
              "        vertical-align: middle;\n",
              "    }\n",
              "\n",
              "    .dataframe tbody tr th {\n",
              "        vertical-align: top;\n",
              "    }\n",
              "\n",
              "    .dataframe thead th {\n",
              "        text-align: right;\n",
              "    }\n",
              "</style>\n",
              "<table border=\"1\" class=\"dataframe\">\n",
              "  <thead>\n",
              "    <tr style=\"text-align: right;\">\n",
              "      <th></th>\n",
              "      <th>estado</th>\n",
              "      <th>municipio</th>\n",
              "      <th>lat</th>\n",
              "      <th>long</th>\n",
              "    </tr>\n",
              "  </thead>\n",
              "  <tbody>\n",
              "    <tr>\n",
              "      <th>0</th>\n",
              "      <td>RO</td>\n",
              "      <td>Alta Floresta D'Oeste</td>\n",
              "      <td>-11.92830</td>\n",
              "      <td>-61.9953</td>\n",
              "    </tr>\n",
              "    <tr>\n",
              "      <th>1</th>\n",
              "      <td>RO</td>\n",
              "      <td>Alto Alegre dos Parecis</td>\n",
              "      <td>-12.13200</td>\n",
              "      <td>-61.8350</td>\n",
              "    </tr>\n",
              "    <tr>\n",
              "      <th>2</th>\n",
              "      <td>RO</td>\n",
              "      <td>Alto Paraíso</td>\n",
              "      <td>-9.71429</td>\n",
              "      <td>-63.3188</td>\n",
              "    </tr>\n",
              "    <tr>\n",
              "      <th>3</th>\n",
              "      <td>RO</td>\n",
              "      <td>Alvorada D'Oeste</td>\n",
              "      <td>-11.34630</td>\n",
              "      <td>-62.2847</td>\n",
              "    </tr>\n",
              "    <tr>\n",
              "      <th>4</th>\n",
              "      <td>RO</td>\n",
              "      <td>Ariquemes</td>\n",
              "      <td>-9.90571</td>\n",
              "      <td>-63.0325</td>\n",
              "    </tr>\n",
              "    <tr>\n",
              "      <th>...</th>\n",
              "      <td>...</td>\n",
              "      <td>...</td>\n",
              "      <td>...</td>\n",
              "      <td>...</td>\n",
              "    </tr>\n",
              "    <tr>\n",
              "      <th>5565</th>\n",
              "      <td>GO</td>\n",
              "      <td>Vianópolis</td>\n",
              "      <td>-16.74050</td>\n",
              "      <td>-48.5159</td>\n",
              "    </tr>\n",
              "    <tr>\n",
              "      <th>5566</th>\n",
              "      <td>GO</td>\n",
              "      <td>Vicentinópolis</td>\n",
              "      <td>-17.73220</td>\n",
              "      <td>-49.8047</td>\n",
              "    </tr>\n",
              "    <tr>\n",
              "      <th>5567</th>\n",
              "      <td>GO</td>\n",
              "      <td>Vila Boa</td>\n",
              "      <td>-15.03870</td>\n",
              "      <td>-47.0520</td>\n",
              "    </tr>\n",
              "    <tr>\n",
              "      <th>5568</th>\n",
              "      <td>GO</td>\n",
              "      <td>Vila Propício</td>\n",
              "      <td>-15.45420</td>\n",
              "      <td>-48.8819</td>\n",
              "    </tr>\n",
              "    <tr>\n",
              "      <th>5569</th>\n",
              "      <td>DF</td>\n",
              "      <td>Brasília</td>\n",
              "      <td>-15.77950</td>\n",
              "      <td>-47.9297</td>\n",
              "    </tr>\n",
              "  </tbody>\n",
              "</table>\n",
              "<p>5570 rows × 4 columns</p>\n",
              "</div>"
            ],
            "text/plain": [
              "     estado                municipio       lat     long\n",
              "0        RO    Alta Floresta D'Oeste -11.92830 -61.9953\n",
              "1        RO  Alto Alegre dos Parecis -12.13200 -61.8350\n",
              "2        RO             Alto Paraíso  -9.71429 -63.3188\n",
              "3        RO         Alvorada D'Oeste -11.34630 -62.2847\n",
              "4        RO                Ariquemes  -9.90571 -63.0325\n",
              "...     ...                      ...       ...      ...\n",
              "5565     GO               Vianópolis -16.74050 -48.5159\n",
              "5566     GO           Vicentinópolis -17.73220 -49.8047\n",
              "5567     GO                 Vila Boa -15.03870 -47.0520\n",
              "5568     GO            Vila Propício -15.45420 -48.8819\n",
              "5569     DF                 Brasília -15.77950 -47.9297\n",
              "\n",
              "[5570 rows x 4 columns]"
            ]
          },
          "metadata": {
            "tags": []
          },
          "execution_count": 264
        }
      ]
    },
    {
      "cell_type": "code",
      "metadata": {
        "id": "tABAipDZhH0K"
      },
      "source": [
        ""
      ],
      "execution_count": 264,
      "outputs": []
    },
    {
      "cell_type": "markdown",
      "metadata": {
        "id": "uFDMwxInhBBB"
      },
      "source": [
        "#### Formatação da Coluna \"municipios\""
      ]
    },
    {
      "cell_type": "markdown",
      "metadata": {
        "id": "CHlv0gw6sgg1"
      },
      "source": [
        "##### Eliminação de Acentos"
      ]
    },
    {
      "cell_type": "code",
      "metadata": {
        "id": "SJUFqv0iskVT"
      },
      "source": [
        "df_munic['municipio'] = df_munic['municipio'].str.normalize('NFKD').str.encode('ASCII', errors='ignore').str.decode('ASCII')"
      ],
      "execution_count": 265,
      "outputs": []
    },
    {
      "cell_type": "code",
      "metadata": {
        "id": "RR5jOVTQuY2t"
      },
      "source": [
        ""
      ],
      "execution_count": 265,
      "outputs": []
    },
    {
      "cell_type": "markdown",
      "metadata": {
        "id": "NHN3uEx5sweB"
      },
      "source": [
        "##### Eliminação de Caracteres Especiais"
      ]
    },
    {
      "cell_type": "code",
      "metadata": {
        "id": "jzt8wZbIs3RP"
      },
      "source": [
        "df_munic['municipio'] = df_munic['municipio'].str.replace('[-,_]',' ')\n",
        "df_munic['municipio'] = df_munic['municipio'].str.replace(\"'\",' ')"
      ],
      "execution_count": 266,
      "outputs": []
    },
    {
      "cell_type": "code",
      "metadata": {
        "id": "6aBM-AmEuawr"
      },
      "source": [
        ""
      ],
      "execution_count": 266,
      "outputs": []
    },
    {
      "cell_type": "markdown",
      "metadata": {
        "id": "5G2cuwDLs_Xb"
      },
      "source": [
        "##### Conversão Para Minúsculas"
      ]
    },
    {
      "cell_type": "code",
      "metadata": {
        "id": "TxWWxymvtAVk"
      },
      "source": [
        "df_munic['municipio'] = df_munic['municipio'].str.lower()"
      ],
      "execution_count": 267,
      "outputs": []
    },
    {
      "cell_type": "code",
      "metadata": {
        "colab": {
          "base_uri": "https://localhost:8080/",
          "height": 402
        },
        "id": "5mWv1mjUtFtm",
        "outputId": "546d007f-2b04-4876-8db7-00d84021b94c"
      },
      "source": [
        "df_munic"
      ],
      "execution_count": 268,
      "outputs": [
        {
          "output_type": "execute_result",
          "data": {
            "text/html": [
              "<div>\n",
              "<style scoped>\n",
              "    .dataframe tbody tr th:only-of-type {\n",
              "        vertical-align: middle;\n",
              "    }\n",
              "\n",
              "    .dataframe tbody tr th {\n",
              "        vertical-align: top;\n",
              "    }\n",
              "\n",
              "    .dataframe thead th {\n",
              "        text-align: right;\n",
              "    }\n",
              "</style>\n",
              "<table border=\"1\" class=\"dataframe\">\n",
              "  <thead>\n",
              "    <tr style=\"text-align: right;\">\n",
              "      <th></th>\n",
              "      <th>estado</th>\n",
              "      <th>municipio</th>\n",
              "      <th>lat</th>\n",
              "      <th>long</th>\n",
              "    </tr>\n",
              "  </thead>\n",
              "  <tbody>\n",
              "    <tr>\n",
              "      <th>0</th>\n",
              "      <td>RO</td>\n",
              "      <td>alta floresta d oeste</td>\n",
              "      <td>-11.92830</td>\n",
              "      <td>-61.9953</td>\n",
              "    </tr>\n",
              "    <tr>\n",
              "      <th>1</th>\n",
              "      <td>RO</td>\n",
              "      <td>alto alegre dos parecis</td>\n",
              "      <td>-12.13200</td>\n",
              "      <td>-61.8350</td>\n",
              "    </tr>\n",
              "    <tr>\n",
              "      <th>2</th>\n",
              "      <td>RO</td>\n",
              "      <td>alto paraiso</td>\n",
              "      <td>-9.71429</td>\n",
              "      <td>-63.3188</td>\n",
              "    </tr>\n",
              "    <tr>\n",
              "      <th>3</th>\n",
              "      <td>RO</td>\n",
              "      <td>alvorada d oeste</td>\n",
              "      <td>-11.34630</td>\n",
              "      <td>-62.2847</td>\n",
              "    </tr>\n",
              "    <tr>\n",
              "      <th>4</th>\n",
              "      <td>RO</td>\n",
              "      <td>ariquemes</td>\n",
              "      <td>-9.90571</td>\n",
              "      <td>-63.0325</td>\n",
              "    </tr>\n",
              "    <tr>\n",
              "      <th>...</th>\n",
              "      <td>...</td>\n",
              "      <td>...</td>\n",
              "      <td>...</td>\n",
              "      <td>...</td>\n",
              "    </tr>\n",
              "    <tr>\n",
              "      <th>5565</th>\n",
              "      <td>GO</td>\n",
              "      <td>vianopolis</td>\n",
              "      <td>-16.74050</td>\n",
              "      <td>-48.5159</td>\n",
              "    </tr>\n",
              "    <tr>\n",
              "      <th>5566</th>\n",
              "      <td>GO</td>\n",
              "      <td>vicentinopolis</td>\n",
              "      <td>-17.73220</td>\n",
              "      <td>-49.8047</td>\n",
              "    </tr>\n",
              "    <tr>\n",
              "      <th>5567</th>\n",
              "      <td>GO</td>\n",
              "      <td>vila boa</td>\n",
              "      <td>-15.03870</td>\n",
              "      <td>-47.0520</td>\n",
              "    </tr>\n",
              "    <tr>\n",
              "      <th>5568</th>\n",
              "      <td>GO</td>\n",
              "      <td>vila propicio</td>\n",
              "      <td>-15.45420</td>\n",
              "      <td>-48.8819</td>\n",
              "    </tr>\n",
              "    <tr>\n",
              "      <th>5569</th>\n",
              "      <td>DF</td>\n",
              "      <td>brasilia</td>\n",
              "      <td>-15.77950</td>\n",
              "      <td>-47.9297</td>\n",
              "    </tr>\n",
              "  </tbody>\n",
              "</table>\n",
              "<p>5570 rows × 4 columns</p>\n",
              "</div>"
            ],
            "text/plain": [
              "     estado                municipio       lat     long\n",
              "0        RO    alta floresta d oeste -11.92830 -61.9953\n",
              "1        RO  alto alegre dos parecis -12.13200 -61.8350\n",
              "2        RO             alto paraiso  -9.71429 -63.3188\n",
              "3        RO         alvorada d oeste -11.34630 -62.2847\n",
              "4        RO                ariquemes  -9.90571 -63.0325\n",
              "...     ...                      ...       ...      ...\n",
              "5565     GO               vianopolis -16.74050 -48.5159\n",
              "5566     GO           vicentinopolis -17.73220 -49.8047\n",
              "5567     GO                 vila boa -15.03870 -47.0520\n",
              "5568     GO            vila propicio -15.45420 -48.8819\n",
              "5569     DF                 brasilia -15.77950 -47.9297\n",
              "\n",
              "[5570 rows x 4 columns]"
            ]
          },
          "metadata": {
            "tags": []
          },
          "execution_count": 268
        }
      ]
    },
    {
      "cell_type": "code",
      "metadata": {
        "id": "oGFZCmuLhYzC"
      },
      "source": [
        ""
      ],
      "execution_count": 268,
      "outputs": []
    },
    {
      "cell_type": "markdown",
      "metadata": {
        "id": "naSJybkGhZPj"
      },
      "source": [
        "#### Preparo dos Demais Datasets"
      ]
    },
    {
      "cell_type": "markdown",
      "metadata": {
        "id": "aT75EbjRHKnN"
      },
      "source": [
        "##### Redução da Dimensão do Dataset \"Covid\" - exclusão dos registros que ocorrem simultaneamente 0 casos e 0 óbitos"
      ]
    },
    {
      "cell_type": "code",
      "metadata": {
        "id": "1DM7HJ4hHLon"
      },
      "source": [
        "df_covid  = df_covid.loc[((df_covid['casos'] != 0) & (df_covid['obitos'] != 0))]"
      ],
      "execution_count": 269,
      "outputs": []
    },
    {
      "cell_type": "code",
      "metadata": {
        "colab": {
          "base_uri": "https://localhost:8080/",
          "height": 402
        },
        "id": "YWjvS3fOtJid",
        "outputId": "6ac2b7f1-54fb-4d95-982f-d1bfd2034557"
      },
      "source": [
        "df_covid"
      ],
      "execution_count": 270,
      "outputs": [
        {
          "output_type": "execute_result",
          "data": {
            "text/html": [
              "<div>\n",
              "<style scoped>\n",
              "    .dataframe tbody tr th:only-of-type {\n",
              "        vertical-align: middle;\n",
              "    }\n",
              "\n",
              "    .dataframe tbody tr th {\n",
              "        vertical-align: top;\n",
              "    }\n",
              "\n",
              "    .dataframe thead th {\n",
              "        text-align: right;\n",
              "    }\n",
              "</style>\n",
              "<table border=\"1\" class=\"dataframe\">\n",
              "  <thead>\n",
              "    <tr style=\"text-align: right;\">\n",
              "      <th></th>\n",
              "      <th>estado</th>\n",
              "      <th>municipio</th>\n",
              "      <th>data</th>\n",
              "      <th>casos</th>\n",
              "      <th>obitos</th>\n",
              "    </tr>\n",
              "  </thead>\n",
              "  <tbody>\n",
              "    <tr>\n",
              "      <th>108</th>\n",
              "      <td>RO</td>\n",
              "      <td>Alta Floresta D'Oeste</td>\n",
              "      <td>13/07/2020</td>\n",
              "      <td>1</td>\n",
              "      <td>1</td>\n",
              "    </tr>\n",
              "    <tr>\n",
              "      <th>124</th>\n",
              "      <td>RO</td>\n",
              "      <td>Alta Floresta D'Oeste</td>\n",
              "      <td>29/07/2020</td>\n",
              "      <td>18</td>\n",
              "      <td>1</td>\n",
              "    </tr>\n",
              "    <tr>\n",
              "      <th>131</th>\n",
              "      <td>RO</td>\n",
              "      <td>Alta Floresta D'Oeste</td>\n",
              "      <td>05/08/2020</td>\n",
              "      <td>8</td>\n",
              "      <td>1</td>\n",
              "    </tr>\n",
              "    <tr>\n",
              "      <th>139</th>\n",
              "      <td>RO</td>\n",
              "      <td>Alta Floresta D'Oeste</td>\n",
              "      <td>13/08/2020</td>\n",
              "      <td>1</td>\n",
              "      <td>1</td>\n",
              "    </tr>\n",
              "    <tr>\n",
              "      <th>144</th>\n",
              "      <td>RO</td>\n",
              "      <td>Alta Floresta D'Oeste</td>\n",
              "      <td>18/08/2020</td>\n",
              "      <td>3</td>\n",
              "      <td>1</td>\n",
              "    </tr>\n",
              "    <tr>\n",
              "      <th>...</th>\n",
              "      <td>...</td>\n",
              "      <td>...</td>\n",
              "      <td>...</td>\n",
              "      <td>...</td>\n",
              "      <td>...</td>\n",
              "    </tr>\n",
              "    <tr>\n",
              "      <th>1039823</th>\n",
              "      <td>PR</td>\n",
              "      <td>Santo Antônio da Platina</td>\n",
              "      <td>13/08/2020</td>\n",
              "      <td>1</td>\n",
              "      <td>1</td>\n",
              "    </tr>\n",
              "    <tr>\n",
              "      <th>1039871</th>\n",
              "      <td>PR</td>\n",
              "      <td>Santo Antônio da Platina</td>\n",
              "      <td>30/09/2020</td>\n",
              "      <td>2</td>\n",
              "      <td>1</td>\n",
              "    </tr>\n",
              "    <tr>\n",
              "      <th>1039921</th>\n",
              "      <td>PR</td>\n",
              "      <td>Santo Antônio da Platina</td>\n",
              "      <td>19/11/2020</td>\n",
              "      <td>24</td>\n",
              "      <td>1</td>\n",
              "    </tr>\n",
              "    <tr>\n",
              "      <th>1039955</th>\n",
              "      <td>PR</td>\n",
              "      <td>Santo Antônio do Caiuá</td>\n",
              "      <td>23/04/2020</td>\n",
              "      <td>1</td>\n",
              "      <td>1</td>\n",
              "    </tr>\n",
              "    <tr>\n",
              "      <th>1040523</th>\n",
              "      <td>PR</td>\n",
              "      <td>Santo Antônio do Sudoeste</td>\n",
              "      <td>12/07/2020</td>\n",
              "      <td>4</td>\n",
              "      <td>1</td>\n",
              "    </tr>\n",
              "  </tbody>\n",
              "</table>\n",
              "<p>51009 rows × 5 columns</p>\n",
              "</div>"
            ],
            "text/plain": [
              "        estado                  municipio        data  casos  obitos\n",
              "108         RO      Alta Floresta D'Oeste  13/07/2020      1       1\n",
              "124         RO      Alta Floresta D'Oeste  29/07/2020     18       1\n",
              "131         RO      Alta Floresta D'Oeste  05/08/2020      8       1\n",
              "139         RO      Alta Floresta D'Oeste  13/08/2020      1       1\n",
              "144         RO      Alta Floresta D'Oeste  18/08/2020      3       1\n",
              "...        ...                        ...         ...    ...     ...\n",
              "1039823     PR   Santo Antônio da Platina  13/08/2020      1       1\n",
              "1039871     PR   Santo Antônio da Platina  30/09/2020      2       1\n",
              "1039921     PR   Santo Antônio da Platina  19/11/2020     24       1\n",
              "1039955     PR     Santo Antônio do Caiuá  23/04/2020      1       1\n",
              "1040523     PR  Santo Antônio do Sudoeste  12/07/2020      4       1\n",
              "\n",
              "[51009 rows x 5 columns]"
            ]
          },
          "metadata": {
            "tags": []
          },
          "execution_count": 270
        }
      ]
    },
    {
      "cell_type": "code",
      "metadata": {
        "id": "NOyVyHAFtOks"
      },
      "source": [
        "df_covid['municipio'] =df_covid['municipio'].str.normalize('NFKD').str.encode('ASCII', errors='ignore').str.decode('ASCII')\n",
        "df_covid['municipio'] = df_covid['municipio'].str.replace('[-,_]',' ')\n",
        "df_covid['municipio'] = df_covid['municipio'].str.replace(\"'\",' ')\n",
        "df_covid['municipio'] = df_covid['municipio'].str.lower()"
      ],
      "execution_count": 271,
      "outputs": []
    },
    {
      "cell_type": "code",
      "metadata": {
        "colab": {
          "base_uri": "https://localhost:8080/",
          "height": 402
        },
        "id": "oPh78M0wtU13",
        "outputId": "c7bcb2b8-a81f-4ead-b88a-0bac82696ce4"
      },
      "source": [
        "df_covid"
      ],
      "execution_count": 272,
      "outputs": [
        {
          "output_type": "execute_result",
          "data": {
            "text/html": [
              "<div>\n",
              "<style scoped>\n",
              "    .dataframe tbody tr th:only-of-type {\n",
              "        vertical-align: middle;\n",
              "    }\n",
              "\n",
              "    .dataframe tbody tr th {\n",
              "        vertical-align: top;\n",
              "    }\n",
              "\n",
              "    .dataframe thead th {\n",
              "        text-align: right;\n",
              "    }\n",
              "</style>\n",
              "<table border=\"1\" class=\"dataframe\">\n",
              "  <thead>\n",
              "    <tr style=\"text-align: right;\">\n",
              "      <th></th>\n",
              "      <th>estado</th>\n",
              "      <th>municipio</th>\n",
              "      <th>data</th>\n",
              "      <th>casos</th>\n",
              "      <th>obitos</th>\n",
              "    </tr>\n",
              "  </thead>\n",
              "  <tbody>\n",
              "    <tr>\n",
              "      <th>108</th>\n",
              "      <td>RO</td>\n",
              "      <td>alta floresta d oeste</td>\n",
              "      <td>13/07/2020</td>\n",
              "      <td>1</td>\n",
              "      <td>1</td>\n",
              "    </tr>\n",
              "    <tr>\n",
              "      <th>124</th>\n",
              "      <td>RO</td>\n",
              "      <td>alta floresta d oeste</td>\n",
              "      <td>29/07/2020</td>\n",
              "      <td>18</td>\n",
              "      <td>1</td>\n",
              "    </tr>\n",
              "    <tr>\n",
              "      <th>131</th>\n",
              "      <td>RO</td>\n",
              "      <td>alta floresta d oeste</td>\n",
              "      <td>05/08/2020</td>\n",
              "      <td>8</td>\n",
              "      <td>1</td>\n",
              "    </tr>\n",
              "    <tr>\n",
              "      <th>139</th>\n",
              "      <td>RO</td>\n",
              "      <td>alta floresta d oeste</td>\n",
              "      <td>13/08/2020</td>\n",
              "      <td>1</td>\n",
              "      <td>1</td>\n",
              "    </tr>\n",
              "    <tr>\n",
              "      <th>144</th>\n",
              "      <td>RO</td>\n",
              "      <td>alta floresta d oeste</td>\n",
              "      <td>18/08/2020</td>\n",
              "      <td>3</td>\n",
              "      <td>1</td>\n",
              "    </tr>\n",
              "    <tr>\n",
              "      <th>...</th>\n",
              "      <td>...</td>\n",
              "      <td>...</td>\n",
              "      <td>...</td>\n",
              "      <td>...</td>\n",
              "      <td>...</td>\n",
              "    </tr>\n",
              "    <tr>\n",
              "      <th>1039823</th>\n",
              "      <td>PR</td>\n",
              "      <td>santo antonio da platina</td>\n",
              "      <td>13/08/2020</td>\n",
              "      <td>1</td>\n",
              "      <td>1</td>\n",
              "    </tr>\n",
              "    <tr>\n",
              "      <th>1039871</th>\n",
              "      <td>PR</td>\n",
              "      <td>santo antonio da platina</td>\n",
              "      <td>30/09/2020</td>\n",
              "      <td>2</td>\n",
              "      <td>1</td>\n",
              "    </tr>\n",
              "    <tr>\n",
              "      <th>1039921</th>\n",
              "      <td>PR</td>\n",
              "      <td>santo antonio da platina</td>\n",
              "      <td>19/11/2020</td>\n",
              "      <td>24</td>\n",
              "      <td>1</td>\n",
              "    </tr>\n",
              "    <tr>\n",
              "      <th>1039955</th>\n",
              "      <td>PR</td>\n",
              "      <td>santo antonio do caiua</td>\n",
              "      <td>23/04/2020</td>\n",
              "      <td>1</td>\n",
              "      <td>1</td>\n",
              "    </tr>\n",
              "    <tr>\n",
              "      <th>1040523</th>\n",
              "      <td>PR</td>\n",
              "      <td>santo antonio do sudoeste</td>\n",
              "      <td>12/07/2020</td>\n",
              "      <td>4</td>\n",
              "      <td>1</td>\n",
              "    </tr>\n",
              "  </tbody>\n",
              "</table>\n",
              "<p>51009 rows × 5 columns</p>\n",
              "</div>"
            ],
            "text/plain": [
              "        estado                  municipio        data  casos  obitos\n",
              "108         RO      alta floresta d oeste  13/07/2020      1       1\n",
              "124         RO      alta floresta d oeste  29/07/2020     18       1\n",
              "131         RO      alta floresta d oeste  05/08/2020      8       1\n",
              "139         RO      alta floresta d oeste  13/08/2020      1       1\n",
              "144         RO      alta floresta d oeste  18/08/2020      3       1\n",
              "...        ...                        ...         ...    ...     ...\n",
              "1039823     PR   santo antonio da platina  13/08/2020      1       1\n",
              "1039871     PR   santo antonio da platina  30/09/2020      2       1\n",
              "1039921     PR   santo antonio da platina  19/11/2020     24       1\n",
              "1039955     PR     santo antonio do caiua  23/04/2020      1       1\n",
              "1040523     PR  santo antonio do sudoeste  12/07/2020      4       1\n",
              "\n",
              "[51009 rows x 5 columns]"
            ]
          },
          "metadata": {
            "tags": []
          },
          "execution_count": 272
        }
      ]
    },
    {
      "cell_type": "code",
      "metadata": {
        "id": "yT3L6pPsbZU7"
      },
      "source": [
        ""
      ],
      "execution_count": 272,
      "outputs": []
    },
    {
      "cell_type": "markdown",
      "metadata": {
        "id": "4pie3_b4trDE"
      },
      "source": [
        "##### Concatenando Dois Datasets"
      ]
    },
    {
      "cell_type": "code",
      "metadata": {
        "id": "pyPL7S7Vhjeb"
      },
      "source": [
        "df_covid = pd.merge(df_covid, df_munic, on='municipio', how='inner')\n"
      ],
      "execution_count": 273,
      "outputs": []
    },
    {
      "cell_type": "code",
      "metadata": {
        "colab": {
          "base_uri": "https://localhost:8080/",
          "height": 402
        },
        "id": "5Za9ShNzhjht",
        "outputId": "b1924452-ffb6-46c0-cc7b-a497bc69a1b3"
      },
      "source": [
        "df_covid"
      ],
      "execution_count": 274,
      "outputs": [
        {
          "output_type": "execute_result",
          "data": {
            "text/html": [
              "<div>\n",
              "<style scoped>\n",
              "    .dataframe tbody tr th:only-of-type {\n",
              "        vertical-align: middle;\n",
              "    }\n",
              "\n",
              "    .dataframe tbody tr th {\n",
              "        vertical-align: top;\n",
              "    }\n",
              "\n",
              "    .dataframe thead th {\n",
              "        text-align: right;\n",
              "    }\n",
              "</style>\n",
              "<table border=\"1\" class=\"dataframe\">\n",
              "  <thead>\n",
              "    <tr style=\"text-align: right;\">\n",
              "      <th></th>\n",
              "      <th>estado_x</th>\n",
              "      <th>municipio</th>\n",
              "      <th>data</th>\n",
              "      <th>casos</th>\n",
              "      <th>obitos</th>\n",
              "      <th>estado_y</th>\n",
              "      <th>lat</th>\n",
              "      <th>long</th>\n",
              "    </tr>\n",
              "  </thead>\n",
              "  <tbody>\n",
              "    <tr>\n",
              "      <th>0</th>\n",
              "      <td>RO</td>\n",
              "      <td>alta floresta d oeste</td>\n",
              "      <td>13/07/2020</td>\n",
              "      <td>1</td>\n",
              "      <td>1</td>\n",
              "      <td>RO</td>\n",
              "      <td>-11.9283</td>\n",
              "      <td>-61.9953</td>\n",
              "    </tr>\n",
              "    <tr>\n",
              "      <th>1</th>\n",
              "      <td>RO</td>\n",
              "      <td>alta floresta d oeste</td>\n",
              "      <td>29/07/2020</td>\n",
              "      <td>18</td>\n",
              "      <td>1</td>\n",
              "      <td>RO</td>\n",
              "      <td>-11.9283</td>\n",
              "      <td>-61.9953</td>\n",
              "    </tr>\n",
              "    <tr>\n",
              "      <th>2</th>\n",
              "      <td>RO</td>\n",
              "      <td>alta floresta d oeste</td>\n",
              "      <td>05/08/2020</td>\n",
              "      <td>8</td>\n",
              "      <td>1</td>\n",
              "      <td>RO</td>\n",
              "      <td>-11.9283</td>\n",
              "      <td>-61.9953</td>\n",
              "    </tr>\n",
              "    <tr>\n",
              "      <th>3</th>\n",
              "      <td>RO</td>\n",
              "      <td>alta floresta d oeste</td>\n",
              "      <td>13/08/2020</td>\n",
              "      <td>1</td>\n",
              "      <td>1</td>\n",
              "      <td>RO</td>\n",
              "      <td>-11.9283</td>\n",
              "      <td>-61.9953</td>\n",
              "    </tr>\n",
              "    <tr>\n",
              "      <th>4</th>\n",
              "      <td>RO</td>\n",
              "      <td>alta floresta d oeste</td>\n",
              "      <td>18/08/2020</td>\n",
              "      <td>3</td>\n",
              "      <td>1</td>\n",
              "      <td>RO</td>\n",
              "      <td>-11.9283</td>\n",
              "      <td>-61.9953</td>\n",
              "    </tr>\n",
              "    <tr>\n",
              "      <th>...</th>\n",
              "      <td>...</td>\n",
              "      <td>...</td>\n",
              "      <td>...</td>\n",
              "      <td>...</td>\n",
              "      <td>...</td>\n",
              "      <td>...</td>\n",
              "      <td>...</td>\n",
              "      <td>...</td>\n",
              "    </tr>\n",
              "    <tr>\n",
              "      <th>56656</th>\n",
              "      <td>PR</td>\n",
              "      <td>santo antonio da platina</td>\n",
              "      <td>13/08/2020</td>\n",
              "      <td>1</td>\n",
              "      <td>1</td>\n",
              "      <td>PR</td>\n",
              "      <td>-23.2959</td>\n",
              "      <td>-50.0815</td>\n",
              "    </tr>\n",
              "    <tr>\n",
              "      <th>56657</th>\n",
              "      <td>PR</td>\n",
              "      <td>santo antonio da platina</td>\n",
              "      <td>30/09/2020</td>\n",
              "      <td>2</td>\n",
              "      <td>1</td>\n",
              "      <td>PR</td>\n",
              "      <td>-23.2959</td>\n",
              "      <td>-50.0815</td>\n",
              "    </tr>\n",
              "    <tr>\n",
              "      <th>56658</th>\n",
              "      <td>PR</td>\n",
              "      <td>santo antonio da platina</td>\n",
              "      <td>19/11/2020</td>\n",
              "      <td>24</td>\n",
              "      <td>1</td>\n",
              "      <td>PR</td>\n",
              "      <td>-23.2959</td>\n",
              "      <td>-50.0815</td>\n",
              "    </tr>\n",
              "    <tr>\n",
              "      <th>56659</th>\n",
              "      <td>PR</td>\n",
              "      <td>santo antonio do caiua</td>\n",
              "      <td>23/04/2020</td>\n",
              "      <td>1</td>\n",
              "      <td>1</td>\n",
              "      <td>PR</td>\n",
              "      <td>-22.7351</td>\n",
              "      <td>-52.3440</td>\n",
              "    </tr>\n",
              "    <tr>\n",
              "      <th>56660</th>\n",
              "      <td>PR</td>\n",
              "      <td>santo antonio do sudoeste</td>\n",
              "      <td>12/07/2020</td>\n",
              "      <td>4</td>\n",
              "      <td>1</td>\n",
              "      <td>PR</td>\n",
              "      <td>-26.0737</td>\n",
              "      <td>-53.7251</td>\n",
              "    </tr>\n",
              "  </tbody>\n",
              "</table>\n",
              "<p>56661 rows × 8 columns</p>\n",
              "</div>"
            ],
            "text/plain": [
              "      estado_x                  municipio  ...      lat     long\n",
              "0           RO      alta floresta d oeste  ... -11.9283 -61.9953\n",
              "1           RO      alta floresta d oeste  ... -11.9283 -61.9953\n",
              "2           RO      alta floresta d oeste  ... -11.9283 -61.9953\n",
              "3           RO      alta floresta d oeste  ... -11.9283 -61.9953\n",
              "4           RO      alta floresta d oeste  ... -11.9283 -61.9953\n",
              "...        ...                        ...  ...      ...      ...\n",
              "56656       PR   santo antonio da platina  ... -23.2959 -50.0815\n",
              "56657       PR   santo antonio da platina  ... -23.2959 -50.0815\n",
              "56658       PR   santo antonio da platina  ... -23.2959 -50.0815\n",
              "56659       PR     santo antonio do caiua  ... -22.7351 -52.3440\n",
              "56660       PR  santo antonio do sudoeste  ... -26.0737 -53.7251\n",
              "\n",
              "[56661 rows x 8 columns]"
            ]
          },
          "metadata": {
            "tags": []
          },
          "execution_count": 274
        }
      ]
    },
    {
      "cell_type": "code",
      "metadata": {
        "id": "TGveRfljdA3l"
      },
      "source": [
        ""
      ],
      "execution_count": 274,
      "outputs": []
    },
    {
      "cell_type": "markdown",
      "metadata": {
        "id": "zUBUOatFtjcm"
      },
      "source": [
        "##### Análise da Concatenção (não podem existir coordenadas nulas)"
      ]
    },
    {
      "cell_type": "code",
      "metadata": {
        "id": "ltX-ELI0mEg-",
        "colab": {
          "base_uri": "https://localhost:8080/"
        },
        "outputId": "f15f7347-2512-4055-c8b4-fbcdd2c197e7"
      },
      "source": [
        "df_covid.isna().sum()"
      ],
      "execution_count": 275,
      "outputs": [
        {
          "output_type": "execute_result",
          "data": {
            "text/plain": [
              "estado_x     0\n",
              "municipio    0\n",
              "data         0\n",
              "casos        0\n",
              "obitos       0\n",
              "estado_y     0\n",
              "lat          0\n",
              "long         0\n",
              "dtype: int64"
            ]
          },
          "metadata": {
            "tags": []
          },
          "execution_count": 275
        }
      ]
    },
    {
      "cell_type": "code",
      "metadata": {
        "id": "zvdudmoPh4DE"
      },
      "source": [
        ""
      ],
      "execution_count": 275,
      "outputs": []
    },
    {
      "cell_type": "markdown",
      "metadata": {
        "id": "bL4mHaDFt8bh"
      },
      "source": [
        "##### Eliminação dos Valores Nulos"
      ]
    },
    {
      "cell_type": "code",
      "metadata": {
        "id": "-dSCDUiQt72-"
      },
      "source": [
        "df_covid.dropna(axis=0, inplace=True)"
      ],
      "execution_count": 276,
      "outputs": []
    },
    {
      "cell_type": "code",
      "metadata": {
        "colab": {
          "base_uri": "https://localhost:8080/"
        },
        "id": "02Jpngeut76w",
        "outputId": "445b7f7f-e94e-49b7-d2ff-d1dcf5460b1a"
      },
      "source": [
        "df_covid.isna().sum()"
      ],
      "execution_count": 277,
      "outputs": [
        {
          "output_type": "execute_result",
          "data": {
            "text/plain": [
              "estado_x     0\n",
              "municipio    0\n",
              "data         0\n",
              "casos        0\n",
              "obitos       0\n",
              "estado_y     0\n",
              "lat          0\n",
              "long         0\n",
              "dtype: int64"
            ]
          },
          "metadata": {
            "tags": []
          },
          "execution_count": 277
        }
      ]
    },
    {
      "cell_type": "code",
      "metadata": {
        "id": "CgvemiPzuJqB"
      },
      "source": [
        ""
      ],
      "execution_count": 277,
      "outputs": []
    },
    {
      "cell_type": "markdown",
      "metadata": {
        "id": "efH6PrSztpps"
      },
      "source": [
        "##### Padronização dos Nomes das Colunas"
      ]
    },
    {
      "cell_type": "code",
      "metadata": {
        "id": "TXyatb_muOwB"
      },
      "source": [
        "df_covid.drop(['estado_y'], axis=1, inplace=True)"
      ],
      "execution_count": 278,
      "outputs": []
    },
    {
      "cell_type": "code",
      "metadata": {
        "id": "yK_2tQbBuilm"
      },
      "source": [
        "df_covid.rename(columns={'estado_x':'estado'}, inplace=True)"
      ],
      "execution_count": 279,
      "outputs": []
    },
    {
      "cell_type": "code",
      "metadata": {
        "id": "5wHqfRb0u-ww"
      },
      "source": [
        ""
      ],
      "execution_count": 279,
      "outputs": []
    },
    {
      "cell_type": "markdown",
      "metadata": {
        "id": "L-ayFgr1zz8s"
      },
      "source": [
        "##### Padronização de Tipos de Dados\n"
      ]
    },
    {
      "cell_type": "code",
      "metadata": {
        "id": "mHA8F4lLt4uN"
      },
      "source": [
        "df_covid['casos'] = df_covid['casos'].astype(int)"
      ],
      "execution_count": 280,
      "outputs": []
    },
    {
      "cell_type": "code",
      "metadata": {
        "id": "JA7QgiW0z6vq"
      },
      "source": [
        "df_covid['obitos'] = df_covid['obitos'].astype(int)"
      ],
      "execution_count": 281,
      "outputs": []
    },
    {
      "cell_type": "code",
      "metadata": {
        "colab": {
          "base_uri": "https://localhost:8080/",
          "height": 402
        },
        "id": "Ts2YwfISz6yq",
        "outputId": "6bb4f0dc-faef-440a-b20f-9e7037440964"
      },
      "source": [
        "df_covid"
      ],
      "execution_count": 282,
      "outputs": [
        {
          "output_type": "execute_result",
          "data": {
            "text/html": [
              "<div>\n",
              "<style scoped>\n",
              "    .dataframe tbody tr th:only-of-type {\n",
              "        vertical-align: middle;\n",
              "    }\n",
              "\n",
              "    .dataframe tbody tr th {\n",
              "        vertical-align: top;\n",
              "    }\n",
              "\n",
              "    .dataframe thead th {\n",
              "        text-align: right;\n",
              "    }\n",
              "</style>\n",
              "<table border=\"1\" class=\"dataframe\">\n",
              "  <thead>\n",
              "    <tr style=\"text-align: right;\">\n",
              "      <th></th>\n",
              "      <th>estado</th>\n",
              "      <th>municipio</th>\n",
              "      <th>data</th>\n",
              "      <th>casos</th>\n",
              "      <th>obitos</th>\n",
              "      <th>lat</th>\n",
              "      <th>long</th>\n",
              "    </tr>\n",
              "  </thead>\n",
              "  <tbody>\n",
              "    <tr>\n",
              "      <th>0</th>\n",
              "      <td>RO</td>\n",
              "      <td>alta floresta d oeste</td>\n",
              "      <td>13/07/2020</td>\n",
              "      <td>1</td>\n",
              "      <td>1</td>\n",
              "      <td>-11.9283</td>\n",
              "      <td>-61.9953</td>\n",
              "    </tr>\n",
              "    <tr>\n",
              "      <th>1</th>\n",
              "      <td>RO</td>\n",
              "      <td>alta floresta d oeste</td>\n",
              "      <td>29/07/2020</td>\n",
              "      <td>18</td>\n",
              "      <td>1</td>\n",
              "      <td>-11.9283</td>\n",
              "      <td>-61.9953</td>\n",
              "    </tr>\n",
              "    <tr>\n",
              "      <th>2</th>\n",
              "      <td>RO</td>\n",
              "      <td>alta floresta d oeste</td>\n",
              "      <td>05/08/2020</td>\n",
              "      <td>8</td>\n",
              "      <td>1</td>\n",
              "      <td>-11.9283</td>\n",
              "      <td>-61.9953</td>\n",
              "    </tr>\n",
              "    <tr>\n",
              "      <th>3</th>\n",
              "      <td>RO</td>\n",
              "      <td>alta floresta d oeste</td>\n",
              "      <td>13/08/2020</td>\n",
              "      <td>1</td>\n",
              "      <td>1</td>\n",
              "      <td>-11.9283</td>\n",
              "      <td>-61.9953</td>\n",
              "    </tr>\n",
              "    <tr>\n",
              "      <th>4</th>\n",
              "      <td>RO</td>\n",
              "      <td>alta floresta d oeste</td>\n",
              "      <td>18/08/2020</td>\n",
              "      <td>3</td>\n",
              "      <td>1</td>\n",
              "      <td>-11.9283</td>\n",
              "      <td>-61.9953</td>\n",
              "    </tr>\n",
              "    <tr>\n",
              "      <th>...</th>\n",
              "      <td>...</td>\n",
              "      <td>...</td>\n",
              "      <td>...</td>\n",
              "      <td>...</td>\n",
              "      <td>...</td>\n",
              "      <td>...</td>\n",
              "      <td>...</td>\n",
              "    </tr>\n",
              "    <tr>\n",
              "      <th>56656</th>\n",
              "      <td>PR</td>\n",
              "      <td>santo antonio da platina</td>\n",
              "      <td>13/08/2020</td>\n",
              "      <td>1</td>\n",
              "      <td>1</td>\n",
              "      <td>-23.2959</td>\n",
              "      <td>-50.0815</td>\n",
              "    </tr>\n",
              "    <tr>\n",
              "      <th>56657</th>\n",
              "      <td>PR</td>\n",
              "      <td>santo antonio da platina</td>\n",
              "      <td>30/09/2020</td>\n",
              "      <td>2</td>\n",
              "      <td>1</td>\n",
              "      <td>-23.2959</td>\n",
              "      <td>-50.0815</td>\n",
              "    </tr>\n",
              "    <tr>\n",
              "      <th>56658</th>\n",
              "      <td>PR</td>\n",
              "      <td>santo antonio da platina</td>\n",
              "      <td>19/11/2020</td>\n",
              "      <td>24</td>\n",
              "      <td>1</td>\n",
              "      <td>-23.2959</td>\n",
              "      <td>-50.0815</td>\n",
              "    </tr>\n",
              "    <tr>\n",
              "      <th>56659</th>\n",
              "      <td>PR</td>\n",
              "      <td>santo antonio do caiua</td>\n",
              "      <td>23/04/2020</td>\n",
              "      <td>1</td>\n",
              "      <td>1</td>\n",
              "      <td>-22.7351</td>\n",
              "      <td>-52.3440</td>\n",
              "    </tr>\n",
              "    <tr>\n",
              "      <th>56660</th>\n",
              "      <td>PR</td>\n",
              "      <td>santo antonio do sudoeste</td>\n",
              "      <td>12/07/2020</td>\n",
              "      <td>4</td>\n",
              "      <td>1</td>\n",
              "      <td>-26.0737</td>\n",
              "      <td>-53.7251</td>\n",
              "    </tr>\n",
              "  </tbody>\n",
              "</table>\n",
              "<p>56661 rows × 7 columns</p>\n",
              "</div>"
            ],
            "text/plain": [
              "      estado                  municipio        data  ...  obitos      lat     long\n",
              "0         RO      alta floresta d oeste  13/07/2020  ...       1 -11.9283 -61.9953\n",
              "1         RO      alta floresta d oeste  29/07/2020  ...       1 -11.9283 -61.9953\n",
              "2         RO      alta floresta d oeste  05/08/2020  ...       1 -11.9283 -61.9953\n",
              "3         RO      alta floresta d oeste  13/08/2020  ...       1 -11.9283 -61.9953\n",
              "4         RO      alta floresta d oeste  18/08/2020  ...       1 -11.9283 -61.9953\n",
              "...      ...                        ...         ...  ...     ...      ...      ...\n",
              "56656     PR   santo antonio da platina  13/08/2020  ...       1 -23.2959 -50.0815\n",
              "56657     PR   santo antonio da platina  30/09/2020  ...       1 -23.2959 -50.0815\n",
              "56658     PR   santo antonio da platina  19/11/2020  ...       1 -23.2959 -50.0815\n",
              "56659     PR     santo antonio do caiua  23/04/2020  ...       1 -22.7351 -52.3440\n",
              "56660     PR  santo antonio do sudoeste  12/07/2020  ...       1 -26.0737 -53.7251\n",
              "\n",
              "[56661 rows x 7 columns]"
            ]
          },
          "metadata": {
            "tags": []
          },
          "execution_count": 282
        }
      ]
    },
    {
      "cell_type": "code",
      "metadata": {
        "id": "UwFbv1ZMz62c"
      },
      "source": [
        ""
      ],
      "execution_count": 282,
      "outputs": []
    },
    {
      "cell_type": "code",
      "metadata": {
        "id": "tSCYqB50t4xa"
      },
      "source": [
        ""
      ],
      "execution_count": 282,
      "outputs": []
    },
    {
      "cell_type": "code",
      "metadata": {
        "colab": {
          "base_uri": "https://localhost:8080/",
          "height": 489
        },
        "id": "f7s8ac5pu-4D",
        "outputId": "f598635d-94b7-4fc3-d53b-ec6c47439391"
      },
      "source": [
        "df_medicos"
      ],
      "execution_count": 283,
      "outputs": [
        {
          "output_type": "execute_result",
          "data": {
            "text/html": [
              "<div>\n",
              "<style scoped>\n",
              "    .dataframe tbody tr th:only-of-type {\n",
              "        vertical-align: middle;\n",
              "    }\n",
              "\n",
              "    .dataframe tbody tr th {\n",
              "        vertical-align: top;\n",
              "    }\n",
              "\n",
              "    .dataframe thead th {\n",
              "        text-align: right;\n",
              "    }\n",
              "</style>\n",
              "<table border=\"1\" class=\"dataframe\">\n",
              "  <thead>\n",
              "    <tr style=\"text-align: right;\">\n",
              "      <th></th>\n",
              "      <th>OBJECTID</th>\n",
              "      <th>Codigo_Municipio</th>\n",
              "      <th>Nome_municipio</th>\n",
              "      <th>Nome_Estado</th>\n",
              "      <th>GR</th>\n",
              "      <th>Pop_Total</th>\n",
              "      <th>Total_Medicos</th>\n",
              "      <th>Medicos_SUS</th>\n",
              "      <th>Medicos_100mil_hab_Ind</th>\n",
              "      <th>Medicos_SUS_100mil_hab_Ind</th>\n",
              "      <th>Shape__Area</th>\n",
              "      <th>Shape__Length</th>\n",
              "      <th>P_Medicos_SUS</th>\n",
              "    </tr>\n",
              "  </thead>\n",
              "  <tbody>\n",
              "    <tr>\n",
              "      <th>0</th>\n",
              "      <td>1</td>\n",
              "      <td>5200050</td>\n",
              "      <td>Abadia de Goiás</td>\n",
              "      <td>Goiás</td>\n",
              "      <td>Centro-Oeste</td>\n",
              "      <td>8773</td>\n",
              "      <td>16</td>\n",
              "      <td>16</td>\n",
              "      <td>182.377750</td>\n",
              "      <td>182.377750</td>\n",
              "      <td>0.012482</td>\n",
              "      <td>0.591110</td>\n",
              "      <td>100.000000</td>\n",
              "    </tr>\n",
              "    <tr>\n",
              "      <th>1</th>\n",
              "      <td>2</td>\n",
              "      <td>3100104</td>\n",
              "      <td>Abadia dos Dourados</td>\n",
              "      <td>Minas Gerais</td>\n",
              "      <td>Sudeste</td>\n",
              "      <td>6989</td>\n",
              "      <td>14</td>\n",
              "      <td>14</td>\n",
              "      <td>200.314780</td>\n",
              "      <td>200.314780</td>\n",
              "      <td>0.075314</td>\n",
              "      <td>1.959124</td>\n",
              "      <td>100.000000</td>\n",
              "    </tr>\n",
              "    <tr>\n",
              "      <th>2</th>\n",
              "      <td>3</td>\n",
              "      <td>5200100</td>\n",
              "      <td>Abadiânia</td>\n",
              "      <td>Goiás</td>\n",
              "      <td>Centro-Oeste</td>\n",
              "      <td>20042</td>\n",
              "      <td>16</td>\n",
              "      <td>16</td>\n",
              "      <td>79.832352</td>\n",
              "      <td>79.832352</td>\n",
              "      <td>0.088320</td>\n",
              "      <td>1.811350</td>\n",
              "      <td>100.000000</td>\n",
              "    </tr>\n",
              "    <tr>\n",
              "      <th>3</th>\n",
              "      <td>4</td>\n",
              "      <td>3100203</td>\n",
              "      <td>Abaeté</td>\n",
              "      <td>Minas Gerais</td>\n",
              "      <td>Sudeste</td>\n",
              "      <td>23237</td>\n",
              "      <td>51</td>\n",
              "      <td>48</td>\n",
              "      <td>219.477557</td>\n",
              "      <td>206.567113</td>\n",
              "      <td>0.155999</td>\n",
              "      <td>2.434613</td>\n",
              "      <td>94.117647</td>\n",
              "    </tr>\n",
              "    <tr>\n",
              "      <th>4</th>\n",
              "      <td>5</td>\n",
              "      <td>1500107</td>\n",
              "      <td>Abaetetuba</td>\n",
              "      <td>Pará</td>\n",
              "      <td>Norte</td>\n",
              "      <td>157698</td>\n",
              "      <td>90</td>\n",
              "      <td>82</td>\n",
              "      <td>57.071111</td>\n",
              "      <td>51.998123</td>\n",
              "      <td>0.130889</td>\n",
              "      <td>1.829539</td>\n",
              "      <td>91.111111</td>\n",
              "    </tr>\n",
              "    <tr>\n",
              "      <th>...</th>\n",
              "      <td>...</td>\n",
              "      <td>...</td>\n",
              "      <td>...</td>\n",
              "      <td>...</td>\n",
              "      <td>...</td>\n",
              "      <td>...</td>\n",
              "      <td>...</td>\n",
              "      <td>...</td>\n",
              "      <td>...</td>\n",
              "      <td>...</td>\n",
              "      <td>...</td>\n",
              "      <td>...</td>\n",
              "      <td>...</td>\n",
              "    </tr>\n",
              "    <tr>\n",
              "      <th>5565</th>\n",
              "      <td>5566</td>\n",
              "      <td>2933604</td>\n",
              "      <td>Xique-Xique</td>\n",
              "      <td>Bahia</td>\n",
              "      <td>Nordeste</td>\n",
              "      <td>46483</td>\n",
              "      <td>12</td>\n",
              "      <td>12</td>\n",
              "      <td>25.815890</td>\n",
              "      <td>25.815890</td>\n",
              "      <td>0.420182</td>\n",
              "      <td>4.805814</td>\n",
              "      <td>100.000000</td>\n",
              "    </tr>\n",
              "    <tr>\n",
              "      <th>5566</th>\n",
              "      <td>5567</td>\n",
              "      <td>2517407</td>\n",
              "      <td>Zabelê</td>\n",
              "      <td>Paraíba</td>\n",
              "      <td>Nordeste</td>\n",
              "      <td>2240</td>\n",
              "      <td>1</td>\n",
              "      <td>1</td>\n",
              "      <td>44.642857</td>\n",
              "      <td>44.642857</td>\n",
              "      <td>0.008974</td>\n",
              "      <td>0.444401</td>\n",
              "      <td>100.000000</td>\n",
              "    </tr>\n",
              "    <tr>\n",
              "      <th>5567</th>\n",
              "      <td>5568</td>\n",
              "      <td>3557154</td>\n",
              "      <td>Zacarias</td>\n",
              "      <td>São Paulo</td>\n",
              "      <td>Sudeste</td>\n",
              "      <td>2718</td>\n",
              "      <td>0</td>\n",
              "      <td>0</td>\n",
              "      <td>0.000000</td>\n",
              "      <td>0.000000</td>\n",
              "      <td>0.027740</td>\n",
              "      <td>0.773112</td>\n",
              "      <td>0.000000</td>\n",
              "    </tr>\n",
              "    <tr>\n",
              "      <th>5568</th>\n",
              "      <td>5569</td>\n",
              "      <td>2114007</td>\n",
              "      <td>Zé Doca</td>\n",
              "      <td>Maranhão</td>\n",
              "      <td>Nordeste</td>\n",
              "      <td>51714</td>\n",
              "      <td>13</td>\n",
              "      <td>13</td>\n",
              "      <td>25.138260</td>\n",
              "      <td>25.138260</td>\n",
              "      <td>0.174139</td>\n",
              "      <td>3.058613</td>\n",
              "      <td>100.000000</td>\n",
              "    </tr>\n",
              "    <tr>\n",
              "      <th>5569</th>\n",
              "      <td>5570</td>\n",
              "      <td>4219853</td>\n",
              "      <td>Zortéa</td>\n",
              "      <td>Santa Catarina</td>\n",
              "      <td>Sul</td>\n",
              "      <td>3363</td>\n",
              "      <td>0</td>\n",
              "      <td>0</td>\n",
              "      <td>0.000000</td>\n",
              "      <td>0.000000</td>\n",
              "      <td>0.017323</td>\n",
              "      <td>0.907243</td>\n",
              "      <td>0.000000</td>\n",
              "    </tr>\n",
              "  </tbody>\n",
              "</table>\n",
              "<p>5570 rows × 13 columns</p>\n",
              "</div>"
            ],
            "text/plain": [
              "      OBJECTID  Codigo_Municipio  ... Shape__Length P_Medicos_SUS\n",
              "0            1           5200050  ...      0.591110    100.000000\n",
              "1            2           3100104  ...      1.959124    100.000000\n",
              "2            3           5200100  ...      1.811350    100.000000\n",
              "3            4           3100203  ...      2.434613     94.117647\n",
              "4            5           1500107  ...      1.829539     91.111111\n",
              "...        ...               ...  ...           ...           ...\n",
              "5565      5566           2933604  ...      4.805814    100.000000\n",
              "5566      5567           2517407  ...      0.444401    100.000000\n",
              "5567      5568           3557154  ...      0.773112      0.000000\n",
              "5568      5569           2114007  ...      3.058613    100.000000\n",
              "5569      5570           4219853  ...      0.907243      0.000000\n",
              "\n",
              "[5570 rows x 13 columns]"
            ]
          },
          "metadata": {
            "tags": []
          },
          "execution_count": 283
        }
      ]
    },
    {
      "cell_type": "code",
      "metadata": {
        "id": "3hGJQVD1yQKo"
      },
      "source": [
        ""
      ],
      "execution_count": 283,
      "outputs": []
    },
    {
      "cell_type": "code",
      "metadata": {
        "id": "It2fgF5lyQSx"
      },
      "source": [
        "siglas=[\"AC\",\"AL\",\"AP\",\"AM\",\"BA\",\"CE\",\"DF\",\"ES\",\"GO\",\"MA\",\"MT\",\"MS\",\"MG\",\"PA\",\"PB\",\"PR\",\"PE\",\"PI\",\"RJ\",\"RN\",\"RS\",\"RO\",\"RR\",\"SC\",\"SP\",\"SE\",\"TO\"]\n",
        "\n"
      ],
      "execution_count": 284,
      "outputs": []
    },
    {
      "cell_type": "code",
      "metadata": {
        "id": "7Ip86PGfyQVj"
      },
      "source": [
        "nomesEstados = [\"Acre\",\"Alagoas\",\"Amapá\",\"Amazonas\",\"Bahia\",\"Ceará\",\"Distrito Federal\",\"Espírito Santo\",\"Goiás\",\"Maranhão\",\"Mato Grosso\",\"Mato Grosso do Sul\",\"Minas Gerais\",\"Pará\",\"Paraíba\",\"Paraná\",\"Pernambuco\",\"Piauí\",\"Rio de Janeiro\",\"Rio Grande do Norte\",\"Rio Grande do Sul\",\"Rondônia\",\"Roraima\",\"Santa Catarina\",\"São Paulo\",\"Sergipe\",\"Tocantins\"]\n"
      ],
      "execution_count": 285,
      "outputs": []
    },
    {
      "cell_type": "code",
      "metadata": {
        "id": "XZlqBEtVzIc3"
      },
      "source": [
        ""
      ],
      "execution_count": 285,
      "outputs": []
    },
    {
      "cell_type": "code",
      "metadata": {
        "id": "eIKPe6g0zIm1"
      },
      "source": [
        "lista = []"
      ],
      "execution_count": 286,
      "outputs": []
    },
    {
      "cell_type": "code",
      "metadata": {
        "id": "TCWHqc5WyQZR"
      },
      "source": [
        "for i in df_medicos['Nome_Estado'].values:\n",
        "  for j in range(len(nomesEstados)):\n",
        "    if i == nomesEstados[j]:\n",
        "      lista.append(siglas[j])\n",
        "  \n",
        "\n"
      ],
      "execution_count": 287,
      "outputs": []
    },
    {
      "cell_type": "code",
      "metadata": {
        "id": "64jaxdj6yQcv"
      },
      "source": [
        "df_medicos['estado'] = [i for i in lista]"
      ],
      "execution_count": 288,
      "outputs": []
    },
    {
      "cell_type": "code",
      "metadata": {
        "id": "bcvJC18DyQn4"
      },
      "source": [
        "df_medicos.rename(columns={'Nome_municipio':'municipio','Medicos_100mil_hab_Ind':'medicosCemMil'},inplace=True)"
      ],
      "execution_count": 289,
      "outputs": []
    },
    {
      "cell_type": "code",
      "metadata": {
        "id": "YKpRa4dKS9Bn"
      },
      "source": [
        "df_medicos = df_medicos[['municipio','medicosCemMil','estado']]"
      ],
      "execution_count": 290,
      "outputs": []
    },
    {
      "cell_type": "code",
      "metadata": {
        "colab": {
          "base_uri": "https://localhost:8080/",
          "height": 402
        },
        "id": "uYxVm5hGYksy",
        "outputId": "f1de7283-e11c-4bc1-d7ae-fa9b64ad5504"
      },
      "source": [
        "df_medicos"
      ],
      "execution_count": 291,
      "outputs": [
        {
          "output_type": "execute_result",
          "data": {
            "text/html": [
              "<div>\n",
              "<style scoped>\n",
              "    .dataframe tbody tr th:only-of-type {\n",
              "        vertical-align: middle;\n",
              "    }\n",
              "\n",
              "    .dataframe tbody tr th {\n",
              "        vertical-align: top;\n",
              "    }\n",
              "\n",
              "    .dataframe thead th {\n",
              "        text-align: right;\n",
              "    }\n",
              "</style>\n",
              "<table border=\"1\" class=\"dataframe\">\n",
              "  <thead>\n",
              "    <tr style=\"text-align: right;\">\n",
              "      <th></th>\n",
              "      <th>municipio</th>\n",
              "      <th>medicosCemMil</th>\n",
              "      <th>estado</th>\n",
              "    </tr>\n",
              "  </thead>\n",
              "  <tbody>\n",
              "    <tr>\n",
              "      <th>0</th>\n",
              "      <td>Abadia de Goiás</td>\n",
              "      <td>182.377750</td>\n",
              "      <td>GO</td>\n",
              "    </tr>\n",
              "    <tr>\n",
              "      <th>1</th>\n",
              "      <td>Abadia dos Dourados</td>\n",
              "      <td>200.314780</td>\n",
              "      <td>MG</td>\n",
              "    </tr>\n",
              "    <tr>\n",
              "      <th>2</th>\n",
              "      <td>Abadiânia</td>\n",
              "      <td>79.832352</td>\n",
              "      <td>GO</td>\n",
              "    </tr>\n",
              "    <tr>\n",
              "      <th>3</th>\n",
              "      <td>Abaeté</td>\n",
              "      <td>219.477557</td>\n",
              "      <td>MG</td>\n",
              "    </tr>\n",
              "    <tr>\n",
              "      <th>4</th>\n",
              "      <td>Abaetetuba</td>\n",
              "      <td>57.071111</td>\n",
              "      <td>PA</td>\n",
              "    </tr>\n",
              "    <tr>\n",
              "      <th>...</th>\n",
              "      <td>...</td>\n",
              "      <td>...</td>\n",
              "      <td>...</td>\n",
              "    </tr>\n",
              "    <tr>\n",
              "      <th>5565</th>\n",
              "      <td>Xique-Xique</td>\n",
              "      <td>25.815890</td>\n",
              "      <td>BA</td>\n",
              "    </tr>\n",
              "    <tr>\n",
              "      <th>5566</th>\n",
              "      <td>Zabelê</td>\n",
              "      <td>44.642857</td>\n",
              "      <td>PB</td>\n",
              "    </tr>\n",
              "    <tr>\n",
              "      <th>5567</th>\n",
              "      <td>Zacarias</td>\n",
              "      <td>0.000000</td>\n",
              "      <td>SP</td>\n",
              "    </tr>\n",
              "    <tr>\n",
              "      <th>5568</th>\n",
              "      <td>Zé Doca</td>\n",
              "      <td>25.138260</td>\n",
              "      <td>MA</td>\n",
              "    </tr>\n",
              "    <tr>\n",
              "      <th>5569</th>\n",
              "      <td>Zortéa</td>\n",
              "      <td>0.000000</td>\n",
              "      <td>SC</td>\n",
              "    </tr>\n",
              "  </tbody>\n",
              "</table>\n",
              "<p>5570 rows × 3 columns</p>\n",
              "</div>"
            ],
            "text/plain": [
              "                municipio  medicosCemMil estado\n",
              "0         Abadia de Goiás     182.377750     GO\n",
              "1     Abadia dos Dourados     200.314780     MG\n",
              "2               Abadiânia      79.832352     GO\n",
              "3                  Abaeté     219.477557     MG\n",
              "4              Abaetetuba      57.071111     PA\n",
              "...                   ...            ...    ...\n",
              "5565          Xique-Xique      25.815890     BA\n",
              "5566               Zabelê      44.642857     PB\n",
              "5567             Zacarias       0.000000     SP\n",
              "5568              Zé Doca      25.138260     MA\n",
              "5569               Zortéa       0.000000     SC\n",
              "\n",
              "[5570 rows x 3 columns]"
            ]
          },
          "metadata": {
            "tags": []
          },
          "execution_count": 291
        }
      ]
    },
    {
      "cell_type": "code",
      "metadata": {
        "id": "YYKNj0mZYr_R"
      },
      "source": [
        ""
      ],
      "execution_count": 291,
      "outputs": []
    },
    {
      "cell_type": "code",
      "metadata": {
        "id": "ZtT2tYKQZSfJ"
      },
      "source": [
        "df_medicos['municipio'] = df_medicos['municipio'].str.normalize('NFKD').str.encode('ASCII', errors='ignore').str.decode('ASCII')\n",
        "df_medicos['municipio'] = df_medicos['municipio'].str.replace('[-,_]',' ')\n",
        "df_medicos['municipio'] = df_medicos['municipio'].str.replace(\"'\",' ')\n",
        "df_medicos['municipio'] = df_medicos['municipio'].str.lower()"
      ],
      "execution_count": 292,
      "outputs": []
    },
    {
      "cell_type": "code",
      "metadata": {
        "colab": {
          "base_uri": "https://localhost:8080/",
          "height": 402
        },
        "id": "dknr3GmYZSii",
        "outputId": "6b48aa8e-63c1-4122-f801-ba2d15c69176"
      },
      "source": [
        "df_medicos"
      ],
      "execution_count": 293,
      "outputs": [
        {
          "output_type": "execute_result",
          "data": {
            "text/html": [
              "<div>\n",
              "<style scoped>\n",
              "    .dataframe tbody tr th:only-of-type {\n",
              "        vertical-align: middle;\n",
              "    }\n",
              "\n",
              "    .dataframe tbody tr th {\n",
              "        vertical-align: top;\n",
              "    }\n",
              "\n",
              "    .dataframe thead th {\n",
              "        text-align: right;\n",
              "    }\n",
              "</style>\n",
              "<table border=\"1\" class=\"dataframe\">\n",
              "  <thead>\n",
              "    <tr style=\"text-align: right;\">\n",
              "      <th></th>\n",
              "      <th>municipio</th>\n",
              "      <th>medicosCemMil</th>\n",
              "      <th>estado</th>\n",
              "    </tr>\n",
              "  </thead>\n",
              "  <tbody>\n",
              "    <tr>\n",
              "      <th>0</th>\n",
              "      <td>abadia de goias</td>\n",
              "      <td>182.377750</td>\n",
              "      <td>GO</td>\n",
              "    </tr>\n",
              "    <tr>\n",
              "      <th>1</th>\n",
              "      <td>abadia dos dourados</td>\n",
              "      <td>200.314780</td>\n",
              "      <td>MG</td>\n",
              "    </tr>\n",
              "    <tr>\n",
              "      <th>2</th>\n",
              "      <td>abadiania</td>\n",
              "      <td>79.832352</td>\n",
              "      <td>GO</td>\n",
              "    </tr>\n",
              "    <tr>\n",
              "      <th>3</th>\n",
              "      <td>abaete</td>\n",
              "      <td>219.477557</td>\n",
              "      <td>MG</td>\n",
              "    </tr>\n",
              "    <tr>\n",
              "      <th>4</th>\n",
              "      <td>abaetetuba</td>\n",
              "      <td>57.071111</td>\n",
              "      <td>PA</td>\n",
              "    </tr>\n",
              "    <tr>\n",
              "      <th>...</th>\n",
              "      <td>...</td>\n",
              "      <td>...</td>\n",
              "      <td>...</td>\n",
              "    </tr>\n",
              "    <tr>\n",
              "      <th>5565</th>\n",
              "      <td>xique xique</td>\n",
              "      <td>25.815890</td>\n",
              "      <td>BA</td>\n",
              "    </tr>\n",
              "    <tr>\n",
              "      <th>5566</th>\n",
              "      <td>zabele</td>\n",
              "      <td>44.642857</td>\n",
              "      <td>PB</td>\n",
              "    </tr>\n",
              "    <tr>\n",
              "      <th>5567</th>\n",
              "      <td>zacarias</td>\n",
              "      <td>0.000000</td>\n",
              "      <td>SP</td>\n",
              "    </tr>\n",
              "    <tr>\n",
              "      <th>5568</th>\n",
              "      <td>ze doca</td>\n",
              "      <td>25.138260</td>\n",
              "      <td>MA</td>\n",
              "    </tr>\n",
              "    <tr>\n",
              "      <th>5569</th>\n",
              "      <td>zortea</td>\n",
              "      <td>0.000000</td>\n",
              "      <td>SC</td>\n",
              "    </tr>\n",
              "  </tbody>\n",
              "</table>\n",
              "<p>5570 rows × 3 columns</p>\n",
              "</div>"
            ],
            "text/plain": [
              "                municipio  medicosCemMil estado\n",
              "0         abadia de goias     182.377750     GO\n",
              "1     abadia dos dourados     200.314780     MG\n",
              "2               abadiania      79.832352     GO\n",
              "3                  abaete     219.477557     MG\n",
              "4              abaetetuba      57.071111     PA\n",
              "...                   ...            ...    ...\n",
              "5565          xique xique      25.815890     BA\n",
              "5566               zabele      44.642857     PB\n",
              "5567             zacarias       0.000000     SP\n",
              "5568              ze doca      25.138260     MA\n",
              "5569               zortea       0.000000     SC\n",
              "\n",
              "[5570 rows x 3 columns]"
            ]
          },
          "metadata": {
            "tags": []
          },
          "execution_count": 293
        }
      ]
    },
    {
      "cell_type": "code",
      "metadata": {
        "id": "pQxdRh8EZSlh"
      },
      "source": [
        "df_covid = pd.merge(df_covid, df_medicos,on='municipio', how='inner')"
      ],
      "execution_count": 294,
      "outputs": []
    },
    {
      "cell_type": "code",
      "metadata": {
        "colab": {
          "base_uri": "https://localhost:8080/",
          "height": 402
        },
        "id": "xFD0DoVzY0py",
        "outputId": "066b4389-122c-4981-f950-e8e83dde5005"
      },
      "source": [
        "df_covid"
      ],
      "execution_count": 295,
      "outputs": [
        {
          "output_type": "execute_result",
          "data": {
            "text/html": [
              "<div>\n",
              "<style scoped>\n",
              "    .dataframe tbody tr th:only-of-type {\n",
              "        vertical-align: middle;\n",
              "    }\n",
              "\n",
              "    .dataframe tbody tr th {\n",
              "        vertical-align: top;\n",
              "    }\n",
              "\n",
              "    .dataframe thead th {\n",
              "        text-align: right;\n",
              "    }\n",
              "</style>\n",
              "<table border=\"1\" class=\"dataframe\">\n",
              "  <thead>\n",
              "    <tr style=\"text-align: right;\">\n",
              "      <th></th>\n",
              "      <th>estado_x</th>\n",
              "      <th>municipio</th>\n",
              "      <th>data</th>\n",
              "      <th>casos</th>\n",
              "      <th>obitos</th>\n",
              "      <th>lat</th>\n",
              "      <th>long</th>\n",
              "      <th>medicosCemMil</th>\n",
              "      <th>estado_y</th>\n",
              "    </tr>\n",
              "  </thead>\n",
              "  <tbody>\n",
              "    <tr>\n",
              "      <th>0</th>\n",
              "      <td>RO</td>\n",
              "      <td>alta floresta d oeste</td>\n",
              "      <td>13/07/2020</td>\n",
              "      <td>1</td>\n",
              "      <td>1</td>\n",
              "      <td>-11.9283</td>\n",
              "      <td>-61.9953</td>\n",
              "      <td>91.523208</td>\n",
              "      <td>RO</td>\n",
              "    </tr>\n",
              "    <tr>\n",
              "      <th>1</th>\n",
              "      <td>RO</td>\n",
              "      <td>alta floresta d oeste</td>\n",
              "      <td>29/07/2020</td>\n",
              "      <td>18</td>\n",
              "      <td>1</td>\n",
              "      <td>-11.9283</td>\n",
              "      <td>-61.9953</td>\n",
              "      <td>91.523208</td>\n",
              "      <td>RO</td>\n",
              "    </tr>\n",
              "    <tr>\n",
              "      <th>2</th>\n",
              "      <td>RO</td>\n",
              "      <td>alta floresta d oeste</td>\n",
              "      <td>05/08/2020</td>\n",
              "      <td>8</td>\n",
              "      <td>1</td>\n",
              "      <td>-11.9283</td>\n",
              "      <td>-61.9953</td>\n",
              "      <td>91.523208</td>\n",
              "      <td>RO</td>\n",
              "    </tr>\n",
              "    <tr>\n",
              "      <th>3</th>\n",
              "      <td>RO</td>\n",
              "      <td>alta floresta d oeste</td>\n",
              "      <td>13/08/2020</td>\n",
              "      <td>1</td>\n",
              "      <td>1</td>\n",
              "      <td>-11.9283</td>\n",
              "      <td>-61.9953</td>\n",
              "      <td>91.523208</td>\n",
              "      <td>RO</td>\n",
              "    </tr>\n",
              "    <tr>\n",
              "      <th>4</th>\n",
              "      <td>RO</td>\n",
              "      <td>alta floresta d oeste</td>\n",
              "      <td>18/08/2020</td>\n",
              "      <td>3</td>\n",
              "      <td>1</td>\n",
              "      <td>-11.9283</td>\n",
              "      <td>-61.9953</td>\n",
              "      <td>91.523208</td>\n",
              "      <td>RO</td>\n",
              "    </tr>\n",
              "    <tr>\n",
              "      <th>...</th>\n",
              "      <td>...</td>\n",
              "      <td>...</td>\n",
              "      <td>...</td>\n",
              "      <td>...</td>\n",
              "      <td>...</td>\n",
              "      <td>...</td>\n",
              "      <td>...</td>\n",
              "      <td>...</td>\n",
              "      <td>...</td>\n",
              "    </tr>\n",
              "    <tr>\n",
              "      <th>71297</th>\n",
              "      <td>PR</td>\n",
              "      <td>santo antonio da platina</td>\n",
              "      <td>13/08/2020</td>\n",
              "      <td>1</td>\n",
              "      <td>1</td>\n",
              "      <td>-23.2959</td>\n",
              "      <td>-50.0815</td>\n",
              "      <td>143.500098</td>\n",
              "      <td>PR</td>\n",
              "    </tr>\n",
              "    <tr>\n",
              "      <th>71298</th>\n",
              "      <td>PR</td>\n",
              "      <td>santo antonio da platina</td>\n",
              "      <td>30/09/2020</td>\n",
              "      <td>2</td>\n",
              "      <td>1</td>\n",
              "      <td>-23.2959</td>\n",
              "      <td>-50.0815</td>\n",
              "      <td>143.500098</td>\n",
              "      <td>PR</td>\n",
              "    </tr>\n",
              "    <tr>\n",
              "      <th>71299</th>\n",
              "      <td>PR</td>\n",
              "      <td>santo antonio da platina</td>\n",
              "      <td>19/11/2020</td>\n",
              "      <td>24</td>\n",
              "      <td>1</td>\n",
              "      <td>-23.2959</td>\n",
              "      <td>-50.0815</td>\n",
              "      <td>143.500098</td>\n",
              "      <td>PR</td>\n",
              "    </tr>\n",
              "    <tr>\n",
              "      <th>71300</th>\n",
              "      <td>PR</td>\n",
              "      <td>santo antonio do caiua</td>\n",
              "      <td>23/04/2020</td>\n",
              "      <td>1</td>\n",
              "      <td>1</td>\n",
              "      <td>-22.7351</td>\n",
              "      <td>-52.3440</td>\n",
              "      <td>0.000000</td>\n",
              "      <td>PR</td>\n",
              "    </tr>\n",
              "    <tr>\n",
              "      <th>71301</th>\n",
              "      <td>PR</td>\n",
              "      <td>santo antonio do sudoeste</td>\n",
              "      <td>12/07/2020</td>\n",
              "      <td>4</td>\n",
              "      <td>1</td>\n",
              "      <td>-26.0737</td>\n",
              "      <td>-53.7251</td>\n",
              "      <td>49.588416</td>\n",
              "      <td>PR</td>\n",
              "    </tr>\n",
              "  </tbody>\n",
              "</table>\n",
              "<p>71302 rows × 9 columns</p>\n",
              "</div>"
            ],
            "text/plain": [
              "      estado_x                  municipio  ... medicosCemMil  estado_y\n",
              "0           RO      alta floresta d oeste  ...     91.523208        RO\n",
              "1           RO      alta floresta d oeste  ...     91.523208        RO\n",
              "2           RO      alta floresta d oeste  ...     91.523208        RO\n",
              "3           RO      alta floresta d oeste  ...     91.523208        RO\n",
              "4           RO      alta floresta d oeste  ...     91.523208        RO\n",
              "...        ...                        ...  ...           ...       ...\n",
              "71297       PR   santo antonio da platina  ...    143.500098        PR\n",
              "71298       PR   santo antonio da platina  ...    143.500098        PR\n",
              "71299       PR   santo antonio da platina  ...    143.500098        PR\n",
              "71300       PR     santo antonio do caiua  ...      0.000000        PR\n",
              "71301       PR  santo antonio do sudoeste  ...     49.588416        PR\n",
              "\n",
              "[71302 rows x 9 columns]"
            ]
          },
          "metadata": {
            "tags": []
          },
          "execution_count": 295
        }
      ]
    },
    {
      "cell_type": "code",
      "metadata": {
        "colab": {
          "base_uri": "https://localhost:8080/"
        },
        "id": "7pT2U46pkMUX",
        "outputId": "1cc5b4d5-a7ae-4ae8-abae-ca09fb7daf0a"
      },
      "source": [
        "df_covid['medicosCemMil'].isna().sum()"
      ],
      "execution_count": 296,
      "outputs": [
        {
          "output_type": "execute_result",
          "data": {
            "text/plain": [
              "0"
            ]
          },
          "metadata": {
            "tags": []
          },
          "execution_count": 296
        }
      ]
    },
    {
      "cell_type": "code",
      "metadata": {
        "id": "n0Ezle_qkMbW"
      },
      "source": [
        ""
      ],
      "execution_count": 296,
      "outputs": []
    },
    {
      "cell_type": "code",
      "metadata": {
        "colab": {
          "base_uri": "https://localhost:8080/"
        },
        "id": "OoXep_MGNhFV",
        "outputId": "144ba68c-10ab-4f81-ca40-dacd70fd6639"
      },
      "source": [
        "df_covid.isna().sum()"
      ],
      "execution_count": 297,
      "outputs": [
        {
          "output_type": "execute_result",
          "data": {
            "text/plain": [
              "estado_x         0\n",
              "municipio        0\n",
              "data             0\n",
              "casos            0\n",
              "obitos           0\n",
              "lat              0\n",
              "long             0\n",
              "medicosCemMil    0\n",
              "estado_y         0\n",
              "dtype: int64"
            ]
          },
          "metadata": {
            "tags": []
          },
          "execution_count": 297
        }
      ]
    },
    {
      "cell_type": "code",
      "metadata": {
        "id": "NJZ8beGUkZgh"
      },
      "source": [
        "df_covid.dropna(inplace=True)"
      ],
      "execution_count": 298,
      "outputs": []
    },
    {
      "cell_type": "code",
      "metadata": {
        "id": "Gqb0NehPkZr9"
      },
      "source": [
        ""
      ],
      "execution_count": 298,
      "outputs": []
    },
    {
      "cell_type": "code",
      "metadata": {
        "colab": {
          "base_uri": "https://localhost:8080/",
          "height": 402
        },
        "id": "VnJ33G4zNhJG",
        "outputId": "fffb7de2-75c2-4119-befe-983620fd0509"
      },
      "source": [
        "df_covid"
      ],
      "execution_count": 299,
      "outputs": [
        {
          "output_type": "execute_result",
          "data": {
            "text/html": [
              "<div>\n",
              "<style scoped>\n",
              "    .dataframe tbody tr th:only-of-type {\n",
              "        vertical-align: middle;\n",
              "    }\n",
              "\n",
              "    .dataframe tbody tr th {\n",
              "        vertical-align: top;\n",
              "    }\n",
              "\n",
              "    .dataframe thead th {\n",
              "        text-align: right;\n",
              "    }\n",
              "</style>\n",
              "<table border=\"1\" class=\"dataframe\">\n",
              "  <thead>\n",
              "    <tr style=\"text-align: right;\">\n",
              "      <th></th>\n",
              "      <th>estado_x</th>\n",
              "      <th>municipio</th>\n",
              "      <th>data</th>\n",
              "      <th>casos</th>\n",
              "      <th>obitos</th>\n",
              "      <th>lat</th>\n",
              "      <th>long</th>\n",
              "      <th>medicosCemMil</th>\n",
              "      <th>estado_y</th>\n",
              "    </tr>\n",
              "  </thead>\n",
              "  <tbody>\n",
              "    <tr>\n",
              "      <th>0</th>\n",
              "      <td>RO</td>\n",
              "      <td>alta floresta d oeste</td>\n",
              "      <td>13/07/2020</td>\n",
              "      <td>1</td>\n",
              "      <td>1</td>\n",
              "      <td>-11.9283</td>\n",
              "      <td>-61.9953</td>\n",
              "      <td>91.523208</td>\n",
              "      <td>RO</td>\n",
              "    </tr>\n",
              "    <tr>\n",
              "      <th>1</th>\n",
              "      <td>RO</td>\n",
              "      <td>alta floresta d oeste</td>\n",
              "      <td>29/07/2020</td>\n",
              "      <td>18</td>\n",
              "      <td>1</td>\n",
              "      <td>-11.9283</td>\n",
              "      <td>-61.9953</td>\n",
              "      <td>91.523208</td>\n",
              "      <td>RO</td>\n",
              "    </tr>\n",
              "    <tr>\n",
              "      <th>2</th>\n",
              "      <td>RO</td>\n",
              "      <td>alta floresta d oeste</td>\n",
              "      <td>05/08/2020</td>\n",
              "      <td>8</td>\n",
              "      <td>1</td>\n",
              "      <td>-11.9283</td>\n",
              "      <td>-61.9953</td>\n",
              "      <td>91.523208</td>\n",
              "      <td>RO</td>\n",
              "    </tr>\n",
              "    <tr>\n",
              "      <th>3</th>\n",
              "      <td>RO</td>\n",
              "      <td>alta floresta d oeste</td>\n",
              "      <td>13/08/2020</td>\n",
              "      <td>1</td>\n",
              "      <td>1</td>\n",
              "      <td>-11.9283</td>\n",
              "      <td>-61.9953</td>\n",
              "      <td>91.523208</td>\n",
              "      <td>RO</td>\n",
              "    </tr>\n",
              "    <tr>\n",
              "      <th>4</th>\n",
              "      <td>RO</td>\n",
              "      <td>alta floresta d oeste</td>\n",
              "      <td>18/08/2020</td>\n",
              "      <td>3</td>\n",
              "      <td>1</td>\n",
              "      <td>-11.9283</td>\n",
              "      <td>-61.9953</td>\n",
              "      <td>91.523208</td>\n",
              "      <td>RO</td>\n",
              "    </tr>\n",
              "    <tr>\n",
              "      <th>...</th>\n",
              "      <td>...</td>\n",
              "      <td>...</td>\n",
              "      <td>...</td>\n",
              "      <td>...</td>\n",
              "      <td>...</td>\n",
              "      <td>...</td>\n",
              "      <td>...</td>\n",
              "      <td>...</td>\n",
              "      <td>...</td>\n",
              "    </tr>\n",
              "    <tr>\n",
              "      <th>71297</th>\n",
              "      <td>PR</td>\n",
              "      <td>santo antonio da platina</td>\n",
              "      <td>13/08/2020</td>\n",
              "      <td>1</td>\n",
              "      <td>1</td>\n",
              "      <td>-23.2959</td>\n",
              "      <td>-50.0815</td>\n",
              "      <td>143.500098</td>\n",
              "      <td>PR</td>\n",
              "    </tr>\n",
              "    <tr>\n",
              "      <th>71298</th>\n",
              "      <td>PR</td>\n",
              "      <td>santo antonio da platina</td>\n",
              "      <td>30/09/2020</td>\n",
              "      <td>2</td>\n",
              "      <td>1</td>\n",
              "      <td>-23.2959</td>\n",
              "      <td>-50.0815</td>\n",
              "      <td>143.500098</td>\n",
              "      <td>PR</td>\n",
              "    </tr>\n",
              "    <tr>\n",
              "      <th>71299</th>\n",
              "      <td>PR</td>\n",
              "      <td>santo antonio da platina</td>\n",
              "      <td>19/11/2020</td>\n",
              "      <td>24</td>\n",
              "      <td>1</td>\n",
              "      <td>-23.2959</td>\n",
              "      <td>-50.0815</td>\n",
              "      <td>143.500098</td>\n",
              "      <td>PR</td>\n",
              "    </tr>\n",
              "    <tr>\n",
              "      <th>71300</th>\n",
              "      <td>PR</td>\n",
              "      <td>santo antonio do caiua</td>\n",
              "      <td>23/04/2020</td>\n",
              "      <td>1</td>\n",
              "      <td>1</td>\n",
              "      <td>-22.7351</td>\n",
              "      <td>-52.3440</td>\n",
              "      <td>0.000000</td>\n",
              "      <td>PR</td>\n",
              "    </tr>\n",
              "    <tr>\n",
              "      <th>71301</th>\n",
              "      <td>PR</td>\n",
              "      <td>santo antonio do sudoeste</td>\n",
              "      <td>12/07/2020</td>\n",
              "      <td>4</td>\n",
              "      <td>1</td>\n",
              "      <td>-26.0737</td>\n",
              "      <td>-53.7251</td>\n",
              "      <td>49.588416</td>\n",
              "      <td>PR</td>\n",
              "    </tr>\n",
              "  </tbody>\n",
              "</table>\n",
              "<p>71302 rows × 9 columns</p>\n",
              "</div>"
            ],
            "text/plain": [
              "      estado_x                  municipio  ... medicosCemMil  estado_y\n",
              "0           RO      alta floresta d oeste  ...     91.523208        RO\n",
              "1           RO      alta floresta d oeste  ...     91.523208        RO\n",
              "2           RO      alta floresta d oeste  ...     91.523208        RO\n",
              "3           RO      alta floresta d oeste  ...     91.523208        RO\n",
              "4           RO      alta floresta d oeste  ...     91.523208        RO\n",
              "...        ...                        ...  ...           ...       ...\n",
              "71297       PR   santo antonio da platina  ...    143.500098        PR\n",
              "71298       PR   santo antonio da platina  ...    143.500098        PR\n",
              "71299       PR   santo antonio da platina  ...    143.500098        PR\n",
              "71300       PR     santo antonio do caiua  ...      0.000000        PR\n",
              "71301       PR  santo antonio do sudoeste  ...     49.588416        PR\n",
              "\n",
              "[71302 rows x 9 columns]"
            ]
          },
          "metadata": {
            "tags": []
          },
          "execution_count": 299
        }
      ]
    },
    {
      "cell_type": "code",
      "metadata": {
        "id": "ttBBa8CoNhMZ"
      },
      "source": [
        "df_covid.drop('estado_y', axis=1, inplace=True)"
      ],
      "execution_count": 300,
      "outputs": []
    },
    {
      "cell_type": "code",
      "metadata": {
        "id": "6wVlLGWkZ_66"
      },
      "source": [
        "df_covid.rename(columns={'estado_x':'estado'}, inplace=True)"
      ],
      "execution_count": 301,
      "outputs": []
    },
    {
      "cell_type": "code",
      "metadata": {
        "id": "_czw9qJTkj1i"
      },
      "source": [
        "df_covid.dropna(inplace=True)"
      ],
      "execution_count": 302,
      "outputs": []
    },
    {
      "cell_type": "code",
      "metadata": {
        "id": "CHBKkR68kvJz"
      },
      "source": [
        ""
      ],
      "execution_count": 302,
      "outputs": []
    },
    {
      "cell_type": "code",
      "metadata": {
        "colab": {
          "base_uri": "https://localhost:8080/",
          "height": 402
        },
        "id": "DUMqNkr3So3D",
        "outputId": "abe1eae2-f9fd-4701-d7e6-c948b7f76031"
      },
      "source": [
        "df_covid"
      ],
      "execution_count": 303,
      "outputs": [
        {
          "output_type": "execute_result",
          "data": {
            "text/html": [
              "<div>\n",
              "<style scoped>\n",
              "    .dataframe tbody tr th:only-of-type {\n",
              "        vertical-align: middle;\n",
              "    }\n",
              "\n",
              "    .dataframe tbody tr th {\n",
              "        vertical-align: top;\n",
              "    }\n",
              "\n",
              "    .dataframe thead th {\n",
              "        text-align: right;\n",
              "    }\n",
              "</style>\n",
              "<table border=\"1\" class=\"dataframe\">\n",
              "  <thead>\n",
              "    <tr style=\"text-align: right;\">\n",
              "      <th></th>\n",
              "      <th>estado</th>\n",
              "      <th>municipio</th>\n",
              "      <th>data</th>\n",
              "      <th>casos</th>\n",
              "      <th>obitos</th>\n",
              "      <th>lat</th>\n",
              "      <th>long</th>\n",
              "      <th>medicosCemMil</th>\n",
              "    </tr>\n",
              "  </thead>\n",
              "  <tbody>\n",
              "    <tr>\n",
              "      <th>0</th>\n",
              "      <td>RO</td>\n",
              "      <td>alta floresta d oeste</td>\n",
              "      <td>13/07/2020</td>\n",
              "      <td>1</td>\n",
              "      <td>1</td>\n",
              "      <td>-11.9283</td>\n",
              "      <td>-61.9953</td>\n",
              "      <td>91.523208</td>\n",
              "    </tr>\n",
              "    <tr>\n",
              "      <th>1</th>\n",
              "      <td>RO</td>\n",
              "      <td>alta floresta d oeste</td>\n",
              "      <td>29/07/2020</td>\n",
              "      <td>18</td>\n",
              "      <td>1</td>\n",
              "      <td>-11.9283</td>\n",
              "      <td>-61.9953</td>\n",
              "      <td>91.523208</td>\n",
              "    </tr>\n",
              "    <tr>\n",
              "      <th>2</th>\n",
              "      <td>RO</td>\n",
              "      <td>alta floresta d oeste</td>\n",
              "      <td>05/08/2020</td>\n",
              "      <td>8</td>\n",
              "      <td>1</td>\n",
              "      <td>-11.9283</td>\n",
              "      <td>-61.9953</td>\n",
              "      <td>91.523208</td>\n",
              "    </tr>\n",
              "    <tr>\n",
              "      <th>3</th>\n",
              "      <td>RO</td>\n",
              "      <td>alta floresta d oeste</td>\n",
              "      <td>13/08/2020</td>\n",
              "      <td>1</td>\n",
              "      <td>1</td>\n",
              "      <td>-11.9283</td>\n",
              "      <td>-61.9953</td>\n",
              "      <td>91.523208</td>\n",
              "    </tr>\n",
              "    <tr>\n",
              "      <th>4</th>\n",
              "      <td>RO</td>\n",
              "      <td>alta floresta d oeste</td>\n",
              "      <td>18/08/2020</td>\n",
              "      <td>3</td>\n",
              "      <td>1</td>\n",
              "      <td>-11.9283</td>\n",
              "      <td>-61.9953</td>\n",
              "      <td>91.523208</td>\n",
              "    </tr>\n",
              "    <tr>\n",
              "      <th>...</th>\n",
              "      <td>...</td>\n",
              "      <td>...</td>\n",
              "      <td>...</td>\n",
              "      <td>...</td>\n",
              "      <td>...</td>\n",
              "      <td>...</td>\n",
              "      <td>...</td>\n",
              "      <td>...</td>\n",
              "    </tr>\n",
              "    <tr>\n",
              "      <th>71297</th>\n",
              "      <td>PR</td>\n",
              "      <td>santo antonio da platina</td>\n",
              "      <td>13/08/2020</td>\n",
              "      <td>1</td>\n",
              "      <td>1</td>\n",
              "      <td>-23.2959</td>\n",
              "      <td>-50.0815</td>\n",
              "      <td>143.500098</td>\n",
              "    </tr>\n",
              "    <tr>\n",
              "      <th>71298</th>\n",
              "      <td>PR</td>\n",
              "      <td>santo antonio da platina</td>\n",
              "      <td>30/09/2020</td>\n",
              "      <td>2</td>\n",
              "      <td>1</td>\n",
              "      <td>-23.2959</td>\n",
              "      <td>-50.0815</td>\n",
              "      <td>143.500098</td>\n",
              "    </tr>\n",
              "    <tr>\n",
              "      <th>71299</th>\n",
              "      <td>PR</td>\n",
              "      <td>santo antonio da platina</td>\n",
              "      <td>19/11/2020</td>\n",
              "      <td>24</td>\n",
              "      <td>1</td>\n",
              "      <td>-23.2959</td>\n",
              "      <td>-50.0815</td>\n",
              "      <td>143.500098</td>\n",
              "    </tr>\n",
              "    <tr>\n",
              "      <th>71300</th>\n",
              "      <td>PR</td>\n",
              "      <td>santo antonio do caiua</td>\n",
              "      <td>23/04/2020</td>\n",
              "      <td>1</td>\n",
              "      <td>1</td>\n",
              "      <td>-22.7351</td>\n",
              "      <td>-52.3440</td>\n",
              "      <td>0.000000</td>\n",
              "    </tr>\n",
              "    <tr>\n",
              "      <th>71301</th>\n",
              "      <td>PR</td>\n",
              "      <td>santo antonio do sudoeste</td>\n",
              "      <td>12/07/2020</td>\n",
              "      <td>4</td>\n",
              "      <td>1</td>\n",
              "      <td>-26.0737</td>\n",
              "      <td>-53.7251</td>\n",
              "      <td>49.588416</td>\n",
              "    </tr>\n",
              "  </tbody>\n",
              "</table>\n",
              "<p>71302 rows × 8 columns</p>\n",
              "</div>"
            ],
            "text/plain": [
              "      estado                  municipio  ...     long  medicosCemMil\n",
              "0         RO      alta floresta d oeste  ... -61.9953      91.523208\n",
              "1         RO      alta floresta d oeste  ... -61.9953      91.523208\n",
              "2         RO      alta floresta d oeste  ... -61.9953      91.523208\n",
              "3         RO      alta floresta d oeste  ... -61.9953      91.523208\n",
              "4         RO      alta floresta d oeste  ... -61.9953      91.523208\n",
              "...      ...                        ...  ...      ...            ...\n",
              "71297     PR   santo antonio da platina  ... -50.0815     143.500098\n",
              "71298     PR   santo antonio da platina  ... -50.0815     143.500098\n",
              "71299     PR   santo antonio da platina  ... -50.0815     143.500098\n",
              "71300     PR     santo antonio do caiua  ... -52.3440       0.000000\n",
              "71301     PR  santo antonio do sudoeste  ... -53.7251      49.588416\n",
              "\n",
              "[71302 rows x 8 columns]"
            ]
          },
          "metadata": {
            "tags": []
          },
          "execution_count": 303
        }
      ]
    },
    {
      "cell_type": "code",
      "metadata": {
        "id": "zguMbzIrSpEi"
      },
      "source": [
        ""
      ],
      "execution_count": 303,
      "outputs": []
    },
    {
      "cell_type": "code",
      "metadata": {
        "colab": {
          "base_uri": "https://localhost:8080/",
          "height": 402
        },
        "id": "mykWnS2laWON",
        "outputId": "45295b13-7424-4e8f-c7ed-2d5780ff6f7c"
      },
      "source": [
        "df_pibsemesorreg"
      ],
      "execution_count": 304,
      "outputs": [
        {
          "output_type": "execute_result",
          "data": {
            "text/html": [
              "<div>\n",
              "<style scoped>\n",
              "    .dataframe tbody tr th:only-of-type {\n",
              "        vertical-align: middle;\n",
              "    }\n",
              "\n",
              "    .dataframe tbody tr th {\n",
              "        vertical-align: top;\n",
              "    }\n",
              "\n",
              "    .dataframe thead th {\n",
              "        text-align: right;\n",
              "    }\n",
              "</style>\n",
              "<table border=\"1\" class=\"dataframe\">\n",
              "  <thead>\n",
              "    <tr style=\"text-align: right;\">\n",
              "      <th></th>\n",
              "      <th>ord</th>\n",
              "      <th>regiaopais</th>\n",
              "      <th>estado</th>\n",
              "      <th>municipio</th>\n",
              "      <th>mesorregiao</th>\n",
              "      <th>pib</th>\n",
              "    </tr>\n",
              "  </thead>\n",
              "  <tbody>\n",
              "    <tr>\n",
              "      <th>0</th>\n",
              "      <td>1</td>\n",
              "      <td>Norte</td>\n",
              "      <td>RO</td>\n",
              "      <td>Alta Floresta D'Oeste</td>\n",
              "      <td>Leste Rondoniense</td>\n",
              "      <td>19611,75</td>\n",
              "    </tr>\n",
              "    <tr>\n",
              "      <th>1</th>\n",
              "      <td>2</td>\n",
              "      <td>Norte</td>\n",
              "      <td>RO</td>\n",
              "      <td>Ariquemes</td>\n",
              "      <td>Leste Rondoniense</td>\n",
              "      <td>21389,67</td>\n",
              "    </tr>\n",
              "    <tr>\n",
              "      <th>2</th>\n",
              "      <td>3</td>\n",
              "      <td>Norte</td>\n",
              "      <td>RO</td>\n",
              "      <td>Cabixi</td>\n",
              "      <td>Leste Rondoniense</td>\n",
              "      <td>22315,8</td>\n",
              "    </tr>\n",
              "    <tr>\n",
              "      <th>3</th>\n",
              "      <td>4</td>\n",
              "      <td>Norte</td>\n",
              "      <td>RO</td>\n",
              "      <td>Cacoal</td>\n",
              "      <td>Leste Rondoniense</td>\n",
              "      <td>24037,91</td>\n",
              "    </tr>\n",
              "    <tr>\n",
              "      <th>4</th>\n",
              "      <td>5</td>\n",
              "      <td>Norte</td>\n",
              "      <td>RO</td>\n",
              "      <td>Cerejeiras</td>\n",
              "      <td>Leste Rondoniense</td>\n",
              "      <td>25009,71</td>\n",
              "    </tr>\n",
              "    <tr>\n",
              "      <th>...</th>\n",
              "      <td>...</td>\n",
              "      <td>...</td>\n",
              "      <td>...</td>\n",
              "      <td>...</td>\n",
              "      <td>...</td>\n",
              "      <td>...</td>\n",
              "    </tr>\n",
              "    <tr>\n",
              "      <th>5565</th>\n",
              "      <td>5566</td>\n",
              "      <td>Centro-oeste</td>\n",
              "      <td>GO</td>\n",
              "      <td>Vianópolis</td>\n",
              "      <td>Sul Goiano</td>\n",
              "      <td>28942,36</td>\n",
              "    </tr>\n",
              "    <tr>\n",
              "      <th>5566</th>\n",
              "      <td>5567</td>\n",
              "      <td>Centro-oeste</td>\n",
              "      <td>GO</td>\n",
              "      <td>Vicentinópolis</td>\n",
              "      <td>Sul Goiano</td>\n",
              "      <td>41772,71</td>\n",
              "    </tr>\n",
              "    <tr>\n",
              "      <th>5567</th>\n",
              "      <td>5568</td>\n",
              "      <td>Centro-oeste</td>\n",
              "      <td>GO</td>\n",
              "      <td>Vila Boa</td>\n",
              "      <td>Leste Goiano</td>\n",
              "      <td>23992,38</td>\n",
              "    </tr>\n",
              "    <tr>\n",
              "      <th>5568</th>\n",
              "      <td>5569</td>\n",
              "      <td>Centro-oeste</td>\n",
              "      <td>GO</td>\n",
              "      <td>Vila Propício</td>\n",
              "      <td>Leste Goiano</td>\n",
              "      <td>32016,61</td>\n",
              "    </tr>\n",
              "    <tr>\n",
              "      <th>5569</th>\n",
              "      <td>5570</td>\n",
              "      <td>Centro-oeste</td>\n",
              "      <td>DF</td>\n",
              "      <td>Brasília</td>\n",
              "      <td>Distrito Federal</td>\n",
              "      <td>80502,47</td>\n",
              "    </tr>\n",
              "  </tbody>\n",
              "</table>\n",
              "<p>5570 rows × 6 columns</p>\n",
              "</div>"
            ],
            "text/plain": [
              "       ord    regiaopais  ...        mesorregiao       pib\n",
              "0        1         Norte  ...  Leste Rondoniense  19611,75\n",
              "1        2         Norte  ...  Leste Rondoniense  21389,67\n",
              "2        3         Norte  ...  Leste Rondoniense   22315,8\n",
              "3        4         Norte  ...  Leste Rondoniense  24037,91\n",
              "4        5         Norte  ...  Leste Rondoniense  25009,71\n",
              "...    ...           ...  ...                ...       ...\n",
              "5565  5566  Centro-oeste  ...         Sul Goiano  28942,36\n",
              "5566  5567  Centro-oeste  ...         Sul Goiano  41772,71\n",
              "5567  5568  Centro-oeste  ...       Leste Goiano  23992,38\n",
              "5568  5569  Centro-oeste  ...       Leste Goiano  32016,61\n",
              "5569  5570  Centro-oeste  ...   Distrito Federal  80502,47\n",
              "\n",
              "[5570 rows x 6 columns]"
            ]
          },
          "metadata": {
            "tags": []
          },
          "execution_count": 304
        }
      ]
    },
    {
      "cell_type": "code",
      "metadata": {
        "id": "zfB36CssaWSX"
      },
      "source": [
        "df_pibsemesorreg.drop('ord', axis =1,inplace=True)"
      ],
      "execution_count": 305,
      "outputs": []
    },
    {
      "cell_type": "code",
      "metadata": {
        "id": "dktApxjKaWXH"
      },
      "source": [
        "df_pibsemesorreg['municipio'] = df_pibsemesorreg['municipio'].str.normalize('NFKD').str.encode('ASCII', errors='ignore').str.decode('ASCII')\n",
        "df_pibsemesorreg['municipio'] = df_pibsemesorreg['municipio'].str.replace('[-,_]',' ')\n",
        "df_pibsemesorreg['municipio'] = df_pibsemesorreg['municipio'].str.replace(\"'\",' ')\n",
        "df_pibsemesorreg['municipio'] = df_pibsemesorreg['municipio'].str.lower()"
      ],
      "execution_count": 306,
      "outputs": []
    },
    {
      "cell_type": "code",
      "metadata": {
        "id": "5-QdROLXbk4z"
      },
      "source": [
        ""
      ],
      "execution_count": 306,
      "outputs": []
    },
    {
      "cell_type": "code",
      "metadata": {
        "colab": {
          "base_uri": "https://localhost:8080/",
          "height": 402
        },
        "id": "bpwG7IffblQa",
        "outputId": "222c5075-e2ce-4d17-8ac4-48e03e507c2b"
      },
      "source": [
        "df_pibsemesorreg"
      ],
      "execution_count": 307,
      "outputs": [
        {
          "output_type": "execute_result",
          "data": {
            "text/html": [
              "<div>\n",
              "<style scoped>\n",
              "    .dataframe tbody tr th:only-of-type {\n",
              "        vertical-align: middle;\n",
              "    }\n",
              "\n",
              "    .dataframe tbody tr th {\n",
              "        vertical-align: top;\n",
              "    }\n",
              "\n",
              "    .dataframe thead th {\n",
              "        text-align: right;\n",
              "    }\n",
              "</style>\n",
              "<table border=\"1\" class=\"dataframe\">\n",
              "  <thead>\n",
              "    <tr style=\"text-align: right;\">\n",
              "      <th></th>\n",
              "      <th>regiaopais</th>\n",
              "      <th>estado</th>\n",
              "      <th>municipio</th>\n",
              "      <th>mesorregiao</th>\n",
              "      <th>pib</th>\n",
              "    </tr>\n",
              "  </thead>\n",
              "  <tbody>\n",
              "    <tr>\n",
              "      <th>0</th>\n",
              "      <td>Norte</td>\n",
              "      <td>RO</td>\n",
              "      <td>alta floresta d oeste</td>\n",
              "      <td>Leste Rondoniense</td>\n",
              "      <td>19611,75</td>\n",
              "    </tr>\n",
              "    <tr>\n",
              "      <th>1</th>\n",
              "      <td>Norte</td>\n",
              "      <td>RO</td>\n",
              "      <td>ariquemes</td>\n",
              "      <td>Leste Rondoniense</td>\n",
              "      <td>21389,67</td>\n",
              "    </tr>\n",
              "    <tr>\n",
              "      <th>2</th>\n",
              "      <td>Norte</td>\n",
              "      <td>RO</td>\n",
              "      <td>cabixi</td>\n",
              "      <td>Leste Rondoniense</td>\n",
              "      <td>22315,8</td>\n",
              "    </tr>\n",
              "    <tr>\n",
              "      <th>3</th>\n",
              "      <td>Norte</td>\n",
              "      <td>RO</td>\n",
              "      <td>cacoal</td>\n",
              "      <td>Leste Rondoniense</td>\n",
              "      <td>24037,91</td>\n",
              "    </tr>\n",
              "    <tr>\n",
              "      <th>4</th>\n",
              "      <td>Norte</td>\n",
              "      <td>RO</td>\n",
              "      <td>cerejeiras</td>\n",
              "      <td>Leste Rondoniense</td>\n",
              "      <td>25009,71</td>\n",
              "    </tr>\n",
              "    <tr>\n",
              "      <th>...</th>\n",
              "      <td>...</td>\n",
              "      <td>...</td>\n",
              "      <td>...</td>\n",
              "      <td>...</td>\n",
              "      <td>...</td>\n",
              "    </tr>\n",
              "    <tr>\n",
              "      <th>5565</th>\n",
              "      <td>Centro-oeste</td>\n",
              "      <td>GO</td>\n",
              "      <td>vianopolis</td>\n",
              "      <td>Sul Goiano</td>\n",
              "      <td>28942,36</td>\n",
              "    </tr>\n",
              "    <tr>\n",
              "      <th>5566</th>\n",
              "      <td>Centro-oeste</td>\n",
              "      <td>GO</td>\n",
              "      <td>vicentinopolis</td>\n",
              "      <td>Sul Goiano</td>\n",
              "      <td>41772,71</td>\n",
              "    </tr>\n",
              "    <tr>\n",
              "      <th>5567</th>\n",
              "      <td>Centro-oeste</td>\n",
              "      <td>GO</td>\n",
              "      <td>vila boa</td>\n",
              "      <td>Leste Goiano</td>\n",
              "      <td>23992,38</td>\n",
              "    </tr>\n",
              "    <tr>\n",
              "      <th>5568</th>\n",
              "      <td>Centro-oeste</td>\n",
              "      <td>GO</td>\n",
              "      <td>vila propicio</td>\n",
              "      <td>Leste Goiano</td>\n",
              "      <td>32016,61</td>\n",
              "    </tr>\n",
              "    <tr>\n",
              "      <th>5569</th>\n",
              "      <td>Centro-oeste</td>\n",
              "      <td>DF</td>\n",
              "      <td>brasilia</td>\n",
              "      <td>Distrito Federal</td>\n",
              "      <td>80502,47</td>\n",
              "    </tr>\n",
              "  </tbody>\n",
              "</table>\n",
              "<p>5570 rows × 5 columns</p>\n",
              "</div>"
            ],
            "text/plain": [
              "        regiaopais estado              municipio        mesorregiao       pib\n",
              "0            Norte     RO  alta floresta d oeste  Leste Rondoniense  19611,75\n",
              "1            Norte     RO              ariquemes  Leste Rondoniense  21389,67\n",
              "2            Norte     RO                 cabixi  Leste Rondoniense   22315,8\n",
              "3            Norte     RO                 cacoal  Leste Rondoniense  24037,91\n",
              "4            Norte     RO             cerejeiras  Leste Rondoniense  25009,71\n",
              "...            ...    ...                    ...                ...       ...\n",
              "5565  Centro-oeste     GO             vianopolis         Sul Goiano  28942,36\n",
              "5566  Centro-oeste     GO         vicentinopolis         Sul Goiano  41772,71\n",
              "5567  Centro-oeste     GO               vila boa       Leste Goiano  23992,38\n",
              "5568  Centro-oeste     GO          vila propicio       Leste Goiano  32016,61\n",
              "5569  Centro-oeste     DF               brasilia   Distrito Federal  80502,47\n",
              "\n",
              "[5570 rows x 5 columns]"
            ]
          },
          "metadata": {
            "tags": []
          },
          "execution_count": 307
        }
      ]
    },
    {
      "cell_type": "code",
      "metadata": {
        "id": "PNB8mIE6byou"
      },
      "source": [
        ""
      ],
      "execution_count": 307,
      "outputs": []
    },
    {
      "cell_type": "code",
      "metadata": {
        "id": "UQUKJh9nZvlp"
      },
      "source": [
        "df_covid = pd.merge(df_covid, df_pibsemesorreg,on='municipio', how='inner')"
      ],
      "execution_count": 308,
      "outputs": []
    },
    {
      "cell_type": "code",
      "metadata": {
        "colab": {
          "base_uri": "https://localhost:8080/",
          "height": 402
        },
        "id": "n0nPVTVdZvuj",
        "outputId": "e31eb1a3-c1f6-4696-9488-f8509bc4524c"
      },
      "source": [
        "df_covid"
      ],
      "execution_count": 309,
      "outputs": [
        {
          "output_type": "execute_result",
          "data": {
            "text/html": [
              "<div>\n",
              "<style scoped>\n",
              "    .dataframe tbody tr th:only-of-type {\n",
              "        vertical-align: middle;\n",
              "    }\n",
              "\n",
              "    .dataframe tbody tr th {\n",
              "        vertical-align: top;\n",
              "    }\n",
              "\n",
              "    .dataframe thead th {\n",
              "        text-align: right;\n",
              "    }\n",
              "</style>\n",
              "<table border=\"1\" class=\"dataframe\">\n",
              "  <thead>\n",
              "    <tr style=\"text-align: right;\">\n",
              "      <th></th>\n",
              "      <th>estado_x</th>\n",
              "      <th>municipio</th>\n",
              "      <th>data</th>\n",
              "      <th>casos</th>\n",
              "      <th>obitos</th>\n",
              "      <th>lat</th>\n",
              "      <th>long</th>\n",
              "      <th>medicosCemMil</th>\n",
              "      <th>regiaopais</th>\n",
              "      <th>estado_y</th>\n",
              "      <th>mesorregiao</th>\n",
              "      <th>pib</th>\n",
              "    </tr>\n",
              "  </thead>\n",
              "  <tbody>\n",
              "    <tr>\n",
              "      <th>0</th>\n",
              "      <td>RO</td>\n",
              "      <td>alta floresta d oeste</td>\n",
              "      <td>13/07/2020</td>\n",
              "      <td>1</td>\n",
              "      <td>1</td>\n",
              "      <td>-11.9283</td>\n",
              "      <td>-61.9953</td>\n",
              "      <td>91.523208</td>\n",
              "      <td>Norte</td>\n",
              "      <td>RO</td>\n",
              "      <td>Leste Rondoniense</td>\n",
              "      <td>19611,75</td>\n",
              "    </tr>\n",
              "    <tr>\n",
              "      <th>1</th>\n",
              "      <td>RO</td>\n",
              "      <td>alta floresta d oeste</td>\n",
              "      <td>29/07/2020</td>\n",
              "      <td>18</td>\n",
              "      <td>1</td>\n",
              "      <td>-11.9283</td>\n",
              "      <td>-61.9953</td>\n",
              "      <td>91.523208</td>\n",
              "      <td>Norte</td>\n",
              "      <td>RO</td>\n",
              "      <td>Leste Rondoniense</td>\n",
              "      <td>19611,75</td>\n",
              "    </tr>\n",
              "    <tr>\n",
              "      <th>2</th>\n",
              "      <td>RO</td>\n",
              "      <td>alta floresta d oeste</td>\n",
              "      <td>05/08/2020</td>\n",
              "      <td>8</td>\n",
              "      <td>1</td>\n",
              "      <td>-11.9283</td>\n",
              "      <td>-61.9953</td>\n",
              "      <td>91.523208</td>\n",
              "      <td>Norte</td>\n",
              "      <td>RO</td>\n",
              "      <td>Leste Rondoniense</td>\n",
              "      <td>19611,75</td>\n",
              "    </tr>\n",
              "    <tr>\n",
              "      <th>3</th>\n",
              "      <td>RO</td>\n",
              "      <td>alta floresta d oeste</td>\n",
              "      <td>13/08/2020</td>\n",
              "      <td>1</td>\n",
              "      <td>1</td>\n",
              "      <td>-11.9283</td>\n",
              "      <td>-61.9953</td>\n",
              "      <td>91.523208</td>\n",
              "      <td>Norte</td>\n",
              "      <td>RO</td>\n",
              "      <td>Leste Rondoniense</td>\n",
              "      <td>19611,75</td>\n",
              "    </tr>\n",
              "    <tr>\n",
              "      <th>4</th>\n",
              "      <td>RO</td>\n",
              "      <td>alta floresta d oeste</td>\n",
              "      <td>18/08/2020</td>\n",
              "      <td>3</td>\n",
              "      <td>1</td>\n",
              "      <td>-11.9283</td>\n",
              "      <td>-61.9953</td>\n",
              "      <td>91.523208</td>\n",
              "      <td>Norte</td>\n",
              "      <td>RO</td>\n",
              "      <td>Leste Rondoniense</td>\n",
              "      <td>19611,75</td>\n",
              "    </tr>\n",
              "    <tr>\n",
              "      <th>...</th>\n",
              "      <td>...</td>\n",
              "      <td>...</td>\n",
              "      <td>...</td>\n",
              "      <td>...</td>\n",
              "      <td>...</td>\n",
              "      <td>...</td>\n",
              "      <td>...</td>\n",
              "      <td>...</td>\n",
              "      <td>...</td>\n",
              "      <td>...</td>\n",
              "      <td>...</td>\n",
              "      <td>...</td>\n",
              "    </tr>\n",
              "    <tr>\n",
              "      <th>110797</th>\n",
              "      <td>PR</td>\n",
              "      <td>santo antonio da platina</td>\n",
              "      <td>13/08/2020</td>\n",
              "      <td>1</td>\n",
              "      <td>1</td>\n",
              "      <td>-23.2959</td>\n",
              "      <td>-50.0815</td>\n",
              "      <td>143.500098</td>\n",
              "      <td>Sul</td>\n",
              "      <td>PR</td>\n",
              "      <td>Norte Pioneiro Paranaense</td>\n",
              "      <td>24910,49</td>\n",
              "    </tr>\n",
              "    <tr>\n",
              "      <th>110798</th>\n",
              "      <td>PR</td>\n",
              "      <td>santo antonio da platina</td>\n",
              "      <td>30/09/2020</td>\n",
              "      <td>2</td>\n",
              "      <td>1</td>\n",
              "      <td>-23.2959</td>\n",
              "      <td>-50.0815</td>\n",
              "      <td>143.500098</td>\n",
              "      <td>Sul</td>\n",
              "      <td>PR</td>\n",
              "      <td>Norte Pioneiro Paranaense</td>\n",
              "      <td>24910,49</td>\n",
              "    </tr>\n",
              "    <tr>\n",
              "      <th>110799</th>\n",
              "      <td>PR</td>\n",
              "      <td>santo antonio da platina</td>\n",
              "      <td>19/11/2020</td>\n",
              "      <td>24</td>\n",
              "      <td>1</td>\n",
              "      <td>-23.2959</td>\n",
              "      <td>-50.0815</td>\n",
              "      <td>143.500098</td>\n",
              "      <td>Sul</td>\n",
              "      <td>PR</td>\n",
              "      <td>Norte Pioneiro Paranaense</td>\n",
              "      <td>24910,49</td>\n",
              "    </tr>\n",
              "    <tr>\n",
              "      <th>110800</th>\n",
              "      <td>PR</td>\n",
              "      <td>santo antonio do caiua</td>\n",
              "      <td>23/04/2020</td>\n",
              "      <td>1</td>\n",
              "      <td>1</td>\n",
              "      <td>-22.7351</td>\n",
              "      <td>-52.3440</td>\n",
              "      <td>0.000000</td>\n",
              "      <td>Sul</td>\n",
              "      <td>PR</td>\n",
              "      <td>Noroeste Paranaense</td>\n",
              "      <td>19129,99</td>\n",
              "    </tr>\n",
              "    <tr>\n",
              "      <th>110801</th>\n",
              "      <td>PR</td>\n",
              "      <td>santo antonio do sudoeste</td>\n",
              "      <td>12/07/2020</td>\n",
              "      <td>4</td>\n",
              "      <td>1</td>\n",
              "      <td>-26.0737</td>\n",
              "      <td>-53.7251</td>\n",
              "      <td>49.588416</td>\n",
              "      <td>Sul</td>\n",
              "      <td>PR</td>\n",
              "      <td>Sudoeste Paranaense</td>\n",
              "      <td>25160,4</td>\n",
              "    </tr>\n",
              "  </tbody>\n",
              "</table>\n",
              "<p>110802 rows × 12 columns</p>\n",
              "</div>"
            ],
            "text/plain": [
              "       estado_x                  municipio  ...                mesorregiao       pib\n",
              "0            RO      alta floresta d oeste  ...          Leste Rondoniense  19611,75\n",
              "1            RO      alta floresta d oeste  ...          Leste Rondoniense  19611,75\n",
              "2            RO      alta floresta d oeste  ...          Leste Rondoniense  19611,75\n",
              "3            RO      alta floresta d oeste  ...          Leste Rondoniense  19611,75\n",
              "4            RO      alta floresta d oeste  ...          Leste Rondoniense  19611,75\n",
              "...         ...                        ...  ...                        ...       ...\n",
              "110797       PR   santo antonio da platina  ...  Norte Pioneiro Paranaense  24910,49\n",
              "110798       PR   santo antonio da platina  ...  Norte Pioneiro Paranaense  24910,49\n",
              "110799       PR   santo antonio da platina  ...  Norte Pioneiro Paranaense  24910,49\n",
              "110800       PR     santo antonio do caiua  ...        Noroeste Paranaense  19129,99\n",
              "110801       PR  santo antonio do sudoeste  ...        Sudoeste Paranaense   25160,4\n",
              "\n",
              "[110802 rows x 12 columns]"
            ]
          },
          "metadata": {
            "tags": []
          },
          "execution_count": 309
        }
      ]
    },
    {
      "cell_type": "code",
      "metadata": {
        "id": "YEmNV4dVZvj2",
        "colab": {
          "base_uri": "https://localhost:8080/"
        },
        "outputId": "ab9a6864-040a-45c8-8d8a-85cd8bedf920"
      },
      "source": [
        "df_covid.isna().sum()"
      ],
      "execution_count": 310,
      "outputs": [
        {
          "output_type": "execute_result",
          "data": {
            "text/plain": [
              "estado_x         0\n",
              "municipio        0\n",
              "data             0\n",
              "casos            0\n",
              "obitos           0\n",
              "lat              0\n",
              "long             0\n",
              "medicosCemMil    0\n",
              "regiaopais       0\n",
              "estado_y         0\n",
              "mesorregiao      0\n",
              "pib              0\n",
              "dtype: int64"
            ]
          },
          "metadata": {
            "tags": []
          },
          "execution_count": 310
        }
      ]
    },
    {
      "cell_type": "code",
      "metadata": {
        "id": "lMFjlPX-bGqy"
      },
      "source": [
        ""
      ],
      "execution_count": 310,
      "outputs": []
    },
    {
      "cell_type": "code",
      "metadata": {
        "id": "m7UoeY6dIhyY"
      },
      "source": [
        ""
      ],
      "execution_count": 310,
      "outputs": []
    },
    {
      "cell_type": "code",
      "metadata": {
        "id": "aTycRlBvIlqq"
      },
      "source": [
        "df_covid.rename(columns={'estado_x':'estado'}, inplace=True)"
      ],
      "execution_count": 311,
      "outputs": []
    },
    {
      "cell_type": "code",
      "metadata": {
        "id": "efAKw5TMIluV"
      },
      "source": [
        "df_covid.drop('estado_y', inplace=True, axis=1)"
      ],
      "execution_count": 312,
      "outputs": []
    },
    {
      "cell_type": "code",
      "metadata": {
        "colab": {
          "base_uri": "https://localhost:8080/",
          "height": 402
        },
        "id": "XG6hnz4OIlxg",
        "outputId": "5b221633-0e44-45aa-cf6b-8e4e2633c193"
      },
      "source": [
        "df_covid"
      ],
      "execution_count": 313,
      "outputs": [
        {
          "output_type": "execute_result",
          "data": {
            "text/html": [
              "<div>\n",
              "<style scoped>\n",
              "    .dataframe tbody tr th:only-of-type {\n",
              "        vertical-align: middle;\n",
              "    }\n",
              "\n",
              "    .dataframe tbody tr th {\n",
              "        vertical-align: top;\n",
              "    }\n",
              "\n",
              "    .dataframe thead th {\n",
              "        text-align: right;\n",
              "    }\n",
              "</style>\n",
              "<table border=\"1\" class=\"dataframe\">\n",
              "  <thead>\n",
              "    <tr style=\"text-align: right;\">\n",
              "      <th></th>\n",
              "      <th>estado</th>\n",
              "      <th>municipio</th>\n",
              "      <th>data</th>\n",
              "      <th>casos</th>\n",
              "      <th>obitos</th>\n",
              "      <th>lat</th>\n",
              "      <th>long</th>\n",
              "      <th>medicosCemMil</th>\n",
              "      <th>regiaopais</th>\n",
              "      <th>mesorregiao</th>\n",
              "      <th>pib</th>\n",
              "    </tr>\n",
              "  </thead>\n",
              "  <tbody>\n",
              "    <tr>\n",
              "      <th>0</th>\n",
              "      <td>RO</td>\n",
              "      <td>alta floresta d oeste</td>\n",
              "      <td>13/07/2020</td>\n",
              "      <td>1</td>\n",
              "      <td>1</td>\n",
              "      <td>-11.9283</td>\n",
              "      <td>-61.9953</td>\n",
              "      <td>91.523208</td>\n",
              "      <td>Norte</td>\n",
              "      <td>Leste Rondoniense</td>\n",
              "      <td>19611,75</td>\n",
              "    </tr>\n",
              "    <tr>\n",
              "      <th>1</th>\n",
              "      <td>RO</td>\n",
              "      <td>alta floresta d oeste</td>\n",
              "      <td>29/07/2020</td>\n",
              "      <td>18</td>\n",
              "      <td>1</td>\n",
              "      <td>-11.9283</td>\n",
              "      <td>-61.9953</td>\n",
              "      <td>91.523208</td>\n",
              "      <td>Norte</td>\n",
              "      <td>Leste Rondoniense</td>\n",
              "      <td>19611,75</td>\n",
              "    </tr>\n",
              "    <tr>\n",
              "      <th>2</th>\n",
              "      <td>RO</td>\n",
              "      <td>alta floresta d oeste</td>\n",
              "      <td>05/08/2020</td>\n",
              "      <td>8</td>\n",
              "      <td>1</td>\n",
              "      <td>-11.9283</td>\n",
              "      <td>-61.9953</td>\n",
              "      <td>91.523208</td>\n",
              "      <td>Norte</td>\n",
              "      <td>Leste Rondoniense</td>\n",
              "      <td>19611,75</td>\n",
              "    </tr>\n",
              "    <tr>\n",
              "      <th>3</th>\n",
              "      <td>RO</td>\n",
              "      <td>alta floresta d oeste</td>\n",
              "      <td>13/08/2020</td>\n",
              "      <td>1</td>\n",
              "      <td>1</td>\n",
              "      <td>-11.9283</td>\n",
              "      <td>-61.9953</td>\n",
              "      <td>91.523208</td>\n",
              "      <td>Norte</td>\n",
              "      <td>Leste Rondoniense</td>\n",
              "      <td>19611,75</td>\n",
              "    </tr>\n",
              "    <tr>\n",
              "      <th>4</th>\n",
              "      <td>RO</td>\n",
              "      <td>alta floresta d oeste</td>\n",
              "      <td>18/08/2020</td>\n",
              "      <td>3</td>\n",
              "      <td>1</td>\n",
              "      <td>-11.9283</td>\n",
              "      <td>-61.9953</td>\n",
              "      <td>91.523208</td>\n",
              "      <td>Norte</td>\n",
              "      <td>Leste Rondoniense</td>\n",
              "      <td>19611,75</td>\n",
              "    </tr>\n",
              "    <tr>\n",
              "      <th>...</th>\n",
              "      <td>...</td>\n",
              "      <td>...</td>\n",
              "      <td>...</td>\n",
              "      <td>...</td>\n",
              "      <td>...</td>\n",
              "      <td>...</td>\n",
              "      <td>...</td>\n",
              "      <td>...</td>\n",
              "      <td>...</td>\n",
              "      <td>...</td>\n",
              "      <td>...</td>\n",
              "    </tr>\n",
              "    <tr>\n",
              "      <th>110797</th>\n",
              "      <td>PR</td>\n",
              "      <td>santo antonio da platina</td>\n",
              "      <td>13/08/2020</td>\n",
              "      <td>1</td>\n",
              "      <td>1</td>\n",
              "      <td>-23.2959</td>\n",
              "      <td>-50.0815</td>\n",
              "      <td>143.500098</td>\n",
              "      <td>Sul</td>\n",
              "      <td>Norte Pioneiro Paranaense</td>\n",
              "      <td>24910,49</td>\n",
              "    </tr>\n",
              "    <tr>\n",
              "      <th>110798</th>\n",
              "      <td>PR</td>\n",
              "      <td>santo antonio da platina</td>\n",
              "      <td>30/09/2020</td>\n",
              "      <td>2</td>\n",
              "      <td>1</td>\n",
              "      <td>-23.2959</td>\n",
              "      <td>-50.0815</td>\n",
              "      <td>143.500098</td>\n",
              "      <td>Sul</td>\n",
              "      <td>Norte Pioneiro Paranaense</td>\n",
              "      <td>24910,49</td>\n",
              "    </tr>\n",
              "    <tr>\n",
              "      <th>110799</th>\n",
              "      <td>PR</td>\n",
              "      <td>santo antonio da platina</td>\n",
              "      <td>19/11/2020</td>\n",
              "      <td>24</td>\n",
              "      <td>1</td>\n",
              "      <td>-23.2959</td>\n",
              "      <td>-50.0815</td>\n",
              "      <td>143.500098</td>\n",
              "      <td>Sul</td>\n",
              "      <td>Norte Pioneiro Paranaense</td>\n",
              "      <td>24910,49</td>\n",
              "    </tr>\n",
              "    <tr>\n",
              "      <th>110800</th>\n",
              "      <td>PR</td>\n",
              "      <td>santo antonio do caiua</td>\n",
              "      <td>23/04/2020</td>\n",
              "      <td>1</td>\n",
              "      <td>1</td>\n",
              "      <td>-22.7351</td>\n",
              "      <td>-52.3440</td>\n",
              "      <td>0.000000</td>\n",
              "      <td>Sul</td>\n",
              "      <td>Noroeste Paranaense</td>\n",
              "      <td>19129,99</td>\n",
              "    </tr>\n",
              "    <tr>\n",
              "      <th>110801</th>\n",
              "      <td>PR</td>\n",
              "      <td>santo antonio do sudoeste</td>\n",
              "      <td>12/07/2020</td>\n",
              "      <td>4</td>\n",
              "      <td>1</td>\n",
              "      <td>-26.0737</td>\n",
              "      <td>-53.7251</td>\n",
              "      <td>49.588416</td>\n",
              "      <td>Sul</td>\n",
              "      <td>Sudoeste Paranaense</td>\n",
              "      <td>25160,4</td>\n",
              "    </tr>\n",
              "  </tbody>\n",
              "</table>\n",
              "<p>110802 rows × 11 columns</p>\n",
              "</div>"
            ],
            "text/plain": [
              "       estado                  municipio  ...                mesorregiao       pib\n",
              "0          RO      alta floresta d oeste  ...          Leste Rondoniense  19611,75\n",
              "1          RO      alta floresta d oeste  ...          Leste Rondoniense  19611,75\n",
              "2          RO      alta floresta d oeste  ...          Leste Rondoniense  19611,75\n",
              "3          RO      alta floresta d oeste  ...          Leste Rondoniense  19611,75\n",
              "4          RO      alta floresta d oeste  ...          Leste Rondoniense  19611,75\n",
              "...       ...                        ...  ...                        ...       ...\n",
              "110797     PR   santo antonio da platina  ...  Norte Pioneiro Paranaense  24910,49\n",
              "110798     PR   santo antonio da platina  ...  Norte Pioneiro Paranaense  24910,49\n",
              "110799     PR   santo antonio da platina  ...  Norte Pioneiro Paranaense  24910,49\n",
              "110800     PR     santo antonio do caiua  ...        Noroeste Paranaense  19129,99\n",
              "110801     PR  santo antonio do sudoeste  ...        Sudoeste Paranaense   25160,4\n",
              "\n",
              "[110802 rows x 11 columns]"
            ]
          },
          "metadata": {
            "tags": []
          },
          "execution_count": 313
        }
      ]
    },
    {
      "cell_type": "code",
      "metadata": {
        "id": "hwDXt1--I7DI"
      },
      "source": [
        ""
      ],
      "execution_count": 313,
      "outputs": []
    },
    {
      "cell_type": "code",
      "metadata": {
        "id": "GwDqhFb_I7Ka"
      },
      "source": [
        ""
      ],
      "execution_count": 313,
      "outputs": []
    },
    {
      "cell_type": "code",
      "metadata": {
        "colab": {
          "base_uri": "https://localhost:8080/",
          "height": 438
        },
        "id": "GUNuZN7rcAZC",
        "outputId": "74435679-1489-4776-8a2b-01895d7f7c03"
      },
      "source": [
        "df_respirad"
      ],
      "execution_count": 314,
      "outputs": [
        {
          "output_type": "execute_result",
          "data": {
            "text/html": [
              "<div>\n",
              "<style scoped>\n",
              "    .dataframe tbody tr th:only-of-type {\n",
              "        vertical-align: middle;\n",
              "    }\n",
              "\n",
              "    .dataframe tbody tr th {\n",
              "        vertical-align: top;\n",
              "    }\n",
              "\n",
              "    .dataframe thead th {\n",
              "        text-align: right;\n",
              "    }\n",
              "</style>\n",
              "<table border=\"1\" class=\"dataframe\">\n",
              "  <thead>\n",
              "    <tr style=\"text-align: right;\">\n",
              "      <th></th>\n",
              "      <th>OBJECTID</th>\n",
              "      <th>Codigo_Municipio</th>\n",
              "      <th>Nome_municipio</th>\n",
              "      <th>Pop_Total</th>\n",
              "      <th>Total_Respiradores</th>\n",
              "      <th>Respiradores_100mil_hab_Ind</th>\n",
              "      <th>Respiradores_SUS_100mil_hab_Ind</th>\n",
              "      <th>Total_SUS_Respiradores</th>\n",
              "      <th>Shape__Area</th>\n",
              "      <th>Shape__Length</th>\n",
              "      <th>P_Respiradores_SUS</th>\n",
              "    </tr>\n",
              "  </thead>\n",
              "  <tbody>\n",
              "    <tr>\n",
              "      <th>0</th>\n",
              "      <td>1</td>\n",
              "      <td>5200050</td>\n",
              "      <td>Abadia de Goiás</td>\n",
              "      <td>8773</td>\n",
              "      <td>0</td>\n",
              "      <td>0.000000</td>\n",
              "      <td>0.000000</td>\n",
              "      <td>0</td>\n",
              "      <td>0.012482</td>\n",
              "      <td>0.591110</td>\n",
              "      <td>0.0</td>\n",
              "    </tr>\n",
              "    <tr>\n",
              "      <th>1</th>\n",
              "      <td>2</td>\n",
              "      <td>3100104</td>\n",
              "      <td>Abadia dos Dourados</td>\n",
              "      <td>6989</td>\n",
              "      <td>0</td>\n",
              "      <td>0.000000</td>\n",
              "      <td>0.000000</td>\n",
              "      <td>0</td>\n",
              "      <td>0.075314</td>\n",
              "      <td>1.959124</td>\n",
              "      <td>0.0</td>\n",
              "    </tr>\n",
              "    <tr>\n",
              "      <th>2</th>\n",
              "      <td>3</td>\n",
              "      <td>5200100</td>\n",
              "      <td>Abadiânia</td>\n",
              "      <td>20042</td>\n",
              "      <td>0</td>\n",
              "      <td>0.000000</td>\n",
              "      <td>0.000000</td>\n",
              "      <td>0</td>\n",
              "      <td>0.088320</td>\n",
              "      <td>1.811350</td>\n",
              "      <td>0.0</td>\n",
              "    </tr>\n",
              "    <tr>\n",
              "      <th>3</th>\n",
              "      <td>4</td>\n",
              "      <td>3100203</td>\n",
              "      <td>Abaeté</td>\n",
              "      <td>23237</td>\n",
              "      <td>2</td>\n",
              "      <td>8.606963</td>\n",
              "      <td>8.606963</td>\n",
              "      <td>2</td>\n",
              "      <td>0.155999</td>\n",
              "      <td>2.434613</td>\n",
              "      <td>100.0</td>\n",
              "    </tr>\n",
              "    <tr>\n",
              "      <th>4</th>\n",
              "      <td>5</td>\n",
              "      <td>1500107</td>\n",
              "      <td>Abaetetuba</td>\n",
              "      <td>157698</td>\n",
              "      <td>10</td>\n",
              "      <td>6.341235</td>\n",
              "      <td>5.707111</td>\n",
              "      <td>9</td>\n",
              "      <td>0.130889</td>\n",
              "      <td>1.829539</td>\n",
              "      <td>90.0</td>\n",
              "    </tr>\n",
              "    <tr>\n",
              "      <th>...</th>\n",
              "      <td>...</td>\n",
              "      <td>...</td>\n",
              "      <td>...</td>\n",
              "      <td>...</td>\n",
              "      <td>...</td>\n",
              "      <td>...</td>\n",
              "      <td>...</td>\n",
              "      <td>...</td>\n",
              "      <td>...</td>\n",
              "      <td>...</td>\n",
              "      <td>...</td>\n",
              "    </tr>\n",
              "    <tr>\n",
              "      <th>5565</th>\n",
              "      <td>5566</td>\n",
              "      <td>2933604</td>\n",
              "      <td>Xique-Xique</td>\n",
              "      <td>46483</td>\n",
              "      <td>1</td>\n",
              "      <td>2.151324</td>\n",
              "      <td>2.151324</td>\n",
              "      <td>1</td>\n",
              "      <td>0.420182</td>\n",
              "      <td>4.805814</td>\n",
              "      <td>100.0</td>\n",
              "    </tr>\n",
              "    <tr>\n",
              "      <th>5566</th>\n",
              "      <td>5567</td>\n",
              "      <td>2517407</td>\n",
              "      <td>Zabelê</td>\n",
              "      <td>2240</td>\n",
              "      <td>0</td>\n",
              "      <td>0.000000</td>\n",
              "      <td>0.000000</td>\n",
              "      <td>0</td>\n",
              "      <td>0.008974</td>\n",
              "      <td>0.444401</td>\n",
              "      <td>0.0</td>\n",
              "    </tr>\n",
              "    <tr>\n",
              "      <th>5567</th>\n",
              "      <td>5568</td>\n",
              "      <td>3557154</td>\n",
              "      <td>Zacarias</td>\n",
              "      <td>2718</td>\n",
              "      <td>0</td>\n",
              "      <td>0.000000</td>\n",
              "      <td>0.000000</td>\n",
              "      <td>0</td>\n",
              "      <td>0.027740</td>\n",
              "      <td>0.773112</td>\n",
              "      <td>0.0</td>\n",
              "    </tr>\n",
              "    <tr>\n",
              "      <th>5568</th>\n",
              "      <td>5569</td>\n",
              "      <td>2114007</td>\n",
              "      <td>Zé Doca</td>\n",
              "      <td>51714</td>\n",
              "      <td>1</td>\n",
              "      <td>1.933712</td>\n",
              "      <td>1.933712</td>\n",
              "      <td>1</td>\n",
              "      <td>0.174139</td>\n",
              "      <td>3.058613</td>\n",
              "      <td>100.0</td>\n",
              "    </tr>\n",
              "    <tr>\n",
              "      <th>5569</th>\n",
              "      <td>5570</td>\n",
              "      <td>4219853</td>\n",
              "      <td>Zortéa</td>\n",
              "      <td>3363</td>\n",
              "      <td>0</td>\n",
              "      <td>0.000000</td>\n",
              "      <td>0.000000</td>\n",
              "      <td>0</td>\n",
              "      <td>0.017323</td>\n",
              "      <td>0.907243</td>\n",
              "      <td>0.0</td>\n",
              "    </tr>\n",
              "  </tbody>\n",
              "</table>\n",
              "<p>5570 rows × 11 columns</p>\n",
              "</div>"
            ],
            "text/plain": [
              "      OBJECTID  Codigo_Municipio  ... Shape__Length  P_Respiradores_SUS\n",
              "0            1           5200050  ...      0.591110                 0.0\n",
              "1            2           3100104  ...      1.959124                 0.0\n",
              "2            3           5200100  ...      1.811350                 0.0\n",
              "3            4           3100203  ...      2.434613               100.0\n",
              "4            5           1500107  ...      1.829539                90.0\n",
              "...        ...               ...  ...           ...                 ...\n",
              "5565      5566           2933604  ...      4.805814               100.0\n",
              "5566      5567           2517407  ...      0.444401                 0.0\n",
              "5567      5568           3557154  ...      0.773112                 0.0\n",
              "5568      5569           2114007  ...      3.058613               100.0\n",
              "5569      5570           4219853  ...      0.907243                 0.0\n",
              "\n",
              "[5570 rows x 11 columns]"
            ]
          },
          "metadata": {
            "tags": []
          },
          "execution_count": 314
        }
      ]
    },
    {
      "cell_type": "code",
      "metadata": {
        "id": "gFgPzJgjiq6d"
      },
      "source": [
        ""
      ],
      "execution_count": 314,
      "outputs": []
    },
    {
      "cell_type": "code",
      "metadata": {
        "id": "ALbdrsJ8iq-F"
      },
      "source": [
        "df_respirad['Nome_municipio'] = df_respirad['Nome_municipio'].str.normalize('NFKD').str.encode('ASCII', errors='ignore').str.decode('ASCII')\n",
        "df_respirad['Nome_municipio'] = df_respirad['Nome_municipio'].str.replace('[-,_]',' ')\n",
        "df_respirad['Nome_municipio'] = df_respirad['Nome_municipio'].str.replace(\"'\",' ')\n",
        "df_respirad['Nome_municipio'] = df_respirad['Nome_municipio'].str.lower()"
      ],
      "execution_count": 315,
      "outputs": []
    },
    {
      "cell_type": "code",
      "metadata": {
        "id": "RbhjWwOkjodo"
      },
      "source": [
        ""
      ],
      "execution_count": 315,
      "outputs": []
    },
    {
      "cell_type": "code",
      "metadata": {
        "id": "BaBXJZp2FV8N"
      },
      "source": [
        "df_respirad = df_respirad[['Nome_municipio','Respiradores_100mil_hab_Ind']]"
      ],
      "execution_count": 316,
      "outputs": []
    },
    {
      "cell_type": "code",
      "metadata": {
        "colab": {
          "base_uri": "https://localhost:8080/",
          "height": 402
        },
        "id": "6EkrmVECFWGP",
        "outputId": "e266cf2d-d7a4-46aa-8fcf-7dbf2eb3f323"
      },
      "source": [
        "df_respirad"
      ],
      "execution_count": 317,
      "outputs": [
        {
          "output_type": "execute_result",
          "data": {
            "text/html": [
              "<div>\n",
              "<style scoped>\n",
              "    .dataframe tbody tr th:only-of-type {\n",
              "        vertical-align: middle;\n",
              "    }\n",
              "\n",
              "    .dataframe tbody tr th {\n",
              "        vertical-align: top;\n",
              "    }\n",
              "\n",
              "    .dataframe thead th {\n",
              "        text-align: right;\n",
              "    }\n",
              "</style>\n",
              "<table border=\"1\" class=\"dataframe\">\n",
              "  <thead>\n",
              "    <tr style=\"text-align: right;\">\n",
              "      <th></th>\n",
              "      <th>Nome_municipio</th>\n",
              "      <th>Respiradores_100mil_hab_Ind</th>\n",
              "    </tr>\n",
              "  </thead>\n",
              "  <tbody>\n",
              "    <tr>\n",
              "      <th>0</th>\n",
              "      <td>abadia de goias</td>\n",
              "      <td>0.000000</td>\n",
              "    </tr>\n",
              "    <tr>\n",
              "      <th>1</th>\n",
              "      <td>abadia dos dourados</td>\n",
              "      <td>0.000000</td>\n",
              "    </tr>\n",
              "    <tr>\n",
              "      <th>2</th>\n",
              "      <td>abadiania</td>\n",
              "      <td>0.000000</td>\n",
              "    </tr>\n",
              "    <tr>\n",
              "      <th>3</th>\n",
              "      <td>abaete</td>\n",
              "      <td>8.606963</td>\n",
              "    </tr>\n",
              "    <tr>\n",
              "      <th>4</th>\n",
              "      <td>abaetetuba</td>\n",
              "      <td>6.341235</td>\n",
              "    </tr>\n",
              "    <tr>\n",
              "      <th>...</th>\n",
              "      <td>...</td>\n",
              "      <td>...</td>\n",
              "    </tr>\n",
              "    <tr>\n",
              "      <th>5565</th>\n",
              "      <td>xique xique</td>\n",
              "      <td>2.151324</td>\n",
              "    </tr>\n",
              "    <tr>\n",
              "      <th>5566</th>\n",
              "      <td>zabele</td>\n",
              "      <td>0.000000</td>\n",
              "    </tr>\n",
              "    <tr>\n",
              "      <th>5567</th>\n",
              "      <td>zacarias</td>\n",
              "      <td>0.000000</td>\n",
              "    </tr>\n",
              "    <tr>\n",
              "      <th>5568</th>\n",
              "      <td>ze doca</td>\n",
              "      <td>1.933712</td>\n",
              "    </tr>\n",
              "    <tr>\n",
              "      <th>5569</th>\n",
              "      <td>zortea</td>\n",
              "      <td>0.000000</td>\n",
              "    </tr>\n",
              "  </tbody>\n",
              "</table>\n",
              "<p>5570 rows × 2 columns</p>\n",
              "</div>"
            ],
            "text/plain": [
              "           Nome_municipio  Respiradores_100mil_hab_Ind\n",
              "0         abadia de goias                     0.000000\n",
              "1     abadia dos dourados                     0.000000\n",
              "2               abadiania                     0.000000\n",
              "3                  abaete                     8.606963\n",
              "4              abaetetuba                     6.341235\n",
              "...                   ...                          ...\n",
              "5565          xique xique                     2.151324\n",
              "5566               zabele                     0.000000\n",
              "5567             zacarias                     0.000000\n",
              "5568              ze doca                     1.933712\n",
              "5569               zortea                     0.000000\n",
              "\n",
              "[5570 rows x 2 columns]"
            ]
          },
          "metadata": {
            "tags": []
          },
          "execution_count": 317
        }
      ]
    },
    {
      "cell_type": "code",
      "metadata": {
        "id": "AYNaQEpwFm96"
      },
      "source": [
        "df_respirad.rename(columns={'Nome_municipio':'municipio', 'Respiradores_100mil_hab_Ind':'respiradCemMil' }, inplace=True)"
      ],
      "execution_count": 318,
      "outputs": []
    },
    {
      "cell_type": "code",
      "metadata": {
        "colab": {
          "base_uri": "https://localhost:8080/",
          "height": 402
        },
        "id": "Vf0h7_EsFnAu",
        "outputId": "c4b273cb-c855-4655-d36e-8af388a9dd24"
      },
      "source": [
        "df_respirad"
      ],
      "execution_count": 319,
      "outputs": [
        {
          "output_type": "execute_result",
          "data": {
            "text/html": [
              "<div>\n",
              "<style scoped>\n",
              "    .dataframe tbody tr th:only-of-type {\n",
              "        vertical-align: middle;\n",
              "    }\n",
              "\n",
              "    .dataframe tbody tr th {\n",
              "        vertical-align: top;\n",
              "    }\n",
              "\n",
              "    .dataframe thead th {\n",
              "        text-align: right;\n",
              "    }\n",
              "</style>\n",
              "<table border=\"1\" class=\"dataframe\">\n",
              "  <thead>\n",
              "    <tr style=\"text-align: right;\">\n",
              "      <th></th>\n",
              "      <th>municipio</th>\n",
              "      <th>respiradCemMil</th>\n",
              "    </tr>\n",
              "  </thead>\n",
              "  <tbody>\n",
              "    <tr>\n",
              "      <th>0</th>\n",
              "      <td>abadia de goias</td>\n",
              "      <td>0.000000</td>\n",
              "    </tr>\n",
              "    <tr>\n",
              "      <th>1</th>\n",
              "      <td>abadia dos dourados</td>\n",
              "      <td>0.000000</td>\n",
              "    </tr>\n",
              "    <tr>\n",
              "      <th>2</th>\n",
              "      <td>abadiania</td>\n",
              "      <td>0.000000</td>\n",
              "    </tr>\n",
              "    <tr>\n",
              "      <th>3</th>\n",
              "      <td>abaete</td>\n",
              "      <td>8.606963</td>\n",
              "    </tr>\n",
              "    <tr>\n",
              "      <th>4</th>\n",
              "      <td>abaetetuba</td>\n",
              "      <td>6.341235</td>\n",
              "    </tr>\n",
              "    <tr>\n",
              "      <th>...</th>\n",
              "      <td>...</td>\n",
              "      <td>...</td>\n",
              "    </tr>\n",
              "    <tr>\n",
              "      <th>5565</th>\n",
              "      <td>xique xique</td>\n",
              "      <td>2.151324</td>\n",
              "    </tr>\n",
              "    <tr>\n",
              "      <th>5566</th>\n",
              "      <td>zabele</td>\n",
              "      <td>0.000000</td>\n",
              "    </tr>\n",
              "    <tr>\n",
              "      <th>5567</th>\n",
              "      <td>zacarias</td>\n",
              "      <td>0.000000</td>\n",
              "    </tr>\n",
              "    <tr>\n",
              "      <th>5568</th>\n",
              "      <td>ze doca</td>\n",
              "      <td>1.933712</td>\n",
              "    </tr>\n",
              "    <tr>\n",
              "      <th>5569</th>\n",
              "      <td>zortea</td>\n",
              "      <td>0.000000</td>\n",
              "    </tr>\n",
              "  </tbody>\n",
              "</table>\n",
              "<p>5570 rows × 2 columns</p>\n",
              "</div>"
            ],
            "text/plain": [
              "                municipio  respiradCemMil\n",
              "0         abadia de goias        0.000000\n",
              "1     abadia dos dourados        0.000000\n",
              "2               abadiania        0.000000\n",
              "3                  abaete        8.606963\n",
              "4              abaetetuba        6.341235\n",
              "...                   ...             ...\n",
              "5565          xique xique        2.151324\n",
              "5566               zabele        0.000000\n",
              "5567             zacarias        0.000000\n",
              "5568              ze doca        1.933712\n",
              "5569               zortea        0.000000\n",
              "\n",
              "[5570 rows x 2 columns]"
            ]
          },
          "metadata": {
            "tags": []
          },
          "execution_count": 319
        }
      ]
    },
    {
      "cell_type": "code",
      "metadata": {
        "id": "3HueVHFgFnDy"
      },
      "source": [
        "df_respirad['respiradCemMil'] =  df_respirad['respiradCemMil'].astype(int)"
      ],
      "execution_count": 320,
      "outputs": []
    },
    {
      "cell_type": "code",
      "metadata": {
        "colab": {
          "base_uri": "https://localhost:8080/",
          "height": 402
        },
        "id": "JLsZ6K4TFnG_",
        "outputId": "59e21d62-7c14-4bf9-d040-afbd14784f8f"
      },
      "source": [
        "df_respirad"
      ],
      "execution_count": 321,
      "outputs": [
        {
          "output_type": "execute_result",
          "data": {
            "text/html": [
              "<div>\n",
              "<style scoped>\n",
              "    .dataframe tbody tr th:only-of-type {\n",
              "        vertical-align: middle;\n",
              "    }\n",
              "\n",
              "    .dataframe tbody tr th {\n",
              "        vertical-align: top;\n",
              "    }\n",
              "\n",
              "    .dataframe thead th {\n",
              "        text-align: right;\n",
              "    }\n",
              "</style>\n",
              "<table border=\"1\" class=\"dataframe\">\n",
              "  <thead>\n",
              "    <tr style=\"text-align: right;\">\n",
              "      <th></th>\n",
              "      <th>municipio</th>\n",
              "      <th>respiradCemMil</th>\n",
              "    </tr>\n",
              "  </thead>\n",
              "  <tbody>\n",
              "    <tr>\n",
              "      <th>0</th>\n",
              "      <td>abadia de goias</td>\n",
              "      <td>0</td>\n",
              "    </tr>\n",
              "    <tr>\n",
              "      <th>1</th>\n",
              "      <td>abadia dos dourados</td>\n",
              "      <td>0</td>\n",
              "    </tr>\n",
              "    <tr>\n",
              "      <th>2</th>\n",
              "      <td>abadiania</td>\n",
              "      <td>0</td>\n",
              "    </tr>\n",
              "    <tr>\n",
              "      <th>3</th>\n",
              "      <td>abaete</td>\n",
              "      <td>8</td>\n",
              "    </tr>\n",
              "    <tr>\n",
              "      <th>4</th>\n",
              "      <td>abaetetuba</td>\n",
              "      <td>6</td>\n",
              "    </tr>\n",
              "    <tr>\n",
              "      <th>...</th>\n",
              "      <td>...</td>\n",
              "      <td>...</td>\n",
              "    </tr>\n",
              "    <tr>\n",
              "      <th>5565</th>\n",
              "      <td>xique xique</td>\n",
              "      <td>2</td>\n",
              "    </tr>\n",
              "    <tr>\n",
              "      <th>5566</th>\n",
              "      <td>zabele</td>\n",
              "      <td>0</td>\n",
              "    </tr>\n",
              "    <tr>\n",
              "      <th>5567</th>\n",
              "      <td>zacarias</td>\n",
              "      <td>0</td>\n",
              "    </tr>\n",
              "    <tr>\n",
              "      <th>5568</th>\n",
              "      <td>ze doca</td>\n",
              "      <td>1</td>\n",
              "    </tr>\n",
              "    <tr>\n",
              "      <th>5569</th>\n",
              "      <td>zortea</td>\n",
              "      <td>0</td>\n",
              "    </tr>\n",
              "  </tbody>\n",
              "</table>\n",
              "<p>5570 rows × 2 columns</p>\n",
              "</div>"
            ],
            "text/plain": [
              "                municipio  respiradCemMil\n",
              "0         abadia de goias               0\n",
              "1     abadia dos dourados               0\n",
              "2               abadiania               0\n",
              "3                  abaete               8\n",
              "4              abaetetuba               6\n",
              "...                   ...             ...\n",
              "5565          xique xique               2\n",
              "5566               zabele               0\n",
              "5567             zacarias               0\n",
              "5568              ze doca               1\n",
              "5569               zortea               0\n",
              "\n",
              "[5570 rows x 2 columns]"
            ]
          },
          "metadata": {
            "tags": []
          },
          "execution_count": 321
        }
      ]
    },
    {
      "cell_type": "code",
      "metadata": {
        "id": "tjeVLQ0sFnJa"
      },
      "source": [
        ""
      ],
      "execution_count": 321,
      "outputs": []
    },
    {
      "cell_type": "code",
      "metadata": {
        "id": "r2RcVtLCGObF"
      },
      "source": [
        "df_covid = pd.merge(df_covid, df_respirad,on='municipio', how='inner')"
      ],
      "execution_count": 322,
      "outputs": []
    },
    {
      "cell_type": "code",
      "metadata": {
        "colab": {
          "base_uri": "https://localhost:8080/",
          "height": 402
        },
        "id": "fQcvb3OyGOes",
        "outputId": "0f39616f-8b82-4ebe-8036-c2f9e54e864b"
      },
      "source": [
        "df_covid"
      ],
      "execution_count": 323,
      "outputs": [
        {
          "output_type": "execute_result",
          "data": {
            "text/html": [
              "<div>\n",
              "<style scoped>\n",
              "    .dataframe tbody tr th:only-of-type {\n",
              "        vertical-align: middle;\n",
              "    }\n",
              "\n",
              "    .dataframe tbody tr th {\n",
              "        vertical-align: top;\n",
              "    }\n",
              "\n",
              "    .dataframe thead th {\n",
              "        text-align: right;\n",
              "    }\n",
              "</style>\n",
              "<table border=\"1\" class=\"dataframe\">\n",
              "  <thead>\n",
              "    <tr style=\"text-align: right;\">\n",
              "      <th></th>\n",
              "      <th>estado</th>\n",
              "      <th>municipio</th>\n",
              "      <th>data</th>\n",
              "      <th>casos</th>\n",
              "      <th>obitos</th>\n",
              "      <th>lat</th>\n",
              "      <th>long</th>\n",
              "      <th>medicosCemMil</th>\n",
              "      <th>regiaopais</th>\n",
              "      <th>mesorregiao</th>\n",
              "      <th>pib</th>\n",
              "      <th>respiradCemMil</th>\n",
              "    </tr>\n",
              "  </thead>\n",
              "  <tbody>\n",
              "    <tr>\n",
              "      <th>0</th>\n",
              "      <td>RO</td>\n",
              "      <td>alta floresta d oeste</td>\n",
              "      <td>13/07/2020</td>\n",
              "      <td>1</td>\n",
              "      <td>1</td>\n",
              "      <td>-11.9283</td>\n",
              "      <td>-61.9953</td>\n",
              "      <td>91.523208</td>\n",
              "      <td>Norte</td>\n",
              "      <td>Leste Rondoniense</td>\n",
              "      <td>19611,75</td>\n",
              "      <td>0</td>\n",
              "    </tr>\n",
              "    <tr>\n",
              "      <th>1</th>\n",
              "      <td>RO</td>\n",
              "      <td>alta floresta d oeste</td>\n",
              "      <td>29/07/2020</td>\n",
              "      <td>18</td>\n",
              "      <td>1</td>\n",
              "      <td>-11.9283</td>\n",
              "      <td>-61.9953</td>\n",
              "      <td>91.523208</td>\n",
              "      <td>Norte</td>\n",
              "      <td>Leste Rondoniense</td>\n",
              "      <td>19611,75</td>\n",
              "      <td>0</td>\n",
              "    </tr>\n",
              "    <tr>\n",
              "      <th>2</th>\n",
              "      <td>RO</td>\n",
              "      <td>alta floresta d oeste</td>\n",
              "      <td>05/08/2020</td>\n",
              "      <td>8</td>\n",
              "      <td>1</td>\n",
              "      <td>-11.9283</td>\n",
              "      <td>-61.9953</td>\n",
              "      <td>91.523208</td>\n",
              "      <td>Norte</td>\n",
              "      <td>Leste Rondoniense</td>\n",
              "      <td>19611,75</td>\n",
              "      <td>0</td>\n",
              "    </tr>\n",
              "    <tr>\n",
              "      <th>3</th>\n",
              "      <td>RO</td>\n",
              "      <td>alta floresta d oeste</td>\n",
              "      <td>13/08/2020</td>\n",
              "      <td>1</td>\n",
              "      <td>1</td>\n",
              "      <td>-11.9283</td>\n",
              "      <td>-61.9953</td>\n",
              "      <td>91.523208</td>\n",
              "      <td>Norte</td>\n",
              "      <td>Leste Rondoniense</td>\n",
              "      <td>19611,75</td>\n",
              "      <td>0</td>\n",
              "    </tr>\n",
              "    <tr>\n",
              "      <th>4</th>\n",
              "      <td>RO</td>\n",
              "      <td>alta floresta d oeste</td>\n",
              "      <td>18/08/2020</td>\n",
              "      <td>3</td>\n",
              "      <td>1</td>\n",
              "      <td>-11.9283</td>\n",
              "      <td>-61.9953</td>\n",
              "      <td>91.523208</td>\n",
              "      <td>Norte</td>\n",
              "      <td>Leste Rondoniense</td>\n",
              "      <td>19611,75</td>\n",
              "      <td>0</td>\n",
              "    </tr>\n",
              "    <tr>\n",
              "      <th>...</th>\n",
              "      <td>...</td>\n",
              "      <td>...</td>\n",
              "      <td>...</td>\n",
              "      <td>...</td>\n",
              "      <td>...</td>\n",
              "      <td>...</td>\n",
              "      <td>...</td>\n",
              "      <td>...</td>\n",
              "      <td>...</td>\n",
              "      <td>...</td>\n",
              "      <td>...</td>\n",
              "      <td>...</td>\n",
              "    </tr>\n",
              "    <tr>\n",
              "      <th>229133</th>\n",
              "      <td>PR</td>\n",
              "      <td>santo antonio da platina</td>\n",
              "      <td>13/08/2020</td>\n",
              "      <td>1</td>\n",
              "      <td>1</td>\n",
              "      <td>-23.2959</td>\n",
              "      <td>-50.0815</td>\n",
              "      <td>143.500098</td>\n",
              "      <td>Sul</td>\n",
              "      <td>Norte Pioneiro Paranaense</td>\n",
              "      <td>24910,49</td>\n",
              "      <td>17</td>\n",
              "    </tr>\n",
              "    <tr>\n",
              "      <th>229134</th>\n",
              "      <td>PR</td>\n",
              "      <td>santo antonio da platina</td>\n",
              "      <td>30/09/2020</td>\n",
              "      <td>2</td>\n",
              "      <td>1</td>\n",
              "      <td>-23.2959</td>\n",
              "      <td>-50.0815</td>\n",
              "      <td>143.500098</td>\n",
              "      <td>Sul</td>\n",
              "      <td>Norte Pioneiro Paranaense</td>\n",
              "      <td>24910,49</td>\n",
              "      <td>17</td>\n",
              "    </tr>\n",
              "    <tr>\n",
              "      <th>229135</th>\n",
              "      <td>PR</td>\n",
              "      <td>santo antonio da platina</td>\n",
              "      <td>19/11/2020</td>\n",
              "      <td>24</td>\n",
              "      <td>1</td>\n",
              "      <td>-23.2959</td>\n",
              "      <td>-50.0815</td>\n",
              "      <td>143.500098</td>\n",
              "      <td>Sul</td>\n",
              "      <td>Norte Pioneiro Paranaense</td>\n",
              "      <td>24910,49</td>\n",
              "      <td>17</td>\n",
              "    </tr>\n",
              "    <tr>\n",
              "      <th>229136</th>\n",
              "      <td>PR</td>\n",
              "      <td>santo antonio do caiua</td>\n",
              "      <td>23/04/2020</td>\n",
              "      <td>1</td>\n",
              "      <td>1</td>\n",
              "      <td>-22.7351</td>\n",
              "      <td>-52.3440</td>\n",
              "      <td>0.000000</td>\n",
              "      <td>Sul</td>\n",
              "      <td>Noroeste Paranaense</td>\n",
              "      <td>19129,99</td>\n",
              "      <td>0</td>\n",
              "    </tr>\n",
              "    <tr>\n",
              "      <th>229137</th>\n",
              "      <td>PR</td>\n",
              "      <td>santo antonio do sudoeste</td>\n",
              "      <td>12/07/2020</td>\n",
              "      <td>4</td>\n",
              "      <td>1</td>\n",
              "      <td>-26.0737</td>\n",
              "      <td>-53.7251</td>\n",
              "      <td>49.588416</td>\n",
              "      <td>Sul</td>\n",
              "      <td>Sudoeste Paranaense</td>\n",
              "      <td>25160,4</td>\n",
              "      <td>9</td>\n",
              "    </tr>\n",
              "  </tbody>\n",
              "</table>\n",
              "<p>229138 rows × 12 columns</p>\n",
              "</div>"
            ],
            "text/plain": [
              "       estado                  municipio  ...       pib  respiradCemMil\n",
              "0          RO      alta floresta d oeste  ...  19611,75               0\n",
              "1          RO      alta floresta d oeste  ...  19611,75               0\n",
              "2          RO      alta floresta d oeste  ...  19611,75               0\n",
              "3          RO      alta floresta d oeste  ...  19611,75               0\n",
              "4          RO      alta floresta d oeste  ...  19611,75               0\n",
              "...       ...                        ...  ...       ...             ...\n",
              "229133     PR   santo antonio da platina  ...  24910,49              17\n",
              "229134     PR   santo antonio da platina  ...  24910,49              17\n",
              "229135     PR   santo antonio da platina  ...  24910,49              17\n",
              "229136     PR     santo antonio do caiua  ...  19129,99               0\n",
              "229137     PR  santo antonio do sudoeste  ...   25160,4               9\n",
              "\n",
              "[229138 rows x 12 columns]"
            ]
          },
          "metadata": {
            "tags": []
          },
          "execution_count": 323
        }
      ]
    },
    {
      "cell_type": "code",
      "metadata": {
        "id": "ZX9BMaGqJbJA"
      },
      "source": [
        ""
      ],
      "execution_count": 323,
      "outputs": []
    },
    {
      "cell_type": "code",
      "metadata": {
        "id": "t1X4KZbaJbMA"
      },
      "source": [
        "df_covid['medicosCemMil'] = df_covid['medicosCemMil'].astype(float).round(2)"
      ],
      "execution_count": 324,
      "outputs": []
    },
    {
      "cell_type": "code",
      "metadata": {
        "colab": {
          "base_uri": "https://localhost:8080/",
          "height": 570
        },
        "id": "tNJQr8oIJkUg",
        "outputId": "686df4b7-19a9-4915-e7a9-94b072532f88"
      },
      "source": [
        "df_covid"
      ],
      "execution_count": 325,
      "outputs": [
        {
          "output_type": "execute_result",
          "data": {
            "text/html": [
              "<div>\n",
              "<style scoped>\n",
              "    .dataframe tbody tr th:only-of-type {\n",
              "        vertical-align: middle;\n",
              "    }\n",
              "\n",
              "    .dataframe tbody tr th {\n",
              "        vertical-align: top;\n",
              "    }\n",
              "\n",
              "    .dataframe thead th {\n",
              "        text-align: right;\n",
              "    }\n",
              "</style>\n",
              "<table border=\"1\" class=\"dataframe\">\n",
              "  <thead>\n",
              "    <tr style=\"text-align: right;\">\n",
              "      <th></th>\n",
              "      <th>estado</th>\n",
              "      <th>municipio</th>\n",
              "      <th>data</th>\n",
              "      <th>casos</th>\n",
              "      <th>obitos</th>\n",
              "      <th>lat</th>\n",
              "      <th>long</th>\n",
              "      <th>medicosCemMil</th>\n",
              "      <th>regiaopais</th>\n",
              "      <th>mesorregiao</th>\n",
              "      <th>pib</th>\n",
              "      <th>respiradCemMil</th>\n",
              "    </tr>\n",
              "  </thead>\n",
              "  <tbody>\n",
              "    <tr>\n",
              "      <th>0</th>\n",
              "      <td>RO</td>\n",
              "      <td>alta floresta d oeste</td>\n",
              "      <td>13/07/2020</td>\n",
              "      <td>1</td>\n",
              "      <td>1</td>\n",
              "      <td>-11.9283</td>\n",
              "      <td>-61.9953</td>\n",
              "      <td>91.52</td>\n",
              "      <td>Norte</td>\n",
              "      <td>Leste Rondoniense</td>\n",
              "      <td>19611,75</td>\n",
              "      <td>0</td>\n",
              "    </tr>\n",
              "    <tr>\n",
              "      <th>1</th>\n",
              "      <td>RO</td>\n",
              "      <td>alta floresta d oeste</td>\n",
              "      <td>29/07/2020</td>\n",
              "      <td>18</td>\n",
              "      <td>1</td>\n",
              "      <td>-11.9283</td>\n",
              "      <td>-61.9953</td>\n",
              "      <td>91.52</td>\n",
              "      <td>Norte</td>\n",
              "      <td>Leste Rondoniense</td>\n",
              "      <td>19611,75</td>\n",
              "      <td>0</td>\n",
              "    </tr>\n",
              "    <tr>\n",
              "      <th>2</th>\n",
              "      <td>RO</td>\n",
              "      <td>alta floresta d oeste</td>\n",
              "      <td>05/08/2020</td>\n",
              "      <td>8</td>\n",
              "      <td>1</td>\n",
              "      <td>-11.9283</td>\n",
              "      <td>-61.9953</td>\n",
              "      <td>91.52</td>\n",
              "      <td>Norte</td>\n",
              "      <td>Leste Rondoniense</td>\n",
              "      <td>19611,75</td>\n",
              "      <td>0</td>\n",
              "    </tr>\n",
              "    <tr>\n",
              "      <th>3</th>\n",
              "      <td>RO</td>\n",
              "      <td>alta floresta d oeste</td>\n",
              "      <td>13/08/2020</td>\n",
              "      <td>1</td>\n",
              "      <td>1</td>\n",
              "      <td>-11.9283</td>\n",
              "      <td>-61.9953</td>\n",
              "      <td>91.52</td>\n",
              "      <td>Norte</td>\n",
              "      <td>Leste Rondoniense</td>\n",
              "      <td>19611,75</td>\n",
              "      <td>0</td>\n",
              "    </tr>\n",
              "    <tr>\n",
              "      <th>4</th>\n",
              "      <td>RO</td>\n",
              "      <td>alta floresta d oeste</td>\n",
              "      <td>18/08/2020</td>\n",
              "      <td>3</td>\n",
              "      <td>1</td>\n",
              "      <td>-11.9283</td>\n",
              "      <td>-61.9953</td>\n",
              "      <td>91.52</td>\n",
              "      <td>Norte</td>\n",
              "      <td>Leste Rondoniense</td>\n",
              "      <td>19611,75</td>\n",
              "      <td>0</td>\n",
              "    </tr>\n",
              "    <tr>\n",
              "      <th>...</th>\n",
              "      <td>...</td>\n",
              "      <td>...</td>\n",
              "      <td>...</td>\n",
              "      <td>...</td>\n",
              "      <td>...</td>\n",
              "      <td>...</td>\n",
              "      <td>...</td>\n",
              "      <td>...</td>\n",
              "      <td>...</td>\n",
              "      <td>...</td>\n",
              "      <td>...</td>\n",
              "      <td>...</td>\n",
              "    </tr>\n",
              "    <tr>\n",
              "      <th>229133</th>\n",
              "      <td>PR</td>\n",
              "      <td>santo antonio da platina</td>\n",
              "      <td>13/08/2020</td>\n",
              "      <td>1</td>\n",
              "      <td>1</td>\n",
              "      <td>-23.2959</td>\n",
              "      <td>-50.0815</td>\n",
              "      <td>143.50</td>\n",
              "      <td>Sul</td>\n",
              "      <td>Norte Pioneiro Paranaense</td>\n",
              "      <td>24910,49</td>\n",
              "      <td>17</td>\n",
              "    </tr>\n",
              "    <tr>\n",
              "      <th>229134</th>\n",
              "      <td>PR</td>\n",
              "      <td>santo antonio da platina</td>\n",
              "      <td>30/09/2020</td>\n",
              "      <td>2</td>\n",
              "      <td>1</td>\n",
              "      <td>-23.2959</td>\n",
              "      <td>-50.0815</td>\n",
              "      <td>143.50</td>\n",
              "      <td>Sul</td>\n",
              "      <td>Norte Pioneiro Paranaense</td>\n",
              "      <td>24910,49</td>\n",
              "      <td>17</td>\n",
              "    </tr>\n",
              "    <tr>\n",
              "      <th>229135</th>\n",
              "      <td>PR</td>\n",
              "      <td>santo antonio da platina</td>\n",
              "      <td>19/11/2020</td>\n",
              "      <td>24</td>\n",
              "      <td>1</td>\n",
              "      <td>-23.2959</td>\n",
              "      <td>-50.0815</td>\n",
              "      <td>143.50</td>\n",
              "      <td>Sul</td>\n",
              "      <td>Norte Pioneiro Paranaense</td>\n",
              "      <td>24910,49</td>\n",
              "      <td>17</td>\n",
              "    </tr>\n",
              "    <tr>\n",
              "      <th>229136</th>\n",
              "      <td>PR</td>\n",
              "      <td>santo antonio do caiua</td>\n",
              "      <td>23/04/2020</td>\n",
              "      <td>1</td>\n",
              "      <td>1</td>\n",
              "      <td>-22.7351</td>\n",
              "      <td>-52.3440</td>\n",
              "      <td>0.00</td>\n",
              "      <td>Sul</td>\n",
              "      <td>Noroeste Paranaense</td>\n",
              "      <td>19129,99</td>\n",
              "      <td>0</td>\n",
              "    </tr>\n",
              "    <tr>\n",
              "      <th>229137</th>\n",
              "      <td>PR</td>\n",
              "      <td>santo antonio do sudoeste</td>\n",
              "      <td>12/07/2020</td>\n",
              "      <td>4</td>\n",
              "      <td>1</td>\n",
              "      <td>-26.0737</td>\n",
              "      <td>-53.7251</td>\n",
              "      <td>49.59</td>\n",
              "      <td>Sul</td>\n",
              "      <td>Sudoeste Paranaense</td>\n",
              "      <td>25160,4</td>\n",
              "      <td>9</td>\n",
              "    </tr>\n",
              "  </tbody>\n",
              "</table>\n",
              "<p>229138 rows × 12 columns</p>\n",
              "</div>"
            ],
            "text/plain": [
              "       estado                  municipio  ...       pib  respiradCemMil\n",
              "0          RO      alta floresta d oeste  ...  19611,75               0\n",
              "1          RO      alta floresta d oeste  ...  19611,75               0\n",
              "2          RO      alta floresta d oeste  ...  19611,75               0\n",
              "3          RO      alta floresta d oeste  ...  19611,75               0\n",
              "4          RO      alta floresta d oeste  ...  19611,75               0\n",
              "...       ...                        ...  ...       ...             ...\n",
              "229133     PR   santo antonio da platina  ...  24910,49              17\n",
              "229134     PR   santo antonio da platina  ...  24910,49              17\n",
              "229135     PR   santo antonio da platina  ...  24910,49              17\n",
              "229136     PR     santo antonio do caiua  ...  19129,99               0\n",
              "229137     PR  santo antonio do sudoeste  ...   25160,4               9\n",
              "\n",
              "[229138 rows x 12 columns]"
            ]
          },
          "metadata": {
            "tags": []
          },
          "execution_count": 325
        }
      ]
    },
    {
      "cell_type": "code",
      "metadata": {
        "id": "6y2QUkrqJ1wR"
      },
      "source": [
        ""
      ],
      "execution_count": null,
      "outputs": []
    },
    {
      "cell_type": "code",
      "metadata": {
        "id": "3TjyahTHJ15s"
      },
      "source": [
        "df_covid.to_csv('/content/drive/MyDrive/Colab Notebooks/covidFinal.csv')"
      ],
      "execution_count": 327,
      "outputs": []
    }
  ]
}